{
 "cells": [
  {
   "attachments": {},
   "cell_type": "markdown",
   "metadata": {},
   "source": [
    "**Data Science in Telco : Data Cleansing**"
   ]
  },
  {
   "attachments": {},
   "cell_type": "markdown",
   "metadata": {},
   "source": [
    "**Start**"
   ]
  },
  {
   "attachments": {},
   "cell_type": "markdown",
   "metadata": {},
   "source": [
    "**Introduction**"
   ]
  },
  {
   "attachments": {},
   "cell_type": "markdown",
   "metadata": {},
   "source": [
    "**1. Latar Belakang**\n",
    "\n",
    "*DQLab Telco merupakan perusahaan Telco yang sudah mempunyai banyak cabang tersebar dimana-mana. Sejak berdiri pada tahun 2019, DQLab Telco konsisten untuk memperhatikan customer experience-nya sehingga tidak akan ditinggalkan pelanggan.*\n",
    "\n",
    "*Walaupun baru berumur 1 tahun lebih sedikit, DQLab Telco sudah mempunyai banyak pelanggan yang beralih langganan ke kompetitor. Pihak management ingin mengurangi jumlah pelanggan yang beralih (churn) dengan menggunakan machine learning.*\n",
    "\n",
    "*Oleh karena itu, tim Data Scientist diminta untuk mempersiapkan data sekaligus membuat model prediksi yang tepat untuk menentukan pelanggan akan berhenti berlangganan (churn) atau tidak.*"
   ]
  },
  {
   "attachments": {},
   "cell_type": "markdown",
   "metadata": {},
   "source": [
    "**2. Tugas dan Langkah**\n",
    "\n",
    "*Sebagai seorang data scientist, **kamu diminta untuk menyiapkan data sebelum dilakukan permodelan.***\n",
    "\n",
    "*Pada tugas kali ini, kamu akan melakukan Data Preprocessing (Data Cleansing) bulan lalu, yakni Juni 2020.*\n",
    "\n",
    "\n",
    "*Langkah yang akan dilakukan adalah :*\n",
    "\n",
    "1. *Mencari ID pelanggan (Nomor telepon) yang valid*\n",
    "2. *Mengatasi data-data yang masih kosong (Missing Values)*\n",
    "3. *Mengatasi Nilai-Nilai Pencilan (Outlier) dari setiap Variable*\n",
    "4. *Menstandardisasi Nilai dari Variable*"
   ]
  },
  {
   "cell_type": "markdown",
   "metadata": {},
   "source": []
  },
  {
   "attachments": {},
   "cell_type": "markdown",
   "metadata": {},
   "source": [
    "**Tahap 1 - Library dan Data yang Digunakan**"
   ]
  },
  {
   "attachments": {},
   "cell_type": "markdown",
   "metadata": {},
   "source": [
    "**A. Library yang Digunakan**\n",
    "\n",
    "*Pada analisis kali ini, akan digunakan beberapa package yang membantu kita dalam melakukan analisis data.*"
   ]
  },
  {
   "attachments": {},
   "cell_type": "markdown",
   "metadata": {},
   "source": [
    "1. **Pandas**\n",
    "\n",
    "    *Pandas (Python for Data Analysis) adalah library Python yang fokus untuk proses analisis data seperti manipulasi data, persiapan data, dan pembersihan data.*\n",
    "\n",
    "    - ***read_csv()** digunakan untuk membaca file csv*\n",
    "    - ***str.match()** digunakan untuk mencocokan dengan karakter tertentu*\n",
    "    - ***drop()** digunakan untuk menghapus*\n",
    "    - ***count()** digunakan untuk menghitung masing-masing variable*\n",
    "    - ***drop_duplicates()** digunakan untuk menghapus data duplicate rows*\n",
    "    - ***fillna()** digunakan untuk mengisi dengan nilai tertentu*\n",
    "    - ***quantile()** digunakan untuk melihat quantile ke tertentu*\n",
    "    - ***mask()** mengganti nilai tertentu jika kondisi memenuhi*\n",
    "    - ***astype()** mengubah tipe data*\n",
    "    - ***value_counts()** digunakan untuk menghitung unik dari kolom*\n",
    "    - ***sort_values()** digunakan untuk sort values*\n",
    "    - ***isnull()** digunakan untuk mendeteksi missing values*\n",
    "    - ***dropna()** digunakan untuk menghapus missing values*\n",
    "    - ***replace()** digunakan untuk mengganti nilai*"
   ]
  },
  {
   "attachments": {},
   "cell_type": "markdown",
   "metadata": {},
   "source": [
    "2. **Matplotlib**\n",
    "\n",
    "    *Matplotlib adalah library Python yang fokus pada visualisasi data seperti membuat plot grafik. Matplotlib dapat digunakan dalam skrip Python, Python dan IPython shell, server aplikasi web, dan beberapa toolkit graphical user interface (GUI) lainnya.*\n",
    "\n",
    "    - **figure()** digunakan untuk membuat figure gambar baru"
   ]
  },
  {
   "attachments": {},
   "cell_type": "markdown",
   "metadata": {},
   "source": [
    "3. **Seaborn**\n",
    "\n",
    "    *Seaborn membangun di atas Matplotlib dan memperkenalkan tipe plot tambahan. Ini juga membuat plot Matplotlib tradisional Anda terlihat sedikit lebih canti*k.\n",
    "\n",
    "    - **box_plot()** digunakan untuk membuat box plot"
   ]
  },
  {
   "attachments": {},
   "cell_type": "markdown",
   "metadata": {},
   "source": [
    "**B. Data yang Digunakan**\n",
    "\n",
    "*Untuk dataset yang digunakan sudah disediakan dalam format csv*"
   ]
  },
  {
   "cell_type": "code",
   "execution_count": 1,
   "metadata": {},
   "outputs": [
    {
     "data": {
      "text/html": [
       "<div>\n",
       "<style scoped>\n",
       "    .dataframe tbody tr th:only-of-type {\n",
       "        vertical-align: middle;\n",
       "    }\n",
       "\n",
       "    .dataframe tbody tr th {\n",
       "        vertical-align: top;\n",
       "    }\n",
       "\n",
       "    .dataframe thead th {\n",
       "        text-align: right;\n",
       "    }\n",
       "</style>\n",
       "<table border=\"1\" class=\"dataframe\">\n",
       "  <thead>\n",
       "    <tr style=\"text-align: right;\">\n",
       "      <th></th>\n",
       "      <th>UpdatedAt</th>\n",
       "      <th>customerID</th>\n",
       "      <th>gender</th>\n",
       "      <th>SeniorCitizen</th>\n",
       "      <th>Partner</th>\n",
       "      <th>Dependents</th>\n",
       "      <th>tenure</th>\n",
       "      <th>PhoneService</th>\n",
       "      <th>MultipleLines</th>\n",
       "      <th>InternetService</th>\n",
       "      <th>...</th>\n",
       "      <th>DeviceProtection</th>\n",
       "      <th>TechSupport</th>\n",
       "      <th>StreamingTV</th>\n",
       "      <th>StreamingMovies</th>\n",
       "      <th>Contract</th>\n",
       "      <th>PaperlessBilling</th>\n",
       "      <th>PaymentMethod</th>\n",
       "      <th>MonthlyCharges</th>\n",
       "      <th>TotalCharges</th>\n",
       "      <th>Churn</th>\n",
       "    </tr>\n",
       "  </thead>\n",
       "  <tbody>\n",
       "    <tr>\n",
       "      <th>0</th>\n",
       "      <td>202006</td>\n",
       "      <td>45759018157</td>\n",
       "      <td>Female</td>\n",
       "      <td>0</td>\n",
       "      <td>Yes</td>\n",
       "      <td>No</td>\n",
       "      <td>1.0</td>\n",
       "      <td>No</td>\n",
       "      <td>No phone service</td>\n",
       "      <td>DSL</td>\n",
       "      <td>...</td>\n",
       "      <td>No</td>\n",
       "      <td>No</td>\n",
       "      <td>No</td>\n",
       "      <td>No</td>\n",
       "      <td>Month-to-month</td>\n",
       "      <td>Yes</td>\n",
       "      <td>Electronic check</td>\n",
       "      <td>29.85</td>\n",
       "      <td>29.85</td>\n",
       "      <td>No</td>\n",
       "    </tr>\n",
       "    <tr>\n",
       "      <th>1</th>\n",
       "      <td>202006</td>\n",
       "      <td>45557574145</td>\n",
       "      <td>Male</td>\n",
       "      <td>0</td>\n",
       "      <td>No</td>\n",
       "      <td>No</td>\n",
       "      <td>34.0</td>\n",
       "      <td>Yes</td>\n",
       "      <td>No</td>\n",
       "      <td>DSL</td>\n",
       "      <td>...</td>\n",
       "      <td>Yes</td>\n",
       "      <td>No</td>\n",
       "      <td>No</td>\n",
       "      <td>No</td>\n",
       "      <td>One year</td>\n",
       "      <td>No</td>\n",
       "      <td>Mailed check</td>\n",
       "      <td>56.95</td>\n",
       "      <td>1889.50</td>\n",
       "      <td>No</td>\n",
       "    </tr>\n",
       "    <tr>\n",
       "      <th>2</th>\n",
       "      <td>202006</td>\n",
       "      <td>45366876421</td>\n",
       "      <td>Male</td>\n",
       "      <td>0</td>\n",
       "      <td>No</td>\n",
       "      <td>No</td>\n",
       "      <td>2.0</td>\n",
       "      <td>Yes</td>\n",
       "      <td>No</td>\n",
       "      <td>DSL</td>\n",
       "      <td>...</td>\n",
       "      <td>No</td>\n",
       "      <td>No</td>\n",
       "      <td>No</td>\n",
       "      <td>No</td>\n",
       "      <td>Month-to-month</td>\n",
       "      <td>Yes</td>\n",
       "      <td>Mailed check</td>\n",
       "      <td>53.85</td>\n",
       "      <td>108.15</td>\n",
       "      <td>Yes</td>\n",
       "    </tr>\n",
       "    <tr>\n",
       "      <th>3</th>\n",
       "      <td>202006</td>\n",
       "      <td>45779536532</td>\n",
       "      <td>Male</td>\n",
       "      <td>0</td>\n",
       "      <td>No</td>\n",
       "      <td>No</td>\n",
       "      <td>45.0</td>\n",
       "      <td>No</td>\n",
       "      <td>No phone service</td>\n",
       "      <td>DSL</td>\n",
       "      <td>...</td>\n",
       "      <td>Yes</td>\n",
       "      <td>Yes</td>\n",
       "      <td>No</td>\n",
       "      <td>No</td>\n",
       "      <td>One year</td>\n",
       "      <td>No</td>\n",
       "      <td>Bank transfer (automatic)</td>\n",
       "      <td>42.30</td>\n",
       "      <td>1840.75</td>\n",
       "      <td>No</td>\n",
       "    </tr>\n",
       "    <tr>\n",
       "      <th>4</th>\n",
       "      <td>202006</td>\n",
       "      <td>45923787906</td>\n",
       "      <td>Female</td>\n",
       "      <td>0</td>\n",
       "      <td>No</td>\n",
       "      <td>No</td>\n",
       "      <td>2.0</td>\n",
       "      <td>Yes</td>\n",
       "      <td>No</td>\n",
       "      <td>Fiber optic</td>\n",
       "      <td>...</td>\n",
       "      <td>No</td>\n",
       "      <td>No</td>\n",
       "      <td>No</td>\n",
       "      <td>No</td>\n",
       "      <td>Month-to-month</td>\n",
       "      <td>Yes</td>\n",
       "      <td>Electronic check</td>\n",
       "      <td>70.70</td>\n",
       "      <td>151.65</td>\n",
       "      <td>Yes</td>\n",
       "    </tr>\n",
       "  </tbody>\n",
       "</table>\n",
       "<p>5 rows × 22 columns</p>\n",
       "</div>"
      ],
      "text/plain": [
       "   UpdatedAt   customerID  gender  SeniorCitizen Partner Dependents  tenure  \\\n",
       "0     202006  45759018157  Female              0     Yes         No     1.0   \n",
       "1     202006  45557574145    Male              0      No         No    34.0   \n",
       "2     202006  45366876421    Male              0      No         No     2.0   \n",
       "3     202006  45779536532    Male              0      No         No    45.0   \n",
       "4     202006  45923787906  Female              0      No         No     2.0   \n",
       "\n",
       "  PhoneService     MultipleLines InternetService  ... DeviceProtection  \\\n",
       "0           No  No phone service             DSL  ...               No   \n",
       "1          Yes                No             DSL  ...              Yes   \n",
       "2          Yes                No             DSL  ...               No   \n",
       "3           No  No phone service             DSL  ...              Yes   \n",
       "4          Yes                No     Fiber optic  ...               No   \n",
       "\n",
       "  TechSupport StreamingTV StreamingMovies        Contract PaperlessBilling  \\\n",
       "0          No          No              No  Month-to-month              Yes   \n",
       "1          No          No              No        One year               No   \n",
       "2          No          No              No  Month-to-month              Yes   \n",
       "3         Yes          No              No        One year               No   \n",
       "4          No          No              No  Month-to-month              Yes   \n",
       "\n",
       "               PaymentMethod MonthlyCharges TotalCharges  Churn  \n",
       "0           Electronic check          29.85        29.85     No  \n",
       "1               Mailed check          56.95      1889.50     No  \n",
       "2               Mailed check          53.85       108.15    Yes  \n",
       "3  Bank transfer (automatic)          42.30      1840.75     No  \n",
       "4           Electronic check          70.70       151.65    Yes  \n",
       "\n",
       "[5 rows x 22 columns]"
      ]
     },
     "execution_count": 1,
     "metadata": {},
     "output_type": "execute_result"
    }
   ],
   "source": [
    "import pandas as pd\n",
    "\n",
    "df_load = pd.read_csv('https://storage.googleapis.com/dqlab-dataset/dqlab_telco.csv')\n",
    "df_load.head()"
   ]
  },
  {
   "attachments": {},
   "cell_type": "markdown",
   "metadata": {},
   "source": [
    "*Untuk **detail datanya** adalah sebagai berikut:*\n",
    "\n",
    "- ***UpdatedAt** Periode of Data taken*\n",
    "- ***customerID** Customer ID*\n",
    "- ***gender** Whether the customer is a male or a female (Male, Female)*\n",
    "- ***SeniorCitizen** Whether the customer is a senior citizen or not (1, 0)*\n",
    "- ***Partner** Whether the customer has a partner or not (Yes, No)*\n",
    "- ***Dependents** Whether the customer has dependents or not (Yes, No)*\n",
    "- ***tenure** Number of months the customer has stayed with the company*\n",
    "- ***PhoneService** Whether the customer has a phone service or not (Yes, No)*\n",
    "- ***MultipleLines** Whether the customer has multiple lines or not (Yes, No, No phone service)*\n",
    "- ***InternetService** Customer’s internet service provider (DSL, Fiber optic, No)*\n",
    "- ***OnlineSecurity** Whether the customer has online security or not (Yes, No, No internet service)*\n",
    "- ***OnlineBackup** Whether the customer has online backup or not (Yes, No, No internet service)*"
   ]
  },
  {
   "attachments": {},
   "cell_type": "markdown",
   "metadata": {},
   "source": [
    "- ***DeviceProtection** Whether the customer has device protection or not (Yes, No, No internet service)*\n",
    "- ***TechSupport** Whether the customer has tech support or not (Yes, No, No internet service)*\n",
    "- ***StreamingTV** Whether the customer has streaming TV or not (Yes, No, No internet service)*\n",
    "- ***StreamingMovies** Whether the customer has streaming movies or not (Yes, No, No internet service)*\n",
    "- ***Contract** The contract term of the customer (Month-to-month, One year, Two year)*\n",
    "- ***PaperlessBilling** Whether the customer has paperless billing or not (Yes, No)*\n",
    "- ***PaymentMethod** The customer’s payment method (Electronic check, Mailed check, Bank transfer (automatic), Credit card (automatic))*\n",
    "- ***MonthlyCharges** The amount charged to the customer monthly*\n",
    "- ***TotalCharges** The total amount charged to the customer*\n",
    "- ***Churn** Whether the customer churned or not (Yes or No)*"
   ]
  },
  {
   "attachments": {},
   "cell_type": "markdown",
   "metadata": {},
   "source": [
    "**C. Import Library dan Dataset**"
   ]
  },
  {
   "attachments": {},
   "cell_type": "markdown",
   "metadata": {},
   "source": [
    "*Berdasarkan penjelasan mengenai library dan dataset yang akan digunakan, sekarang hal pertama yang akan kita lakukan adalah melakukan import library dan dataset ke dalam workspace kita.*\n",
    "\n",
    "- *dataset di-import ke dalam workspace,* \n",
    "- *tampilkan **jumlah kolom dan baris** dari data set dengan menggunakan .shape,*\n",
    "- ***print 5 baris teratas** dengan menggunakan head(),*\n",
    "- *carilah ada berapa jumlah **customerID yang bersifat unique** dengan menggunakan .nunique*"
   ]
  },
  {
   "attachments": {},
   "cell_type": "markdown",
   "metadata": {},
   "source": [
    "**Notes:**\n",
    "1. *pd.options.display.max_columns = 50 digunakan untuk mempermudah penampilan row data*\n",
    "2. *Simpan dataset ke dalam variabel df_load*"
   ]
  },
  {
   "cell_type": "code",
   "execution_count": 10,
   "metadata": {},
   "outputs": [
    {
     "name": "stdout",
     "output_type": "stream",
     "text": [
      "(7113, 22)\n",
      "   UpdatedAt   customerID  gender  SeniorCitizen Partner Dependents  tenure  \\\n",
      "0     202006  45759018157  Female              0     Yes         No     1.0   \n",
      "1     202006  45557574145    Male              0      No         No    34.0   \n",
      "2     202006  45366876421    Male              0      No         No     2.0   \n",
      "3     202006  45779536532    Male              0      No         No    45.0   \n",
      "4     202006  45923787906  Female              0      No         No     2.0   \n",
      "\n",
      "  PhoneService     MultipleLines InternetService OnlineSecurity OnlineBackup  \\\n",
      "0           No  No phone service             DSL             No          Yes   \n",
      "1          Yes                No             DSL            Yes           No   \n",
      "2          Yes                No             DSL            Yes          Yes   \n",
      "3           No  No phone service             DSL            Yes           No   \n",
      "4          Yes                No     Fiber optic             No           No   \n",
      "\n",
      "  DeviceProtection TechSupport StreamingTV StreamingMovies        Contract  \\\n",
      "0               No          No          No              No  Month-to-month   \n",
      "1              Yes          No          No              No        One year   \n",
      "2               No          No          No              No  Month-to-month   \n",
      "3              Yes         Yes          No              No        One year   \n",
      "4               No          No          No              No  Month-to-month   \n",
      "\n",
      "  PaperlessBilling              PaymentMethod  MonthlyCharges  TotalCharges  \\\n",
      "0              Yes           Electronic check           29.85         29.85   \n",
      "1               No               Mailed check           56.95       1889.50   \n",
      "2              Yes               Mailed check           53.85        108.15   \n",
      "3               No  Bank transfer (automatic)           42.30       1840.75   \n",
      "4              Yes           Electronic check           70.70        151.65   \n",
      "\n",
      "  Churn  \n",
      "0    No  \n",
      "1    No  \n",
      "2   Yes  \n",
      "3    No  \n",
      "4   Yes  \n",
      "7017\n"
     ]
    }
   ],
   "source": [
    "#import library\n",
    "import pandas as pd\n",
    "pd.options.display.max_columns = 50\n",
    "\n",
    "#import dataset\n",
    "df_load = pd.read_csv('https://storage.googleapis.com/dqlab-dataset/dqlab_telco.csv')\n",
    "\n",
    "#Tampilkan jumlah baris dan kolom\n",
    "print(df_load.shape)\n",
    "\n",
    "#Tampilkan 5 data teratas\n",
    "print(df_load.head(5))\n",
    "\n",
    "#Jumlah ID yang unik\n",
    "print(df_load['customerID'].nunique())"
   ]
  },
  {
   "cell_type": "markdown",
   "metadata": {},
   "source": []
  },
  {
   "attachments": {},
   "cell_type": "markdown",
   "metadata": {},
   "source": [
    "**Tahap 2 - Mencari Validitas ID Number Pelanggan**"
   ]
  },
  {
   "attachments": {},
   "cell_type": "markdown",
   "metadata": {},
   "source": [
    "**A. Memfilter ID Number Pelanggan Format Tertentu**\n",
    "\n",
    "*Mencari format ID Number (Phone Number) Pelanggan customerID yang benar, dengan kriteria:*\n",
    "\n",
    "- *Panjang karakter adalah 11-12.*\n",
    "- *Terdiri dari angka Saja, tidak diperbolehkan ada karakter selain angka*\n",
    "- *Diawali dengan angka 45 2 digit pertama.*\n",
    "\n",
    "*Gunakan fungsi **count()** untuk menghitung banyaknya rows Customer ID, anda juga bisa menggunakan **str.match() & regex** untuk mencocokan dengan kriteria diatas. Jangan lupa gunakan **astype()** untuk merubah tipe datanya yang semula numeric*"
   ]
  },
  {
   "attachments": {},
   "cell_type": "markdown",
   "metadata": {},
   "source": [
    "**Notes** : \n",
    "1. *Buat kolom bantuan baru dengan nama **valid_id***\n",
    "2. *Regex **\\d** diigunakan untuk macth a digit [0-9], {m,n} Match m to n times (inclusive)*\n",
    "3. *Filtering customerID yang diawali angka 45 2 digit pertama dengan pangjang karakter 11-12*"
   ]
  },
  {
   "cell_type": "code",
   "execution_count": 35,
   "metadata": {},
   "outputs": [
    {
     "name": "stdout",
     "output_type": "stream",
     "text": [
      "Hasil jumlah ID Customer yang terfilter adalah 7006\n"
     ]
    }
   ],
   "source": [
    "import pandas as pd\n",
    "df_load = pd.read_csv('https://storage.googleapis.com/dqlab-dataset/dqlab_telco.csv')\n",
    "\n",
    "df_load['valid_id'] = df_load['customerID'].astype(str).str.match(r'(45\\d{9,10})')\n",
    "\n",
    "df_load = (df_load[df_load['valid_id'] == True]).drop('valid_id', axis = 1)\n",
    "\n",
    "print('Hasil jumlah ID Customer yang terfilter adalah',df_load['customerID'].count())"
   ]
  },
  {
   "attachments": {},
   "cell_type": "markdown",
   "metadata": {},
   "source": [
    "**B. Memfilter Duplikasi ID Number Pelanggan**\n",
    "\n",
    "*Memastikan bahwa tidak ada Id Number pelanggan yang duplikat. Biasanya duplikasi ID number ini tipenya:*\n",
    "\n",
    "1. *Duplikasi dikarenakan inserting melebihi satu kali dengan nilai yang sama tiap kolomnya*\n",
    "2. *Duplikasi dikarenakan inserting beda periode pengambilan data*\n",
    "\n",
    "*Gunakan hasil dari pengolahan di tahap sebelumnya **df_load** untuk diolah di tahap ini. Gunakan fungsi **drop_duplicates()** untuk menghapus duplikasi rows, dan gunakan **sort_values()** untuk mengecek pengambilan data terakhir.*"
   ]
  },
  {
   "cell_type": "code",
   "execution_count": 36,
   "metadata": {},
   "outputs": [
    {
     "name": "stdout",
     "output_type": "stream",
     "text": [
      "Hasil jumlah ID Customer yang sudah dihilangkan duplikasinya (distinct) adalah 6993\n"
     ]
    }
   ],
   "source": [
    "# Drop Duplicate Rows\n",
    "df_load.drop_duplicates()\n",
    "\n",
    "# Drop duplicate ID sorted by Periode\n",
    "df_load = df_load.sort_values('UpdatedAt', ascending=False).drop_duplicates(['customerID'])\n",
    "print('Hasil jumlah ID Customer yang sudah dihilangkan duplikasinya (distinct) adalah',df_load['customerID'].count())"
   ]
  },
  {
   "attachments": {},
   "cell_type": "markdown",
   "metadata": {},
   "source": [
    "**C. Kesimpulan**\n",
    "\n",
    "*Validitas dari ID Number pelanggan sangat diperlukan untuk memastikan bahwa data yang kita ambil sudah benar. Berdasarkan hasil tersebut, terdapat perbedaan jumlah nomor ID dari data pertama kali di load sampai dengan hasil akhir. Jumlah row data ketika pertama kali di load ada sebanyak 7113 rows dan 22 columns dengan 7017 jumlah ID yang unique. Kemudian setelah di cek validitas dari ID pelanggan, maka tersisa 6993 rows data*"
   ]
  },
  {
   "cell_type": "markdown",
   "metadata": {},
   "source": []
  },
  {
   "attachments": {},
   "cell_type": "markdown",
   "metadata": {},
   "source": [
    "**Tahap 3 - Mengatasi Missing Values**"
   ]
  },
  {
   "attachments": {},
   "cell_type": "markdown",
   "metadata": {},
   "source": [
    "**A. Mengatasi Missing Values dengan Penghapusan Rows**\n",
    "\n",
    "*Selanjutnya kita akan menghapus rows dari data-data yang tidak terdeteksi apakah dia churn atau tidak. Diasumsikan data modeller hanya mau menerima data yang benar ada flag churn-nya atau tidak.*\n",
    "\n",
    "*Gunakan **isnull()** digunakan untuk mendeteksi missing values dan **dropna()** untuk menghapus data yang missing values.*"
   ]
  },
  {
   "cell_type": "code",
   "execution_count": 37,
   "metadata": {},
   "outputs": [
    {
     "name": "stdout",
     "output_type": "stream",
     "text": [
      "Total missing values data dari kolom Churn 43\n",
      "Total Rows dan kolom Data setelah dihapus data Missing Values adalah (6950, 22)\n"
     ]
    }
   ],
   "source": [
    "# Cek missing value kolom churn\n",
    "print('Total missing values data dari kolom Churn', df_load['Churn'].isnull().sum())\n",
    "\n",
    "# Dropping all Rows with spesific column (churn)\n",
    "df_load.dropna(subset=['Churn'], inplace=True)\n",
    "print('Total Rows dan kolom Data setelah dihapus data Missing Values adalah', df_load.shape)"
   ]
  },
  {
   "attachments": {},
   "cell_type": "markdown",
   "metadata": {},
   "source": [
    "**B. Mengatasi Missing Values dengan Pengisian Nilai tertentu**\n",
    "\n",
    "*Selain dengan menghapus rows dari data, menangani missing values bisa menggunakan nilai tertentu. Diasumsikan data modeller meminta pengisian missing values dengan kriteria berikut:*\n",
    "\n",
    "- ***Tenure** pihak data modeller meminta setiap rows yang memiliki missing values untuk lama berlangganan di isi dengan 11.*\n",
    "- *Variable yang bersifat numeric selain **Tenure** di isi dengan median dari masing-masing variable tersebut.*"
   ]
  },
  {
   "attachments": {},
   "cell_type": "markdown",
   "metadata": {},
   "source": [
    "**Tentukan:**\n",
    "\n",
    "1. *Apakah masih ada data yang missing values*\n",
    "2. *Jumlah missing values dari masing-masing variable*\n",
    "3. *Tangani missing values-nya*"
   ]
  },
  {
   "attachments": {},
   "cell_type": "markdown",
   "metadata": {},
   "source": [
    "***note:** perlu menuliskan syntax read file dan filtering, karena disini menggunakan parameter inplace yang berfungsi untuk reassign data frame terhadap dirinya sendiri*\n",
    "\n",
    "*jika tidak menulis kembali syntax tersebut akan merubah seluruh hasil pada bagian atas dan merusak alur*"
   ]
  },
  {
   "cell_type": "code",
   "execution_count": 3,
   "metadata": {},
   "outputs": [
    {
     "name": "stdout",
     "output_type": "stream",
     "text": [
      "Status Missing Values : True\n",
      "\n",
      "Jumlah Missing Values masing-masing kolom, adalah:\n",
      "tenure              99\n",
      "MonthlyCharges      26\n",
      "TotalCharges        15\n",
      "UpdatedAt            0\n",
      "DeviceProtection     0\n",
      "PaymentMethod        0\n",
      "PaperlessBilling     0\n",
      "Contract             0\n",
      "StreamingMovies      0\n",
      "StreamingTV          0\n",
      "TechSupport          0\n",
      "OnlineBackup         0\n",
      "customerID           0\n",
      "OnlineSecurity       0\n",
      "InternetService      0\n",
      "MultipleLines        0\n",
      "PhoneService         0\n",
      "Dependents           0\n",
      "Partner              0\n",
      "SeniorCitizen        0\n",
      "gender               0\n",
      "Churn                0\n",
      "dtype: int64\n",
      "\n",
      "Jumlah Missing Values setelah di imputer datanya, adalah:\n",
      "UpdatedAt           0\n",
      "customerID          0\n",
      "TotalCharges        0\n",
      "MonthlyCharges      0\n",
      "PaymentMethod       0\n",
      "PaperlessBilling    0\n",
      "Contract            0\n",
      "StreamingMovies     0\n",
      "StreamingTV         0\n",
      "TechSupport         0\n",
      "DeviceProtection    0\n",
      "OnlineBackup        0\n",
      "OnlineSecurity      0\n",
      "InternetService     0\n",
      "MultipleLines       0\n",
      "PhoneService        0\n",
      "tenure              0\n",
      "Dependents          0\n",
      "Partner             0\n",
      "SeniorCitizen       0\n",
      "gender              0\n",
      "Churn               0\n",
      "dtype: int64\n"
     ]
    }
   ],
   "source": [
    "import pandas as pd\n",
    "df_load = pd.read_csv('https://storage.googleapis.com/dqlab-dataset/dqlab_telco.csv')\n",
    "\n",
    "df_load['valid_id'] = df_load['customerID'].astype(str).str.match(r'(45\\d{9,10})')\n",
    "df_load = (df_load[df_load['valid_id'] == True]).drop('valid_id', axis = 1)\n",
    "df_load.drop_duplicates()\n",
    "df_load = df_load.sort_values('UpdatedAt', ascending=False).drop_duplicates('customerID')\n",
    "df_load.dropna(subset=['Churn'],inplace=True)\n",
    "\n",
    "print('Status Missing Values :',df_load.isnull().values.any())\n",
    "print('\\nJumlah Missing Values masing-masing kolom, adalah:')\n",
    "print(df_load.isnull().sum().sort_values(ascending=False))\n",
    "\n",
    "#handling missing values Tenure fill with 11\n",
    "df_load['tenure'].fillna(11, inplace=True)\n",
    "\n",
    "#Loop\n",
    "#Handling missing values num vars (except Tenure)\n",
    "for col_name in list(['TotalCharges','MonthlyCharges']):\n",
    "    median = df_load[col_name].median()\n",
    "    df_load[col_name].fillna(median, inplace=True)\n",
    "\n",
    "print('\\nJumlah Missing Values setelah di imputer datanya, adalah:')\n",
    "print(df_load.isnull().sum().sort_values(ascending=False))"
   ]
  },
  {
   "attachments": {},
   "cell_type": "markdown",
   "metadata": {},
   "source": [
    "**C. Kesimpulan**\n",
    "\n",
    "*Setelah kita analisis lebih lanjut, ternyata masih ada missing values dari data yang kita sudah validkan Id Number pelanggannya. Missing values terdapat pada kolom **Churn, tenure, MonthlyCharges & TotalCharges.** Setelah kita tangani dengan cara penghapusan rows dan pengisian rows dengan nilai tertentu, terbukti sudah tidak ada missing values lagi pada data, terbukti dari jumlah missing values masing-masing variable yang bernilai 0. Selanjutnya kita akan melakukan penanganan pencilan (outlier)*"
   ]
  },
  {
   "cell_type": "markdown",
   "metadata": {},
   "source": []
  },
  {
   "attachments": {},
   "cell_type": "markdown",
   "metadata": {},
   "source": [
    "**Tahap 4 - Mengatasi Outlier**"
   ]
  },
  {
   "attachments": {},
   "cell_type": "markdown",
   "metadata": {},
   "source": [
    "**A. Mendeteksi adanya Outlier (Boxplot)**\n",
    "\n",
    "*Mendeteksi pencilan dari suatu nilai (outlier) salah satunya bisa melihat plot dari data tersebut menggunakan boxplot.*\n",
    "\n",
    "*Boxplot merupakan ringkasan distribusi sampel yang disajikan secara grafis yang bisa menggambarkan bentuk distribusi data (skewness), ukuran tendensi sentral dan ukuran penyebaran (keragaman).*"
   ]
  },
  {
   "attachments": {},
   "cell_type": "markdown",
   "metadata": {},
   "source": [
    "*Penggunaan fungsi describe() pada kolom **tenure, MonthlyCharges, dan TotalCharges** ditunjukkan sebagai berikut.*"
   ]
  },
  {
   "cell_type": "code",
   "execution_count": 4,
   "metadata": {},
   "outputs": [
    {
     "name": "stdout",
     "output_type": "stream",
     "text": [
      "Persebaran data sebelum ditangani Outlier: \n",
      "            tenure  MonthlyCharges  TotalCharges\n",
      "count  6950.000000     6950.000000   6950.000000\n",
      "mean     32.477266       65.783741   2305.083460\n",
      "std      25.188910       50.457871   2578.651143\n",
      "min       0.000000        0.000000     19.000000\n",
      "25%       9.000000       36.462500    406.975000\n",
      "50%      29.000000       70.450000   1400.850000\n",
      "75%      55.000000       89.850000   3799.837500\n",
      "max     500.000000     2311.000000  80000.000000\n"
     ]
    }
   ],
   "source": [
    "print('Persebaran data sebelum ditangani Outlier: ')\n",
    "print(df_load[['tenure','MonthlyCharges','TotalCharges']].describe())"
   ]
  },
  {
   "attachments": {},
   "cell_type": "markdown",
   "metadata": {},
   "source": [
    "*Melalui fungsi describe() ini kita **hanya memperoleh statistik deskriptif ketiga kolom ini**. Agar outlier pada ketiga kolom ini dapat dideteksi maka kamu diminta untuk memvisualisasikannya menggunakan boxplot-nya. Setiap satu boxplot ada di satu canvas figure.*"
   ]
  },
  {
   "cell_type": "code",
   "execution_count": 5,
   "metadata": {},
   "outputs": [
    {
     "data": {
      "image/png": "[encoded data removed]",
      "text/plain": [
       "<Figure size 432x288 with 1 Axes>"
      ]
     },
     "metadata": {
      "needs_background": "light"
     },
     "output_type": "display_data"
    },
    {
     "data": {
      "image/png": "[encoded data removed]",
      "text/plain": [
       "<Figure size 432x288 with 1 Axes>"
      ]
     },
     "metadata": {
      "needs_background": "light"
     },
     "output_type": "display_data"
    },
    {
     "data": {
      "image/png": "[encoded data removed]",
      "text/plain": [
       "<Figure size 432x288 with 1 Axes>"
      ]
     },
     "metadata": {
      "needs_background": "light"
     },
     "output_type": "display_data"
    }
   ],
   "source": [
    "# Creating Box Plot\n",
    "import matplotlib.pyplot as plt\n",
    "import seaborn as sns\n",
    "\n",
    "# Misal untuk kolom tenure\n",
    "plt.figure()\n",
    "sns.boxplot(x=df_load['tenure'])\n",
    "plt.show()\n",
    "\n",
    "plt.figure()\n",
    "sns.boxplot(x=df_load['MonthlyCharges'])\n",
    "plt.show()\n",
    "\n",
    "plt.figure()\n",
    "sns.boxplot(x=df_load['TotalCharges'])\n",
    "plt.show()"
   ]
  },
  {
   "attachments": {},
   "cell_type": "markdown",
   "metadata": {},
   "source": [
    "**B. Mengatasi Outlier**"
   ]
  },
  {
   "attachments": {},
   "cell_type": "markdown",
   "metadata": {},
   "source": [
    "*Setelah kita mengetahui variable mana saja yang terdapat pencilan (outlier), selanjutnya kita akan atasi outlier dengan menggunakan metode interquartile range (IQR). Untuk detail jelasnya, bisa dilihat di ilustrasi di bawah ini:*\n",
    "\n",
    "*Gunakan hasil dari pengolahan di tahap sebelumnya df_load untuk di olah di tahap ini. Gunakan fungsi **quantile()** untuk melihat quantile tertentu, dan gunakan **mask()** untuk me-replace nilai. Tentukan:*\n",
    "\n",
    "1. *Nilai minimum dan maximum data di tolerir*\n",
    "2. *Ubah nilai yang di luar range minimum & maximum ke dalam nilai minimum dan maximum*"
   ]
  },
  {
   "cell_type": "code",
   "execution_count": 14,
   "metadata": {},
   "outputs": [
    {
     "name": "stdout",
     "output_type": "stream",
     "text": [
      "Nilai Maximum dari masing-masing Variable adalah: \n",
      "tenure             124.00000\n",
      "MonthlyCharges     169.93125\n",
      "TotalCharges      8889.13125\n",
      "dtype: float64\n",
      "\n",
      "Nilai Minimum dari masing-masing Variable adalah: \n",
      "tenure             -60.00000\n",
      "MonthlyCharges     -43.61875\n",
      "TotalCharges     -4682.31875\n",
      "dtype: float64\n",
      "\n",
      "Persebaran data setelah ditangani Outlier: \n",
      "            tenure  MonthlyCharges  TotalCharges\n",
      "count  6950.000000     6950.000000   6950.000000\n",
      "mean     32.423165       64.992201   2286.058750\n",
      "std      24.581073       30.032040   2265.702553\n",
      "min       0.000000        0.000000     19.000000\n",
      "25%       9.000000       36.462500    406.975000\n",
      "50%      29.000000       70.450000   1400.850000\n",
      "75%      55.000000       89.850000   3799.837500\n",
      "max     124.000000      169.931250   8889.131250\n"
     ]
    },
    {
     "name": "stderr",
     "output_type": "stream",
     "text": [
      "C:\\Users\\sendy\\AppData\\Local\\Temp\\ipykernel_2964\\3935037445.py:13: FutureWarning: Automatic reindexing on DataFrame vs Series comparisons is deprecated and will raise ValueError in a future version. Do `left, right = left.align(right, axis=1, copy=False)` before e.g. `left == right`\n",
      "  more_than = (df_load > maximum)\n",
      "C:\\Users\\sendy\\AppData\\Local\\Temp\\ipykernel_2964\\3935037445.py:14: FutureWarning: Automatic reindexing on DataFrame vs Series comparisons is deprecated and will raise ValueError in a future version. Do `left, right = left.align(right, axis=1, copy=False)` before e.g. `left == right`\n",
      "  lower_than = (df_load < minimum)\n"
     ]
    }
   ],
   "source": [
    "# Handling with IQR\n",
    "Q1 = (df_load[['tenure','MonthlyCharges','TotalCharges']]).quantile(0.25)\n",
    "Q3 = (df_load[['tenure','MonthlyCharges','TotalCharges']]).quantile(0.75)\n",
    "\n",
    "IQR = Q3-Q1\n",
    "maximum = Q3 + (1.5*IQR)\n",
    "print('Nilai Maximum dari masing-masing Variable adalah: ')\n",
    "print(maximum)\n",
    "minimum = Q1 - (1.5*IQR)\n",
    "print('\\nNilai Minimum dari masing-masing Variable adalah: ')\n",
    "print(minimum)\n",
    "\n",
    "more_than = (df_load > maximum)\n",
    "lower_than = (df_load < minimum)\n",
    "df_load = df_load.mask(more_than, maximum, axis=1)\n",
    "df_load = df_load.mask(lower_than, minimum, axis=1)\n",
    "\n",
    "print('\\nPersebaran data setelah ditangani Outlier: ')\n",
    "print(df_load[['tenure', 'MonthlyCharges', 'TotalCharges']].describe())"
   ]
  },
  {
   "attachments": {},
   "cell_type": "markdown",
   "metadata": {},
   "source": [
    "**C. Kesimpulan**\n",
    "\n",
    "*Dari ketiga boxplot dengan variable 'tenure','MonthlyCharges' & 'TotalCharges' terlihat jelas bahwasannya ada outlier. Hal ini bisa di identifikasi dari adanya titik-titik yang berada jauh dari gambar boxplot-nya. Kemudian kalau kita liat persebaran datanya dari kolom **max** nya juga ada nilai yang sangat tinggi sekali.*\n",
    "\n",
    "*Kemudian nilai outlier tersebut ditangani dengan cara merubah nilainya ke nilai maximum & minimum dari interquartile range (IQR). Setelah di tangani outlier-nya, dan dilihat perseberan datanya, terlihat sudah tidak ada lagi nilai yang outlier.*"
   ]
  },
  {
   "attachments": {},
   "cell_type": "markdown",
   "metadata": {},
   "source": [
    "**Tahap 5 - Mendeteksi Nilai**"
   ]
  },
  {
   "attachments": {},
   "cell_type": "markdown",
   "metadata": {},
   "source": [
    "**A. Mendeteksi Nilai yang tidak Standar**\n",
    "\n",
    "***Mendeteksi apakah ada nilai-nilai dari variable kategorik yang tidak standard.** Hal ini biasanya terjadi dikarenakan kesalahan input data. Perbedaan istilah menjadi salah satu faktor yang sering terjadi, untuk itu dibutuhkan standardisasi dari data yang sudah ter-input.*"
   ]
  },
  {
   "attachments": {},
   "cell_type": "markdown",
   "metadata": {},
   "source": [
    "Gunakan fungsi **value_counts()** untuk melihat jumlah data unique per variable-nya."
   ]
  },
  {
   "cell_type": "code",
   "execution_count": 15,
   "metadata": {},
   "outputs": [
    {
     "data": {
      "text/plain": [
       "Index(['UpdatedAt', 'customerID', 'gender', 'SeniorCitizen', 'Partner',\n",
       "       'Dependents', 'tenure', 'PhoneService', 'MultipleLines',\n",
       "       'InternetService', 'OnlineSecurity', 'OnlineBackup', 'DeviceProtection',\n",
       "       'TechSupport', 'StreamingTV', 'StreamingMovies', 'Contract',\n",
       "       'PaperlessBilling', 'PaymentMethod', 'MonthlyCharges', 'TotalCharges',\n",
       "       'Churn'],\n",
       "      dtype='object')"
      ]
     },
     "execution_count": 15,
     "metadata": {},
     "output_type": "execute_result"
    }
   ],
   "source": [
    "df_load.columns"
   ]
  },
  {
   "cell_type": "code",
   "execution_count": 16,
   "metadata": {},
   "outputs": [
    {
     "name": "stdout",
     "output_type": "stream",
     "text": [
      "\n",
      "Unique Values Count \u001b[1mBefore Standardized \u001b[0m Variable gender\n",
      "Male         3499\n",
      "Female       3431\n",
      "Wanita         14\n",
      "Laki-Laki       6\n",
      "Name: gender, dtype: int64\n",
      "\n",
      "Unique Values Count \u001b[1mBefore Standardized \u001b[0m Variable SeniorCitizen\n",
      "0    5822\n",
      "1    1128\n",
      "Name: SeniorCitizen, dtype: int64\n",
      "\n",
      "Unique Values Count \u001b[1mBefore Standardized \u001b[0m Variable Partner\n",
      "No     3591\n",
      "Yes    3359\n",
      "Name: Partner, dtype: int64\n",
      "\n",
      "Unique Values Count \u001b[1mBefore Standardized \u001b[0m Variable Dependents\n",
      "No     4870\n",
      "Yes    2060\n",
      "Iya      20\n",
      "Name: Dependents, dtype: int64\n",
      "\n",
      "Unique Values Count \u001b[1mBefore Standardized \u001b[0m Variable PhoneService\n",
      "Yes    6281\n",
      "No      669\n",
      "Name: PhoneService, dtype: int64\n",
      "\n",
      "Unique Values Count \u001b[1mBefore Standardized \u001b[0m Variable MultipleLines\n",
      "No                  3346\n",
      "Yes                 2935\n",
      "No phone service     669\n",
      "Name: MultipleLines, dtype: int64\n",
      "\n",
      "Unique Values Count \u001b[1mBefore Standardized \u001b[0m Variable InternetService\n",
      "Fiber optic    3057\n",
      "DSL            2388\n",
      "No             1505\n",
      "Name: InternetService, dtype: int64\n",
      "\n",
      "Unique Values Count \u001b[1mBefore Standardized \u001b[0m Variable OnlineSecurity\n",
      "No                     3454\n",
      "Yes                    1991\n",
      "No internet service    1505\n",
      "Name: OnlineSecurity, dtype: int64\n",
      "\n",
      "Unique Values Count \u001b[1mBefore Standardized \u001b[0m Variable OnlineBackup\n",
      "No                     3045\n",
      "Yes                    2400\n",
      "No internet service    1505\n",
      "Name: OnlineBackup, dtype: int64\n",
      "\n",
      "Unique Values Count \u001b[1mBefore Standardized \u001b[0m Variable DeviceProtection\n",
      "No                     3054\n",
      "Yes                    2391\n",
      "No internet service    1505\n",
      "Name: DeviceProtection, dtype: int64\n",
      "\n",
      "Unique Values Count \u001b[1mBefore Standardized \u001b[0m Variable TechSupport\n",
      "No                     3431\n",
      "Yes                    2014\n",
      "No internet service    1505\n",
      "Name: TechSupport, dtype: int64\n",
      "\n",
      "Unique Values Count \u001b[1mBefore Standardized \u001b[0m Variable StreamingTV\n",
      "No                     2774\n",
      "Yes                    2671\n",
      "No internet service    1505\n",
      "Name: StreamingTV, dtype: int64\n",
      "\n",
      "Unique Values Count \u001b[1mBefore Standardized \u001b[0m Variable StreamingMovies\n",
      "No                     2747\n",
      "Yes                    2698\n",
      "No internet service    1505\n",
      "Name: StreamingMovies, dtype: int64\n",
      "\n",
      "Unique Values Count \u001b[1mBefore Standardized \u001b[0m Variable Contract\n",
      "Month-to-month    3823\n",
      "Two year          1670\n",
      "One year          1457\n",
      "Name: Contract, dtype: int64\n",
      "\n",
      "Unique Values Count \u001b[1mBefore Standardized \u001b[0m Variable PaperlessBilling\n",
      "Yes    4114\n",
      "No     2836\n",
      "Name: PaperlessBilling, dtype: int64\n",
      "\n",
      "Unique Values Count \u001b[1mBefore Standardized \u001b[0m Variable PaymentMethod\n",
      "Electronic check             2337\n",
      "Mailed check                 1594\n",
      "Bank transfer (automatic)    1519\n",
      "Credit card (automatic)      1500\n",
      "Name: PaymentMethod, dtype: int64\n",
      "\n",
      "Unique Values Count \u001b[1mBefore Standardized \u001b[0m Variable Churn\n",
      "No       5114\n",
      "Yes      1827\n",
      "Churn       9\n",
      "Name: Churn, dtype: int64\n"
     ]
    },
    {
     "name": "stderr",
     "output_type": "stream",
     "text": [
      "C:\\Users\\sendy\\AppData\\Local\\Temp\\ipykernel_2964\\3718664392.py:21: FutureWarning: Automatic reindexing on DataFrame vs Series comparisons is deprecated and will raise ValueError in a future version. Do `left, right = left.align(right, axis=1, copy=False)` before e.g. `left == right`\n",
      "  more_than     = (df_load > maximum)\n",
      "C:\\Users\\sendy\\AppData\\Local\\Temp\\ipykernel_2964\\3718664392.py:22: FutureWarning: Automatic reindexing on DataFrame vs Series comparisons is deprecated and will raise ValueError in a future version. Do `left, right = left.align(right, axis=1, copy=False)` before e.g. `left == right`\n",
      "  lower_than    = (df_load < minimum)\n"
     ]
    }
   ],
   "source": [
    "# Mendeteksi Nilai tidak standar\n",
    "import pandas as pd\n",
    "df_load = pd.read_csv('https://storage.googleapis.com/dqlab-dataset/dqlab_telco.csv')\n",
    "\n",
    "df_load['valid_id'] = df_load['customerID'].astype(str).str.match(r'(45\\d{9,10})')\n",
    "df_load = (df_load[df_load['valid_id'] == True]).drop('valid_id', axis = 1)\n",
    "df_load.drop_duplicates()\n",
    "df_load = df_load.sort_values('UpdatedAt', ascending=False).drop_duplicates('customerID')\n",
    "df_load.dropna(subset=['Churn'],inplace=True)\n",
    "\n",
    "df_load['tenure'].fillna(11, inplace=True)\n",
    "for col_name in list(['MonthlyCharges','TotalCharges']):\n",
    "    median = df_load[col_name].median()\n",
    "    df_load[col_name].fillna(median, inplace=True)\n",
    "\n",
    "Q1 = (df_load[['tenure','MonthlyCharges','TotalCharges']]).quantile(0.25)\n",
    "Q3 = (df_load[['tenure','MonthlyCharges','TotalCharges']]).quantile(0.75)\n",
    "IQR = Q3 - Q1\n",
    "maximum  = Q3 + (1.5*IQR)\n",
    "minimum = Q1 - (1.5*IQR)\n",
    "\n",
    "more_than     = (df_load > maximum)\n",
    "lower_than    = (df_load < minimum)\n",
    "df_load       = df_load.mask(more_than, maximum, axis=1) \n",
    "df_load       = df_load.mask(lower_than, minimum, axis=1)\n",
    "\n",
    "#Loop\n",
    "for col_name in list(['gender','SeniorCitizen','Partner','Dependents','PhoneService','MultipleLines','InternetService','OnlineSecurity','OnlineBackup','DeviceProtection','TechSupport','StreamingTV','StreamingMovies','Contract','PaperlessBilling','PaymentMethod','Churn']):\n",
    "\tprint('\\nUnique Values Count \\033[1m' + 'Before Standardized \\033[0m Variable',col_name)\n",
    "\tprint(df_load[col_name].value_counts())"
   ]
  },
  {
   "attachments": {},
   "cell_type": "markdown",
   "metadata": {},
   "source": [
    "***Hasil** : Berdasarkan Pengecekan Terdapat Nilai yang tidak Standar pada kolom : gender, Dependents, Churn*\n",
    "\n",
    "*yaitu : Wanita, Laki-Laki, Churn, Iya.*\n",
    "\n",
    "*Nilai standarnya harusnya : Female, Male, Yes, Yes*"
   ]
  },
  {
   "attachments": {},
   "cell_type": "markdown",
   "metadata": {},
   "source": [
    "**B. Menstandarisasi Variable Kategorik**\n",
    "\n",
    "*Setelah kita mengeteahui variable mana saja yang ada nilai tidak standard, maka kita standardkan dengan pola terbanyak nya, dengan syarat tanpa mengubah maknanya. Contoh : Iya -> Yes Kemudian liat kembali unique values dari masing-masing variable yang sudah di ubah. Gunakan fungsi replace() untuk menstandardkan nilai.*"
   ]
  },
  {
   "cell_type": "code",
   "execution_count": 17,
   "metadata": {},
   "outputs": [
    {
     "name": "stdout",
     "output_type": "stream",
     "text": [
      "\n",
      "Unique Values Count \u001b[1mAfter Standardized \u001b[0m Variable gender\n",
      "Male      3505\n",
      "Female    3445\n",
      "Name: gender, dtype: int64\n",
      "\n",
      "Unique Values Count \u001b[1mAfter Standardized \u001b[0m Variable Dependents\n",
      "No     4870\n",
      "Yes    2080\n",
      "Name: Dependents, dtype: int64\n",
      "\n",
      "Unique Values Count \u001b[1mAfter Standardized \u001b[0m Variable Churn\n",
      "No     5114\n",
      "Yes    1836\n",
      "Name: Churn, dtype: int64\n"
     ]
    }
   ],
   "source": [
    "# Menstandarisasi Variabel Kategorik\n",
    "df_load = df_load.replace(['Wanita', 'Laki-Laki', 'Churn', 'Iya'], ['Female','Male','Yes','Yes'])\n",
    "\n",
    "# Loop\n",
    "for col_name in list(['gender','Dependents','Churn']):\n",
    "    print('\\nUnique Values Count \\033[1m' + 'After Standardized \\033[0m Variable',col_name)\n",
    "    print(df_load[col_name].value_counts())"
   ]
  },
  {
   "attachments": {},
   "cell_type": "markdown",
   "metadata": {},
   "source": [
    "**C. Kesimpulan**\n",
    "\n",
    "*Ketika kita amati lebih jauh dari jumlah unique value dari masing-masing variable kategorik, terlihat jelas bahwa ada beberapa variable yang tidak standar. Variable itu adalah:*\n",
    "\n",
    "- ***Gender** (Female, Male, Wanita, Laki-Laki), yang bisa di standardkan nilainya menjadi (Female, Male) karena mempunyai makna yang sama.*\n",
    "- ***Dependents** (Yes, No, Iya), yang bisa di standardkan nilainya menjadi (Yes, No) karena mempunyai makna yang sama.*\n",
    "- ***Churn** (Yes, No, Churn), yang bisa di standardkan nilainya menjadi (Yes, No) karena mempunyai makna yang sama.*\n",
    "\n",
    "*Setelah kita standardkan nilainya, dan kita amati kembali bentuk datanya, sudah terstandar dengan baik untuk unique value-nya.*"
   ]
  },
  {
   "attachments": {},
   "cell_type": "markdown",
   "metadata": {},
   "source": [
    "**End of Project**"
   ]
  }
 ],
 "metadata": {
  "kernelspec": {
   "display_name": "base",
   "language": "python",
   "name": "python3"
  },
  "language_info": {
   "codemirror_mode": {
    "name": "ipython",
    "version": 3
   },
   "file_extension": ".py",
   "mimetype": "text/x-python",
   "name": "python",
   "nbconvert_exporter": "python",
   "pygments_lexer": "ipython3",
   "version": "3.9.12 (main, Apr  4 2022, 05:22:27) [MSC v.1916 64 bit (AMD64)]"
  },
  "orig_nbformat": 4,
  "vscode": {
   "interpreter": {
    "hash": "5dfae695991f40f7f711b859ebe4404a578ce2940a1c2f7058c1cb98bd497b2c"
   }
  }
 },
 "nbformat": 4,
 "nbformat_minor": 2
}

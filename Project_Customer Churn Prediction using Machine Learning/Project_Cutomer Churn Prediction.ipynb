{
 "cells": [
  {
   "attachments": {},
   "cell_type": "markdown",
   "metadata": {},
   "source": [
    "**Project name : Customer Churn Prediction using machine learning**"
   ]
  },
  {
   "attachments": {},
   "cell_type": "markdown",
   "metadata": {},
   "source": [
    "**START**"
   ]
  },
  {
   "attachments": {},
   "cell_type": "markdown",
   "metadata": {},
   "source": [
    "***Latar belakang :***\n",
    "\n",
    "DQLab Telco merupakan perusahaan Telco yang sudah mempunyai banyak cabang tersebar dimana-mana. Sejak berdiri pada tahun 2019, DQLab Telco konsisten untuk memperhatikan customer experience nya sehingga tidak akan di tinggalkan pelanggan.\n",
    "\n",
    "Walaupun baru berumur 1 tahun lebih sedikit, DQLab Telco sudah mempunyai banyak pelanggan yang beralih langganan ke kompetitior. Pihak management ingin mengurangi jumlah pelanggan yang beralih (churn) dengan menggunakan machine learning.\n"
   ]
  },
  {
   "attachments": {},
   "cell_type": "markdown",
   "metadata": {},
   "source": [
    "***Data yang digunakan:***\n",
    "\n",
    "*Data Bersih Hasil dari **Project Data Science in Telco_Data Cleansing.** Setelah kemarin kita mempersiapkan data sekaligus melakukan Cleansing, maka sekarang saatnya kita untuk membuat model yang tepat untuk memprediksi churn pelanggan.*"
   ]
  },
  {
   "attachments": {},
   "cell_type": "markdown",
   "metadata": {},
   "source": [
    "***Tugas dan Langkah:***\n",
    "\n",
    "Pada project part 1 kemarin kita telah melakukan Cleansing Data. Sekarang, sebagai data scientist kamu diminta untuk membuat model yang tepat.\n",
    "\n",
    "*Pada tugas kali ini, kamu akan melakukan Pemodelan Machine Learning dengan menggunakan **data bulan lalu, yakni Juni 2020.***\n",
    "\n",
    "*Langkah yang akan dilakukan adalah:*\n",
    "\n",
    "1. **Melakukan Exploratory Data Analysis**\n",
    "2. **Melakukan Data Pre-Processing**\n",
    "3. **Melakukan Pemodelan Machine Learning**\n",
    "4. **Menentukan Model Terbaik**"
   ]
  },
  {
   "attachments": {},
   "cell_type": "markdown",
   "metadata": {},
   "source": [
    "**Library yang digunakan:**\n",
    "\n",
    "Pada analisis kali ini, akan digunakan beberapa package yang membantu kita dalam melakukan analisis data:\n",
    "\n",
    "1. ***Pandas** (Python for Data Analysis) adalah library Python yang fokus untuk proses analisis data seperti manipulasi data, persiapan data, dan pembersihan data.*\n",
    "    - *read_csv() digunakan untuk membaca file csv*\n",
    "    - *replace() digunakan untuk mengganti nilai*\n",
    "    - *value_counts() digunakan untuk mengitung unik dari kolom*\n",
    "    - *drop() digunakan untuk menghapus*\n",
    "    - *describe() digunakan untuk melihat deskripsi datanya*"
   ]
  },
  {
   "attachments": {},
   "cell_type": "markdown",
   "metadata": {},
   "source": [
    "2. ***Matplotlib** adalah library Python yang fokus pada visualisasi data seperti membuat plot grafik. Matplotlib dapat digunakan dalam skrip Python, Python dan IPython shell, server aplikasi web, dan beberapa toolkit graphical user interface (GUI) lainnya.*\n",
    "    - *figure() digunakan untuk membuat figure gambar baru*\n",
    "    - *subplots() digunakan untuk membuat gambar dan satu set subplot*\n",
    "    - *title() digunakan untuk memberi judul pada gambar*\n",
    "    - *ylabel() digunakan untuk memberi label sumbu Y pada gambar*\n",
    "    - *xlabel() digunakan untuk memberi label sumbu Y pada gambar*\n",
    "    - *pie() digunakan untuk membuat pie chart*\n"
   ]
  },
  {
   "attachments": {},
   "cell_type": "markdown",
   "metadata": {},
   "source": [
    "3. ***Seaborn** membangun plot di atas Matplotlib dan memperkenalkan tipe plot tambahan. Ini juga membuat plot Matplotlib tradisional Anda terlihat lebih cantik.*\n",
    "    - *countplot() digunakan untuk membuat plot dengan jumlah pengamatan di setiap bin kategorik variable*\n",
    "    - *heatmap() Plot rectangular data as a color-encoded matrix*\n",
    "    - \n",
    "4. ***Scikit-learn** adalah library dalam Python yang menyediakan banyak algoritma Machine Learning baik untuk Supervised, Unsupervised Learning, maupun digunakan untuk mempreparasi data.*\n",
    "    - *LabelEncoder() digunakan untuk merubah nilai dari suatu variable menjadi 0 atau 1*\n",
    "    - *train_test_split() digunakan untuk membagi data menjadi 2 row bagian (Training & Testing)*\n",
    "    - *LogisticRegression() digunakan untuk memanggil algoritma Logistic Regression*\n",
    "    - *RandomForestClassifier() digunakan untuk memanggil algoritma Random Forest Classifier*\n",
    "    - *confusion_matrix() digunakan untuk membuat confusion matrix*\n",
    "    - *classification_report() digunakan untuk membuat classification report, yang dianataranya berisi akurasi model*\n",
    "    - \n",
    "5. ***Xgboost** adalah library dalam Python untuk algoritma extreme gradient boosting (xgboost)*\n",
    "    - *XGBClassifier() digunakan untuk memanggil algoritma XG Boost Classifier*\n",
    "    - \n",
    "6. ***Pickle** mengimplementasikan protokol biner untuk serializing dan de-serializing dari struktur objek Python.*\n",
    "    - *dump() digunakan untuk menyimpan*"
   ]
  },
  {
   "attachments": {},
   "cell_type": "markdown",
   "metadata": {},
   "source": [
    "**Import Library yang dibutuhkan :**"
   ]
  },
  {
   "cell_type": "code",
   "execution_count": 4,
   "metadata": {},
   "outputs": [],
   "source": [
    "# Import General Packages\n",
    "import pandas as pd\n",
    "import numpy as np\n",
    "import matplotlib.pyplot as plt\n",
    "import seaborn as sns\n",
    "from sklearn.preprocessing import LabelEncoder\n",
    "from sklearn.model_selection import train_test_split\n",
    "from sklearn.linear_model import LogisticRegression\n",
    "from sklearn.ensemble import RandomForestClassifier\n",
    "from sklearn.ensemble import GradientBoostingClassifier\n",
    "from sklearn.metrics import confusion_matrix, classification_report\n",
    "import pickle\n",
    "from pathlib import Path"
   ]
  },
  {
   "attachments": {},
   "cell_type": "markdown",
   "metadata": {},
   "source": [
    "**Keterangan Data yang Digunakan:**\n",
    "\n",
    "Untuk Dataset yang digunakan sudah disediakan dalam format csv, silahkan baca melalui fungsi pandas di python.\n",
    "\n",
    "*df_load = pd.read_csv('https://storage.googleapis.com/dqlab-dataset/dqlab_telco_final.csv')*\n",
    "\n",
    "*Untuk detil datanya adalah sebagai berikut:*\n",
    "   - **UpdatedAt** *Periode of Data taken*\n",
    "   - **customerID** *Customer ID*\n",
    "   - **gender** *Whether the customer is a male or a female (Male, Female)*\n",
    "   - **SeniorCitizen** *Whether the customer is a senior citizen or not (Yes, No)*\n",
    "   - **Partner** *Whether the customer has a partner or not (Yes, No)*\n",
    "   - **tenure** *Number of months the customer has stayed with the company*\n",
    "   - **PhoneService** *Whether the customer has a phone service or not (Yes, No)*\n",
    "   - **InternetService** *Customer’s internet service provider (Yes, No)*\n",
    "   - **StreamingTV** *Whether the customer has streaming TV or not (Yes, No)*\n",
    "   - **PaperlessBilling** *Whether the customer has paperless billing or not (Yes, No)*\n",
    "   - **MonthlyCharges** *The amount charged to the customer monthly*\n",
    "   - **TotalCharges** *The total amount charged to the customer*\n",
    "   - **Churn** *Whether the customer churned or not (Yes, No)*"
   ]
  },
  {
   "attachments": {},
   "cell_type": "markdown",
   "metadata": {},
   "source": [
    "**File Unloading:**\n",
    "\n",
    "- Import dataset\n",
    "- Tampilkan shape dataset\n",
    "- Tampilkan 5 data teratar \n",
    "- Tampilkan jumlah ID unik"
   ]
  },
  {
   "cell_type": "code",
   "execution_count": 5,
   "metadata": {},
   "outputs": [
    {
     "name": "stdout",
     "output_type": "stream",
     "text": [
      "(6950, 13)\n"
     ]
    },
    {
     "data": {
      "text/html": [
       "<div>\n",
       "<style scoped>\n",
       "    .dataframe tbody tr th:only-of-type {\n",
       "        vertical-align: middle;\n",
       "    }\n",
       "\n",
       "    .dataframe tbody tr th {\n",
       "        vertical-align: top;\n",
       "    }\n",
       "\n",
       "    .dataframe thead th {\n",
       "        text-align: right;\n",
       "    }\n",
       "</style>\n",
       "<table border=\"1\" class=\"dataframe\">\n",
       "  <thead>\n",
       "    <tr style=\"text-align: right;\">\n",
       "      <th></th>\n",
       "      <th>UpdatedAt</th>\n",
       "      <th>customerID</th>\n",
       "      <th>gender</th>\n",
       "      <th>SeniorCitizen</th>\n",
       "      <th>Partner</th>\n",
       "      <th>tenure</th>\n",
       "      <th>PhoneService</th>\n",
       "      <th>StreamingTV</th>\n",
       "      <th>InternetService</th>\n",
       "      <th>PaperlessBilling</th>\n",
       "      <th>MonthlyCharges</th>\n",
       "      <th>TotalCharges</th>\n",
       "      <th>Churn</th>\n",
       "    </tr>\n",
       "  </thead>\n",
       "  <tbody>\n",
       "    <tr>\n",
       "      <th>0</th>\n",
       "      <td>202006</td>\n",
       "      <td>45759018157</td>\n",
       "      <td>Female</td>\n",
       "      <td>No</td>\n",
       "      <td>Yes</td>\n",
       "      <td>1</td>\n",
       "      <td>No</td>\n",
       "      <td>No</td>\n",
       "      <td>Yes</td>\n",
       "      <td>Yes</td>\n",
       "      <td>29.85</td>\n",
       "      <td>29.85</td>\n",
       "      <td>No</td>\n",
       "    </tr>\n",
       "    <tr>\n",
       "      <th>1</th>\n",
       "      <td>202006</td>\n",
       "      <td>45315483266</td>\n",
       "      <td>Male</td>\n",
       "      <td>No</td>\n",
       "      <td>Yes</td>\n",
       "      <td>60</td>\n",
       "      <td>Yes</td>\n",
       "      <td>No</td>\n",
       "      <td>No</td>\n",
       "      <td>Yes</td>\n",
       "      <td>20.50</td>\n",
       "      <td>1198.80</td>\n",
       "      <td>No</td>\n",
       "    </tr>\n",
       "    <tr>\n",
       "      <th>2</th>\n",
       "      <td>202006</td>\n",
       "      <td>45236961615</td>\n",
       "      <td>Male</td>\n",
       "      <td>No</td>\n",
       "      <td>No</td>\n",
       "      <td>5</td>\n",
       "      <td>Yes</td>\n",
       "      <td>Yes</td>\n",
       "      <td>Yes</td>\n",
       "      <td>No</td>\n",
       "      <td>104.10</td>\n",
       "      <td>541.90</td>\n",
       "      <td>Yes</td>\n",
       "    </tr>\n",
       "    <tr>\n",
       "      <th>3</th>\n",
       "      <td>202006</td>\n",
       "      <td>45929827382</td>\n",
       "      <td>Female</td>\n",
       "      <td>No</td>\n",
       "      <td>Yes</td>\n",
       "      <td>72</td>\n",
       "      <td>Yes</td>\n",
       "      <td>Yes</td>\n",
       "      <td>Yes</td>\n",
       "      <td>Yes</td>\n",
       "      <td>115.50</td>\n",
       "      <td>8312.75</td>\n",
       "      <td>No</td>\n",
       "    </tr>\n",
       "    <tr>\n",
       "      <th>4</th>\n",
       "      <td>202006</td>\n",
       "      <td>45305082233</td>\n",
       "      <td>Female</td>\n",
       "      <td>No</td>\n",
       "      <td>Yes</td>\n",
       "      <td>56</td>\n",
       "      <td>Yes</td>\n",
       "      <td>Yes</td>\n",
       "      <td>Yes</td>\n",
       "      <td>No</td>\n",
       "      <td>81.25</td>\n",
       "      <td>4620.40</td>\n",
       "      <td>No</td>\n",
       "    </tr>\n",
       "  </tbody>\n",
       "</table>\n",
       "</div>"
      ],
      "text/plain": [
       "   UpdatedAt   customerID  gender SeniorCitizen Partner  tenure PhoneService  \\\n",
       "0     202006  45759018157  Female            No     Yes       1           No   \n",
       "1     202006  45315483266    Male            No     Yes      60          Yes   \n",
       "2     202006  45236961615    Male            No      No       5          Yes   \n",
       "3     202006  45929827382  Female            No     Yes      72          Yes   \n",
       "4     202006  45305082233  Female            No     Yes      56          Yes   \n",
       "\n",
       "  StreamingTV InternetService PaperlessBilling  MonthlyCharges  TotalCharges  \\\n",
       "0          No             Yes              Yes           29.85         29.85   \n",
       "1          No              No              Yes           20.50       1198.80   \n",
       "2         Yes             Yes               No          104.10        541.90   \n",
       "3         Yes             Yes              Yes          115.50       8312.75   \n",
       "4         Yes             Yes               No           81.25       4620.40   \n",
       "\n",
       "  Churn  \n",
       "0    No  \n",
       "1    No  \n",
       "2   Yes  \n",
       "3    No  \n",
       "4    No  "
      ]
     },
     "execution_count": 5,
     "metadata": {},
     "output_type": "execute_result"
    }
   ],
   "source": [
    "import pandas as pd\n",
    "#import dataset\n",
    "df_load = pd.read_csv('https://storage.googleapis.com/dqlab-dataset/dqlab_telco_final.csv')\n",
    "\n",
    "#Tampilkan bentuk dari dataset\n",
    "print(df_load.shape)\n",
    "\n",
    "#Tampilkan 5 data teratas\n",
    "df_load.head()\n"
   ]
  },
  {
   "cell_type": "code",
   "execution_count": 6,
   "metadata": {},
   "outputs": [
    {
     "name": "stdout",
     "output_type": "stream",
     "text": [
      "6950\n"
     ]
    }
   ],
   "source": [
    "#Tampilkan jumlah ID yang unik\n",
    "print(df_load.customerID.nunique())"
   ]
  },
  {
   "attachments": {},
   "cell_type": "markdown",
   "metadata": {},
   "source": [
    "**Melakukan Exploratory Data Analysis (EDA)**"
   ]
  },
  {
   "attachments": {},
   "cell_type": "markdown",
   "metadata": {},
   "source": [
    "**A. Exploratory Data Analysis**\n",
    "\n",
    "Exploratory Data Analysis memungkinkan analyst memahami isi data yang digunakan, mulai dari distribusi, frekuensi, korelasi dan lainnya. Pada umumnya EDA dilakukan dengan beberapa cara:\n",
    "\n",
    "- **Univariat Analysis** — *analisis deskriptif dengan satu variabel.*\n",
    "- **Bivariat Analysis** — *analisis relasi dengan dua variabel yang biasanya dengan target variabel.*\n",
    "- **Multivariat Analysis** — *analisis yang menggunakan lebih dari atau sama dengan tiga variabel.*"
   ]
  },
  {
   "attachments": {},
   "cell_type": "markdown",
   "metadata": {},
   "source": [
    "**Tujuan dari kasus ini adalah diminta untuk melihat persebaran dari:**\n",
    "1. Prosentase persebaran data Churn dan tidaknya dari seluruh data\n",
    "2. Persebaran data dari variable predictor terhadap label (Churn)"
   ]
  },
  {
   "attachments": {},
   "cell_type": "markdown",
   "metadata": {},
   "source": [
    "**B. Memvisualisasikan Prosentase Churn**\n",
    "\n",
    "*Melihat visualisasi data secara **univariat** terkait prosentase **data churn** dari pelanggan.*\n",
    "- **value_counts()** *untuk menghitung banyaknya unik dari sebuah kolom*\n",
    "- **pie()** *untuk membuat pie chart*"
   ]
  },
  {
   "cell_type": "code",
   "execution_count": 7,
   "metadata": {},
   "outputs": [
    {
     "data": {
      "image/png": "[encoded data removed]",
      "text/plain": [
       "<Figure size 432x288 with 1 Axes>"
      ]
     },
     "metadata": {},
     "output_type": "display_data"
    }
   ],
   "source": [
    "df_load = pd.read_csv('https://storage.googleapis.com/dqlab-dataset/dqlab_telco_final.csv')\n",
    "\n",
    "fig = plt.figure()\n",
    "ax = fig.add_axes([0,0,1,1])\n",
    "ax.axis('equal')\n",
    "labels = ['Yes','No']\n",
    "churn = df_load.Churn.value_counts()\n",
    "ax.pie(churn, labels=labels, autopct='%.0f%%')\n",
    "plt.show()"
   ]
  },
  {
   "attachments": {},
   "cell_type": "markdown",
   "metadata": {},
   "source": [
    "**C. Exploratory Data Analysis (EDA) Variabel Numerik**\n",
    "\n",
    "*Hal yang akan kita lakukan selanjutnya adalah memilih variable predictor yang bersifat **numerik** dan membuat plot secara **bivariat**, kemudian menginterpretasikannya*\n",
    "\n",
    "- **subplots()** *untuk membuat gambar dan satu set subplot.*\n",
    "- ***variable predictor numerik** : MonthlyCarges, TotalCharges, tenure*"
   ]
  },
  {
   "cell_type": "code",
   "execution_count": 8,
   "metadata": {},
   "outputs": [
    {
     "data": {
      "image/png": "[encoded data removed]",
      "text/plain": [
       "<Figure size 1080x432 with 3 Axes>"
      ]
     },
     "metadata": {
      "needs_background": "light"
     },
     "output_type": "display_data"
    }
   ],
   "source": [
    "df_load = pd.read_csv('https://storage.googleapis.com/dqlab-dataset/dqlab_telco_final.csv')\n",
    "\n",
    "#creating bin in chart\n",
    "numerical_features = ['MonthlyCharges','TotalCharges','tenure']\n",
    "fig, ax = plt.subplots(1, 3, figsize=(15, 6))\n",
    "# Use the following code to plot two overlays of histogram per each numerical_features, use a color of blue and orange, respectively\n",
    "df_load[df_load.Churn == 'No'][numerical_features].hist(bins=20, color='blue', alpha=0.5, ax=ax)\n",
    "df_load[df_load.Churn == 'Yes'][numerical_features].hist(bins=20, color='orange', alpha=0.5, ax=ax)\n",
    "plt.show()"
   ]
  },
  {
   "attachments": {},
   "cell_type": "markdown",
   "metadata": {},
   "source": [
    "**C. Exploratory Data Analysis (EDA) Variabel Kategorik**\n",
    "\n",
    "*kita akan melakukan pemilihan variable predictor yang bersifat **kategorik** dan membuat plot secara **bivariat**, kemudian menginterpretasikannya*\n",
    "\n",
    "- **countplot()** *untuk membuat plot dengan jumlah pengamatan di setiap bin kategorik variable*\n",
    "- ***variable predictor kategorik** : gender, Partner, SeniorCitizen, PhoneService, StreamingTV, InternetService, PaperlessBilling*"
   ]
  },
  {
   "cell_type": "code",
   "execution_count": 9,
   "metadata": {},
   "outputs": [
    {
     "data": {
      "image/png": "[encoded data removed]",
      "text/plain": [
       "<Figure size 1008x864 with 9 Axes>"
      ]
     },
     "metadata": {},
     "output_type": "display_data"
    }
   ],
   "source": [
    "import seaborn as sns\n",
    "sns.set(style='darkgrid')\n",
    "\n",
    "df_load = pd.read_csv('https://storage.googleapis.com/dqlab-dataset/dqlab_telco_final.csv')\n",
    "\n",
    "fig, ax = plt.subplots(3, 3, figsize=(14, 12))\n",
    "sns.countplot(data=df_load, x='gender', hue='Churn',ax=ax[0][0])\n",
    "sns.countplot(data=df_load, x='Partner', hue='Churn', ax=ax[0][1])\n",
    "sns.countplot(data=df_load, x='SeniorCitizen', hue='Churn', ax=ax[0][2])\n",
    "sns.countplot(data=df_load, x='PhoneService', hue='Churn', ax=ax[1][0])\n",
    "sns.countplot(data=df_load, x='StreamingTV', hue='Churn', ax=ax[1][1])\n",
    "sns.countplot(data=df_load, x='InternetService', hue='Churn', ax=ax[1][2])\n",
    "sns.countplot(data=df_load, x='PaperlessBilling', hue='Churn', ax=ax[2][1])\n",
    "plt.tight_layout()\n",
    "plt.show()"
   ]
  },
  {
   "attachments": {},
   "cell_type": "markdown",
   "metadata": {},
   "source": [
    "**D. Kesimpulan**\n",
    "\n",
    "*Berdasarkan hasil dan analisa di atas dapat disimpulkan:*\n",
    "\n",
    "1. Pada **tahap A** dapat kita ketahui bahwa: \n",
    "    - *Sebaran data secara kesuluruhan customer tidak melakukan churn, dengan detil Churn sebanyak 26% dan No Churn sebanyak 74%.*\n",
    "2. Pada **tahap B** dapat kita ketahui bahwa untuk:\n",
    "    - ***MonthlyCharges** ada kecenderungan semakin kecil nilai biaya bulanan yang dikenakan, semakin kecil juga kecenderungan untuk melakukan Churn.* \n",
    "    - ***TotalCharges** terlihat tidak ada kecenderungan apapun terhadap Churn customers.* \n",
    "    - ***tenure** ada kecenderungan semakin lama berlangganan customer, semakin kecil kecenderungan untuk melakukan Churn.*\n",
    "3. Pada **tahap C** dapat kita ketahui bahwa:\n",
    "    - *Tidak ada perbedaan yang signifikan untuk orang melakukan churn dilihat dari faktor jenis kelamin (**gender**) dan layanan telfonnya (**PhoneService**).*\n",
    "    - *Akan tetapi ada kecenderungan bahwa orang yang melakukan churn adalah orang-orang yang tidak memiliki partner (**partner: No**), orang-orang yang statusnya adalah senior citizen(**SeniorCitizen: Yes**), orang-orang yang mempunyai layanan streaming TV (**StreamingTV: Yes**), orang-orang yang mempunyai layanan Internet (**internetService: Yes**) dan orang-orang yang tagihannya paperless (**PaperlessBilling: Yes**).*"
   ]
  },
  {
   "cell_type": "markdown",
   "metadata": {},
   "source": []
  },
  {
   "attachments": {},
   "cell_type": "markdown",
   "metadata": {},
   "source": [
    "**Melakukan Data PreProcessing**"
   ]
  },
  {
   "attachments": {},
   "cell_type": "markdown",
   "metadata": {},
   "source": [
    "**A. Menghapus Unnecessary Columns dari data**\n",
    "\n",
    "Selanjutnya kita akan mengapus kolom yang tidak akan diikutsertakan dalam pemodelan, kemudian simpan dengan nama **cleaned_df**. Tampilkan 5 rows teratas nya.\n",
    "- Gunakan **drop()** untuk menghapus kolom dari suatu data\n",
    "- *Kolom yang tidak diikutsertakan/**bukan predictor** : customerID, UpdatedAt*"
   ]
  },
  {
   "cell_type": "code",
   "execution_count": 10,
   "metadata": {},
   "outputs": [
    {
     "data": {
      "text/html": [
       "<div>\n",
       "<style scoped>\n",
       "    .dataframe tbody tr th:only-of-type {\n",
       "        vertical-align: middle;\n",
       "    }\n",
       "\n",
       "    .dataframe tbody tr th {\n",
       "        vertical-align: top;\n",
       "    }\n",
       "\n",
       "    .dataframe thead th {\n",
       "        text-align: right;\n",
       "    }\n",
       "</style>\n",
       "<table border=\"1\" class=\"dataframe\">\n",
       "  <thead>\n",
       "    <tr style=\"text-align: right;\">\n",
       "      <th></th>\n",
       "      <th>gender</th>\n",
       "      <th>SeniorCitizen</th>\n",
       "      <th>Partner</th>\n",
       "      <th>tenure</th>\n",
       "      <th>PhoneService</th>\n",
       "      <th>StreamingTV</th>\n",
       "      <th>InternetService</th>\n",
       "      <th>PaperlessBilling</th>\n",
       "      <th>MonthlyCharges</th>\n",
       "      <th>TotalCharges</th>\n",
       "      <th>Churn</th>\n",
       "    </tr>\n",
       "  </thead>\n",
       "  <tbody>\n",
       "    <tr>\n",
       "      <th>0</th>\n",
       "      <td>Female</td>\n",
       "      <td>No</td>\n",
       "      <td>Yes</td>\n",
       "      <td>1</td>\n",
       "      <td>No</td>\n",
       "      <td>No</td>\n",
       "      <td>Yes</td>\n",
       "      <td>Yes</td>\n",
       "      <td>29.85</td>\n",
       "      <td>29.85</td>\n",
       "      <td>No</td>\n",
       "    </tr>\n",
       "    <tr>\n",
       "      <th>1</th>\n",
       "      <td>Male</td>\n",
       "      <td>No</td>\n",
       "      <td>Yes</td>\n",
       "      <td>60</td>\n",
       "      <td>Yes</td>\n",
       "      <td>No</td>\n",
       "      <td>No</td>\n",
       "      <td>Yes</td>\n",
       "      <td>20.50</td>\n",
       "      <td>1198.80</td>\n",
       "      <td>No</td>\n",
       "    </tr>\n",
       "    <tr>\n",
       "      <th>2</th>\n",
       "      <td>Male</td>\n",
       "      <td>No</td>\n",
       "      <td>No</td>\n",
       "      <td>5</td>\n",
       "      <td>Yes</td>\n",
       "      <td>Yes</td>\n",
       "      <td>Yes</td>\n",
       "      <td>No</td>\n",
       "      <td>104.10</td>\n",
       "      <td>541.90</td>\n",
       "      <td>Yes</td>\n",
       "    </tr>\n",
       "    <tr>\n",
       "      <th>3</th>\n",
       "      <td>Female</td>\n",
       "      <td>No</td>\n",
       "      <td>Yes</td>\n",
       "      <td>72</td>\n",
       "      <td>Yes</td>\n",
       "      <td>Yes</td>\n",
       "      <td>Yes</td>\n",
       "      <td>Yes</td>\n",
       "      <td>115.50</td>\n",
       "      <td>8312.75</td>\n",
       "      <td>No</td>\n",
       "    </tr>\n",
       "    <tr>\n",
       "      <th>4</th>\n",
       "      <td>Female</td>\n",
       "      <td>No</td>\n",
       "      <td>Yes</td>\n",
       "      <td>56</td>\n",
       "      <td>Yes</td>\n",
       "      <td>Yes</td>\n",
       "      <td>Yes</td>\n",
       "      <td>No</td>\n",
       "      <td>81.25</td>\n",
       "      <td>4620.40</td>\n",
       "      <td>No</td>\n",
       "    </tr>\n",
       "  </tbody>\n",
       "</table>\n",
       "</div>"
      ],
      "text/plain": [
       "   gender SeniorCitizen Partner  tenure PhoneService StreamingTV  \\\n",
       "0  Female            No     Yes       1           No          No   \n",
       "1    Male            No     Yes      60          Yes          No   \n",
       "2    Male            No      No       5          Yes         Yes   \n",
       "3  Female            No     Yes      72          Yes         Yes   \n",
       "4  Female            No     Yes      56          Yes         Yes   \n",
       "\n",
       "  InternetService PaperlessBilling  MonthlyCharges  TotalCharges Churn  \n",
       "0             Yes              Yes           29.85         29.85    No  \n",
       "1              No              Yes           20.50       1198.80    No  \n",
       "2             Yes               No          104.10        541.90   Yes  \n",
       "3             Yes              Yes          115.50       8312.75    No  \n",
       "4             Yes               No           81.25       4620.40    No  "
      ]
     },
     "execution_count": 10,
     "metadata": {},
     "output_type": "execute_result"
    }
   ],
   "source": [
    "df_load = pd.read_csv('https://storage.googleapis.com/dqlab-dataset/dqlab_telco_final.csv')\n",
    "\n",
    "# Remove the unnecessary columns customerID & UpdatedAt\n",
    "cleaned_df = df_load.drop(['customerID', 'UpdatedAt'], axis=1)\n",
    "cleaned_df.head()"
   ]
  },
  {
   "attachments": {},
   "cell_type": "markdown",
   "metadata": {},
   "source": [
    "**B. Encoding Data**\n",
    "\n",
    "*Gunakan data dari hasil dan analisa sebelumnya cleaned_df, untuk merubah value dari data yang masih berbentuk string untuk diubah ke dalam bentuk numeric menggunakan **LabelEncoder().*** \n",
    "- *Gunakan **describe()** untuk melihat deskripsi datanya.*\n",
    "- ***Endcoding data tanpa merubah** nilai deskriptif predictor ber-type numeric*\n"
   ]
  },
  {
   "cell_type": "code",
   "execution_count": 11,
   "metadata": {},
   "outputs": [
    {
     "data": {
      "text/html": [
       "<div>\n",
       "<style scoped>\n",
       "    .dataframe tbody tr th:only-of-type {\n",
       "        vertical-align: middle;\n",
       "    }\n",
       "\n",
       "    .dataframe tbody tr th {\n",
       "        vertical-align: top;\n",
       "    }\n",
       "\n",
       "    .dataframe thead th {\n",
       "        text-align: right;\n",
       "    }\n",
       "</style>\n",
       "<table border=\"1\" class=\"dataframe\">\n",
       "  <thead>\n",
       "    <tr style=\"text-align: right;\">\n",
       "      <th></th>\n",
       "      <th>tenure</th>\n",
       "      <th>MonthlyCharges</th>\n",
       "      <th>TotalCharges</th>\n",
       "    </tr>\n",
       "  </thead>\n",
       "  <tbody>\n",
       "    <tr>\n",
       "      <th>count</th>\n",
       "      <td>6950.000000</td>\n",
       "      <td>6950.000000</td>\n",
       "      <td>6950.000000</td>\n",
       "    </tr>\n",
       "    <tr>\n",
       "      <th>mean</th>\n",
       "      <td>32.423165</td>\n",
       "      <td>64.992201</td>\n",
       "      <td>2286.058750</td>\n",
       "    </tr>\n",
       "    <tr>\n",
       "      <th>std</th>\n",
       "      <td>24.581073</td>\n",
       "      <td>30.032040</td>\n",
       "      <td>2265.702553</td>\n",
       "    </tr>\n",
       "    <tr>\n",
       "      <th>min</th>\n",
       "      <td>0.000000</td>\n",
       "      <td>0.000000</td>\n",
       "      <td>19.000000</td>\n",
       "    </tr>\n",
       "    <tr>\n",
       "      <th>25%</th>\n",
       "      <td>9.000000</td>\n",
       "      <td>36.462500</td>\n",
       "      <td>406.975000</td>\n",
       "    </tr>\n",
       "    <tr>\n",
       "      <th>50%</th>\n",
       "      <td>29.000000</td>\n",
       "      <td>70.450000</td>\n",
       "      <td>1400.850000</td>\n",
       "    </tr>\n",
       "    <tr>\n",
       "      <th>75%</th>\n",
       "      <td>55.000000</td>\n",
       "      <td>89.850000</td>\n",
       "      <td>3799.837500</td>\n",
       "    </tr>\n",
       "    <tr>\n",
       "      <th>max</th>\n",
       "      <td>124.000000</td>\n",
       "      <td>169.931250</td>\n",
       "      <td>8889.131250</td>\n",
       "    </tr>\n",
       "  </tbody>\n",
       "</table>\n",
       "</div>"
      ],
      "text/plain": [
       "            tenure  MonthlyCharges  TotalCharges\n",
       "count  6950.000000     6950.000000   6950.000000\n",
       "mean     32.423165       64.992201   2286.058750\n",
       "std      24.581073       30.032040   2265.702553\n",
       "min       0.000000        0.000000     19.000000\n",
       "25%       9.000000       36.462500    406.975000\n",
       "50%      29.000000       70.450000   1400.850000\n",
       "75%      55.000000       89.850000   3799.837500\n",
       "max     124.000000      169.931250   8889.131250"
      ]
     },
     "execution_count": 11,
     "metadata": {},
     "output_type": "execute_result"
    }
   ],
   "source": [
    "# Deskripsi Data Awal tipe numeric\n",
    "df_load = pd.read_csv('https://storage.googleapis.com/dqlab-dataset/dqlab_telco_final.csv')\n",
    "cleaned_df = df_load.drop(['customerID','UpdatedAt'], axis=1)\n",
    "\n",
    "cleaned_df.describe()"
   ]
  },
  {
   "attachments": {},
   "cell_type": "markdown",
   "metadata": {},
   "source": []
  },
  {
   "cell_type": "code",
   "execution_count": 12,
   "metadata": {},
   "outputs": [
    {
     "name": "stdout",
     "output_type": "stream",
     "text": [
      "            gender  SeniorCitizen      Partner       tenure  PhoneService  \\\n",
      "count  6950.000000    6950.000000  6950.000000  6950.000000   6950.000000   \n",
      "mean      0.504317       0.162302     0.483309    32.423165      0.903741   \n",
      "std       0.500017       0.368754     0.499757    24.581073      0.294967   \n",
      "min       0.000000       0.000000     0.000000     0.000000      0.000000   \n",
      "25%       0.000000       0.000000     0.000000     9.000000      1.000000   \n",
      "50%       1.000000       0.000000     0.000000    29.000000      1.000000   \n",
      "75%       1.000000       0.000000     1.000000    55.000000      1.000000   \n",
      "max       1.000000       1.000000     1.000000   124.000000      1.000000   \n",
      "\n",
      "       StreamingTV  InternetService  PaperlessBilling  MonthlyCharges  \\\n",
      "count  6950.000000      6950.000000       6950.000000     6950.000000   \n",
      "mean      0.384317         0.783453          0.591942       64.992201   \n",
      "std       0.486468         0.411921          0.491509       30.032040   \n",
      "min       0.000000         0.000000          0.000000        0.000000   \n",
      "25%       0.000000         1.000000          0.000000       36.462500   \n",
      "50%       0.000000         1.000000          1.000000       70.450000   \n",
      "75%       1.000000         1.000000          1.000000       89.850000   \n",
      "max       1.000000         1.000000          1.000000      169.931250   \n",
      "\n",
      "       TotalCharges        Churn  \n",
      "count   6950.000000  6950.000000  \n",
      "mean    2286.058750     0.264173  \n",
      "std     2265.702553     0.440923  \n",
      "min       19.000000     0.000000  \n",
      "25%      406.975000     0.000000  \n",
      "50%     1400.850000     0.000000  \n",
      "75%     3799.837500     1.000000  \n",
      "max     8889.131250     1.000000  \n"
     ]
    }
   ],
   "source": [
    "# Endcoding predictor kategorikal tanpa mengubah nilai deskriptif predictor numeric\n",
    "import numpy as np\n",
    "import pandas as pd\n",
    "df_load = pd.read_csv('https://storage.googleapis.com/dqlab-dataset/dqlab_telco_final.csv')\n",
    "cleaned_df = df_load.drop(['customerID','UpdatedAt'], axis=1)\n",
    "\n",
    "from sklearn.preprocessing import LabelEncoder\n",
    "#Convert all the non-numeric columns to numerical data types\n",
    "for column in cleaned_df.columns:\n",
    "    if np.issubdtype(cleaned_df[column].dtype, np.number): continue\n",
    "    # Perform encoding for each non-numeric column\n",
    "    cleaned_df[column] = LabelEncoder().fit_transform(cleaned_df[column])\n",
    "print(cleaned_df.describe())"
   ]
  },
  {
   "attachments": {},
   "cell_type": "markdown",
   "metadata": {},
   "source": [
    "**C. Splitting Dataset**\n",
    "\n",
    "*Gunakan data dari hasil dan analisa sebelumnya cleaned_df. Bagi datasetnya menjadi 2 bagian (70% training & 30% testing) berdasarkan variable predictor (X) dan targetnya (Y).* \n",
    "- *Gunakan **train_test_split()** untuk membagi data tersebut.* \n",
    "- *Sertakan **value_counts** untuk mengecek apakah pembagian sudah sama proporsinya.* \n",
    "- *Simpan hasil spliting data menjadi **x_train, y_train, x_test & y_test***"
   ]
  },
  {
   "cell_type": "code",
   "execution_count": 13,
   "metadata": {},
   "outputs": [
    {
     "name": "stdout",
     "output_type": "stream",
     "text": [
      "Jumlah baris dan kolom dari x_train adalah: (4865, 10) , sedangkan Jumlah baris dan kolom dari y_train adalah: (4865,)\n",
      "Prosentase Churn di data Training adalah:\n",
      "0    0.734841\n",
      "1    0.265159\n",
      "Name: Churn, dtype: float64\n",
      "Jumlah baris dan kolom dari x_test adalah: (2085, 10) , sedangkan Jumlah baris dan kolom dari y_test adalah: (2085,)\n",
      "Prosentase Churn di data Testing adalah:\n",
      "0    0.738129\n",
      "1    0.261871\n",
      "Name: Churn, dtype: float64\n"
     ]
    }
   ],
   "source": [
    "import numpy as np\n",
    "import pandas as pd\n",
    "from sklearn.preprocessing import LabelEncoder\n",
    "\n",
    "df_load = pd.read_csv('https://storage.googleapis.com/dqlab-dataset/dqlab_telco_final.csv')\n",
    "cleaned_df = df_load.drop(['customerID','UpdatedAt'], axis=1)\n",
    "\n",
    "for column in cleaned_df.columns:\n",
    "    if np.issubdtype(cleaned_df[column].dtype, np.number): continue\n",
    "    cleaned_df[column] = LabelEncoder().fit_transform(cleaned_df[column])\n",
    "\n",
    "from sklearn.model_selection import train_test_split\n",
    "\n",
    "# Predictor dan target\n",
    "X = cleaned_df.drop('Churn', axis=1)\n",
    "y = cleaned_df['Churn']\n",
    "\n",
    "# Splitting train and test\n",
    "x_train, x_test, y_train, y_test = train_test_split(X, y, test_size=0.3, random_state=42)\n",
    "\n",
    "# Print according to the expected result\n",
    "print('Jumlah baris dan kolom dari x_train adalah:', x_train.shape,', sedangkan Jumlah baris dan kolom dari y_train adalah:', y_train.shape)\n",
    "print('Prosentase Churn di data Training adalah:')\n",
    "print(y_train.value_counts(normalize=True))\n",
    "print('Jumlah baris dan kolom dari x_test adalah:', x_test.shape,', sedangkan Jumlah baris dan kolom dari y_test adalah:', y_test.shape)\n",
    "print('Prosentase Churn di data Testing adalah:')\n",
    "print(y_test.value_counts(normalize=True))"
   ]
  },
  {
   "attachments": {},
   "cell_type": "markdown",
   "metadata": {},
   "source": [
    "***Alasan Kenapa \"random state=42\"?** adalah parameter yang diteruskan ke algoritma pembelajaran mesin yang digunakan untuk menetapkan seed acak. Ini berarti bahwa setiap kali algoritma dijalankan dengan seed yang sama, hasilnya akan sama. Ini digunakan untuk menyediakan reproducibilitas dalam hasil, sehingga hasil dapat diuji dan dibandingkan dengan hasil sebelumnya. 42 hanya dipilih sebagai nilai default karena itu adalah jawaban dari \"The Ultimate Question of Life, the Universe, and Everything\" dalam novel \"The Hitchhiker's Guide to the Galaxy\" karya Douglas Adams.*"
   ]
  },
  {
   "attachments": {},
   "cell_type": "markdown",
   "metadata": {},
   "source": [
    "**D. Kesimpulan**\n",
    "\n",
    "1. *Setelah kita analisis lebih lanjut, ternyata ada kolom yang tidak dibutuhkuan dalam model, yaitu Id Number pelanggannya (customerID) & periode pengambilan datanya (UpdatedAt), maka hal ini perlu dihapus.*\n",
    "2. *Kemudian kita lanjut mengubah value dari data yang masih berbentuk string menjadi numeric melalui encoding, setelah dilakukan terlihat di persebaran datanya khususnya kolom min dan max dari masing masing variable sudah berubah menjadi 0 & 1.*\n",
    "3. *Tahap terakhir adalah membagi data menjadi 2 bagian untuk keperluan modelling, setelah dilakukan terlihat dari jumlah baris dan kolom masing-masing data sudah sesuai & prosentase kolom churn juga sama dengan data di awal, hal ini **mengindikasikan bahwasannya data terpisah** dengan baik dan benar.*"
   ]
  },
  {
   "cell_type": "markdown",
   "metadata": {},
   "source": []
  },
  {
   "attachments": {},
   "cell_type": "markdown",
   "metadata": {},
   "source": [
    "**Modelling: Logistic Regression**"
   ]
  },
  {
   "attachments": {},
   "cell_type": "markdown",
   "metadata": {},
   "source": [
    "**A. Pembuatan Model**\n",
    "\n",
    "*Selanjutnya kita akan membuat model dengan menggunakan Algoritma Logistic Regression.*\n",
    "- *Gunakan **LogisticRegression()** memanggil algoritma tersebut, fit ke data train dan simpan sebagai **log_model***"
   ]
  },
  {
   "cell_type": "code",
   "execution_count": 62,
   "metadata": {},
   "outputs": [
    {
     "name": "stdout",
     "output_type": "stream",
     "text": [
      "Model Logistic Regression yang terbentuk adalah: \n",
      " LogisticRegression(max_iter=1000)\n"
     ]
    }
   ],
   "source": [
    "import numpy as np\n",
    "import pandas as pd\n",
    "import matplotlib.pyplot as plt\n",
    "import seaborn as sns\n",
    "sns.set(style='darkgrid')\n",
    "from sklearn.preprocessing import LabelEncoder\n",
    "from sklearn.model_selection import train_test_split\n",
    "from sklearn.linear_model import LogisticRegression\n",
    "from sklearn.metrics import confusion_matrix, classification_report\n",
    "\n",
    "df_load = pd.read_csv('https://storage.googleapis.com/dqlab-dataset/dqlab_telco_final.csv')\n",
    "cleaned_df = df_load.drop(['customerID','UpdatedAt'], axis=1)\n",
    "\n",
    "for column in cleaned_df.columns:\n",
    "    if np.issubdtype(cleaned_df[column].dtype, np.number): continue\n",
    "    cleaned_df[column] = LabelEncoder().fit_transform(cleaned_df[column])\n",
    "\n",
    "X = cleaned_df.drop('Churn', axis = 1) \n",
    "y = cleaned_df['Churn']\n",
    "x_train, x_test, y_train, y_test = train_test_split(X, y, test_size=0.3, random_state=42)\n",
    "\n",
    "# Train the model\n",
    "log_model = LogisticRegression(solver='lbfgs', max_iter=1000).fit(x_train,y_train)\n",
    "print('Model Logistic Regression yang terbentuk adalah: \\n', log_model)"
   ]
  },
  {
   "attachments": {},
   "cell_type": "markdown",
   "metadata": {},
   "source": [
    "**B. Performansi Model Training - Menampilkan Metrics**\n",
    "\n",
    "*Setelah kita membuat modelnya, maka lakukan perhitungan untuk memperoleh classification reportnya pada data training seperti hasil di bawah ini. Gunakan **classification_report().***"
   ]
  },
  {
   "cell_type": "code",
   "execution_count": 63,
   "metadata": {},
   "outputs": [
    {
     "name": "stdout",
     "output_type": "stream",
     "text": [
      "Classification Report Training Model(Logistic Regression):\n",
      "              precision    recall  f1-score   support\n",
      "\n",
      "           0       0.83      0.90      0.87      3575\n",
      "           1       0.65      0.50      0.56      1290\n",
      "\n",
      "    accuracy                           0.80      4865\n",
      "   macro avg       0.74      0.70      0.72      4865\n",
      "weighted avg       0.78      0.80      0.79      4865\n",
      "\n"
     ]
    }
   ],
   "source": [
    "# Predict\n",
    "y_train_pred = log_model.predict(x_train)\n",
    "# Print classification report \n",
    "print('Classification Report Training Model(Logistic Regression):')\n",
    "print(classification_report(y_train,y_train_pred))"
   ]
  },
  {
   "attachments": {},
   "cell_type": "markdown",
   "metadata": {},
   "source": [
    "**C. Performansi Model Training - Menampilkan Plots**\n",
    "\n",
    "*Setelah mendapatkan hasil classification report pada tahap sebelumnya, kita dapat juga menampilkan confusion matrix-nya. **Confusion matrix** ini diperoleh dengan menggunakan confusion_matrix dan dapat divisualisasikan dengan menggunakan **heatmap dari seaborn***"
   ]
  },
  {
   "cell_type": "code",
   "execution_count": 77,
   "metadata": {},
   "outputs": [
    {
     "data": {
      "image/png": "[encoded data removed]",
      "text/plain": [
       "<Figure size 432x288 with 2 Axes>"
      ]
     },
     "metadata": {},
     "output_type": "display_data"
    }
   ],
   "source": [
    "import numpy as np\n",
    "import pandas as pd\n",
    "import matplotlib.pyplot as plt\n",
    "import seaborn as sns\n",
    "sns.set(style='darkgrid')\n",
    "from sklearn.preprocessing import LabelEncoder\n",
    "from sklearn.model_selection import train_test_split\n",
    "from sklearn.linear_model import LogisticRegression\n",
    "from sklearn.metrics import confusion_matrix, classification_report\n",
    "\n",
    "df_load = pd.read_csv('https://storage.googleapis.com/dqlab-dataset/dqlab_telco_final.csv')\n",
    "cleaned_df = df_load.drop(['customerID','UpdatedAt'], axis=1)\n",
    "\n",
    "for column in cleaned_df.columns:\n",
    "    if np.issubdtype(cleaned_df[column].dtype, np.number): continue\n",
    "    cleaned_df[column] = LabelEncoder().fit_transform(cleaned_df[column])\n",
    "\n",
    "X = cleaned_df.drop('Churn', axis = 1) \n",
    "y = cleaned_df['Churn']\n",
    "x_train, x_test, y_train, y_test = train_test_split(X, y, test_size=0.3, random_state=42)\n",
    "\n",
    "# Train the model\n",
    "log_model = LogisticRegression(solver='lbfgs', max_iter=1000).fit(x_train,y_train)\n",
    "\n",
    "# Predict\n",
    "y_train_pred = log_model.predict(x_train)\n",
    "\n",
    "# Form confusion matrix as a DataFrame\n",
    "confusion_matrix_df = pd.DataFrame((confusion_matrix(y_train, y_train_pred)), ('No churn','Churn'), ('No churn', 'Churn'))\n",
    "\n",
    "# Plot confusion matrix\n",
    "plt.figure()\n",
    "heatmap = sns.heatmap(confusion_matrix_df, annot=True, annot_kws={'size': 14}, fmt='d', cmap='YlGnBu')\n",
    "heatmap.yaxis.set_ticklabels(heatmap.yaxis.get_ticklabels(), rotation=0, ha='right', fontsize=14)\n",
    "heatmap.xaxis.set_ticklabels(heatmap.xaxis.get_ticklabels(), rotation=0, ha='right', fontsize=14)\n",
    "\n",
    "plt.title('Confusion Matrix for Training Model\\n(Logistic Regression)\\n', fontsize=18, color='darkblue')\n",
    "plt.ylabel('True label', fontsize=14)\n",
    "plt.xlabel('Predicted label', fontsize=14)\n",
    "plt.tight_layout()\n",
    "plt.show()"
   ]
  },
  {
   "attachments": {},
   "cell_type": "markdown",
   "metadata": {},
   "source": [
    "**D. Performansi Data Testing - Menampilkan Metrics**\n",
    "\n",
    "*Setelah kita membuat modelnya, maka lakukan perhitungan untuk memperoleh classification reportnya pada data testing seperti hasil di bawah ini. Gunakan **classification_report().***"
   ]
  },
  {
   "cell_type": "code",
   "execution_count": 90,
   "metadata": {},
   "outputs": [
    {
     "name": "stdout",
     "output_type": "stream",
     "text": [
      "Classification Report Testing Model (Logistic Regression):\n",
      "              precision    recall  f1-score   support\n",
      "\n",
      "           0       0.83      0.90      0.87      1539\n",
      "           1       0.64      0.48      0.55       546\n",
      "\n",
      "    accuracy                           0.79      2085\n",
      "   macro avg       0.73      0.69      0.71      2085\n",
      "weighted avg       0.78      0.79      0.78      2085\n",
      "\n"
     ]
    }
   ],
   "source": [
    "# Predict\n",
    "y_test_pred =log_model.predict(x_test) \n",
    "# Print classification report \n",
    "print('Classification Report Testing Model (Logistic Regression):')\n",
    "print(classification_report(y_test,y_test_pred))"
   ]
  },
  {
   "attachments": {},
   "cell_type": "markdown",
   "metadata": {},
   "source": [
    "**E. Performansi Data Testing - Menampilkan Plots**\n",
    "\n",
    "*Setelah mendapatkan hasil classification report pada tahap sebelumnya, kita dapat juga menampilkan confusion matrix-nya untuk data testing. Confusion matrix ini diperoleh dengan menggunakan **confusion_matrix** dan dapat divisualisasikan dengan menggunakan **heatmap dari seaborn.***"
   ]
  },
  {
   "cell_type": "code",
   "execution_count": 102,
   "metadata": {},
   "outputs": [
    {
     "data": {
      "image/png": "[encoded data removed]",
      "text/plain": [
       "<Figure size 432x288 with 2 Axes>"
      ]
     },
     "metadata": {},
     "output_type": "display_data"
    }
   ],
   "source": [
    "import numpy as np\n",
    "import pandas as pd\n",
    "import matplotlib.pyplot as plt\n",
    "import seaborn as sns\n",
    "sns.set(style='darkgrid')\n",
    "from sklearn.preprocessing import LabelEncoder\n",
    "from sklearn.model_selection import train_test_split\n",
    "from sklearn.linear_model import LogisticRegression\n",
    "from sklearn.metrics import confusion_matrix, classification_report\n",
    "\n",
    "df_load = pd.read_csv('https://storage.googleapis.com/dqlab-dataset/dqlab_telco_final.csv')\n",
    "cleaned_df = df_load.drop(['customerID','UpdatedAt'], axis=1)\n",
    "\n",
    "for column in cleaned_df.columns:\n",
    "    if np.issubdtype(cleaned_df[column].dtype, np.number): continue\n",
    "    cleaned_df[column] = LabelEncoder().fit_transform(cleaned_df[column])\n",
    "\n",
    "X = cleaned_df.drop('Churn', axis = 1) \n",
    "y = cleaned_df['Churn']\n",
    "x_train, x_test, y_train, y_test = train_test_split(X, y, test_size=0.3, random_state=42)\n",
    "\n",
    "# Train the model\n",
    "log_model = LogisticRegression(solver='lbfgs', max_iter=1000).fit(x_train,y_train)\n",
    "\n",
    "# Predict\n",
    "y_test_pred =log_model.predict(x_test)\n",
    "\n",
    "# Form confusion matrix as a DataFrame\n",
    "confusion_matrix_df = pd.DataFrame((confusion_matrix(y_test, y_test_pred)), ('No churn', 'Churn'), ('No churn', 'Churn'))\n",
    "\n",
    "# Plot confusion matrix\n",
    "plt.figure()\n",
    "heatmap = sns.heatmap(confusion_matrix_df, annot=True, annot_kws={'size': 14}, fmt='d', cmap='YlGnBu')\n",
    "heatmap.yaxis.set_ticklabels(heatmap.yaxis.get_ticklabels(), rotation=0, ha='right', fontsize=14)\n",
    "heatmap.xaxis.set_ticklabels(heatmap.xaxis.get_ticklabels(), rotation=0, ha='right', fontsize=14)\n",
    "\n",
    "plt.title('Confusion Matrix for Testing Model\\n(Logistic Regression)\\n', fontsize=18, color='darkblue')\n",
    "plt.ylabel('True label', fontsize=14)\n",
    "plt.xlabel('Predicted label', fontsize=14)\n",
    "plt.tight_layout()\n",
    "plt.show()"
   ]
  },
  {
   "attachments": {},
   "cell_type": "markdown",
   "metadata": {},
   "source": [
    "**F. Kesimpulan**\n",
    "\n",
    "Dari hasil dan analisa di atas, maka:\n",
    "\n",
    "1. *Jika kita menggunakan menggunakan algoritma logistic regression dengan memanggil LogisticRegression() dari sklearn tanpa menambahi parameter apapun, maka yang dihasilkan adalah model dengan seting default dari sklearn, untuk detilnya bisa dilihat di dokumentasinya. **Tapi disini saya menambahkan parameter solver dan max_itter***\n",
    "2. *Dari data training terlihat bahwasannya model mampu memprediksi data dengan menghasilkan **akurasi sebesar 80%**, dengan detil tebakan churn yang sebenernya benar churn adalah 643, tebakan tidak churn yang sebenernya tidak churn adalah 3228, tebakan tidak churn yang sebenernya benar churn adalah 647 dan tebakan churn yang sebenernya tidak churn adalah 347.*\n",
    "3. *Dari data testing terlihat bahwasannya model mampu memprediksi data dengan menghasilkan **akurasi sebesar 79%**, dengan detil tebakan churn yang sebenernya benar churn adalah 262, tebakan tidak churn yang sebenernya tidak churn adalah 1391, tebakan tidak churn yang sebenernya benar churn adalah 284 dan tebakan churn yang sebenernya tidak churn adalah 148.*"
   ]
  },
  {
   "cell_type": "markdown",
   "metadata": {},
   "source": []
  },
  {
   "attachments": {},
   "cell_type": "markdown",
   "metadata": {},
   "source": [
    "**Modelling : Random Forest Classifier**"
   ]
  },
  {
   "attachments": {},
   "cell_type": "markdown",
   "metadata": {},
   "source": [
    "**A. Pembuatan Model**\n",
    "\n",
    "*Selanjutnya kita akan membuat model dengan menggunakan Algoritma Random Forest Classifier.*\n",
    "\n",
    "*Gunakan **RandomForestClassifier()** memanggil algoritma tersebut, fit ke data train dan simpan sebagai **rdf_model***"
   ]
  },
  {
   "cell_type": "code",
   "execution_count": 103,
   "metadata": {},
   "outputs": [
    {
     "name": "stdout",
     "output_type": "stream",
     "text": [
      "RandomForestClassifier()\n"
     ]
    }
   ],
   "source": [
    "import numpy as np\n",
    "import pandas as pd\n",
    "import matplotlib.pyplot as plt\n",
    "import seaborn as sns\n",
    "sns.set(style='darkgrid')\n",
    "from sklearn.preprocessing import LabelEncoder\n",
    "from sklearn.model_selection import train_test_split\n",
    "from sklearn.ensemble import RandomForestClassifier\n",
    "from sklearn.metrics import confusion_matrix, classification_report\n",
    "\n",
    "df_load = pd.read_csv('https://storage.googleapis.com/dqlab-dataset/dqlab_telco_final.csv')\n",
    "cleaned_df = df_load.drop(['customerID','UpdatedAt'], axis=1)\n",
    "\n",
    "for column in cleaned_df.columns:\n",
    "    if np.issubdtype(cleaned_df[column].dtype, np.number): continue\n",
    "    cleaned_df[column] = LabelEncoder().fit_transform(cleaned_df[column])\n",
    "\n",
    "X = cleaned_df.drop('Churn', axis = 1) \n",
    "y = cleaned_df['Churn']\n",
    "x_train, x_test, y_train, y_test = train_test_split(X, y, test_size=0.3, random_state=42)\n",
    "\n",
    "# Train Model\n",
    "rdf_model = RandomForestClassifier().fit(x_train,y_train)\n",
    "print(rdf_model)"
   ]
  },
  {
   "attachments": {},
   "cell_type": "markdown",
   "metadata": {},
   "source": [
    "**B. Performansi Data Training - Menampilkan Metrics**\n",
    "\n",
    "*Setelah kita membuat modelnya, maka lakukan perhitungan untuk memperoleh classification reportnya untuk **data training** seperti hasil di bawah ini. Gunakan **classification_report().***"
   ]
  },
  {
   "cell_type": "code",
   "execution_count": 104,
   "metadata": {},
   "outputs": [
    {
     "name": "stdout",
     "output_type": "stream",
     "text": [
      "Classification Report Training Model (Random Forest Classifier):\n",
      "              precision    recall  f1-score   support\n",
      "\n",
      "           0       1.00      1.00      1.00      3575\n",
      "           1       1.00      0.99      0.99      1290\n",
      "\n",
      "    accuracy                           1.00      4865\n",
      "   macro avg       1.00      0.99      0.99      4865\n",
      "weighted avg       1.00      1.00      1.00      4865\n",
      "\n"
     ]
    }
   ],
   "source": [
    "# Predict\n",
    "y_train_pred = rdf_model.predict(x_train)\n",
    "print('Classification Report Training Model (Random Forest Classifier):')\n",
    "print(classification_report(y_train,y_train_pred))"
   ]
  },
  {
   "attachments": {},
   "cell_type": "markdown",
   "metadata": {},
   "source": [
    "**C. Performansi Data Training - Menampilkan Plots**\n",
    "\n",
    "*Setelah mendapatkan hasil classification report pada tahap sebelumnya, kita dapat juga menampilkan confusion matrix-nya untuk data testing. Confusion matrix ini diperoleh dengan menggunakan **confusion_matrix** dan dapat divisualisasikan dengan menggunakan **heatmap dari seaborn.***"
   ]
  },
  {
   "cell_type": "code",
   "execution_count": 105,
   "metadata": {},
   "outputs": [
    {
     "data": {
      "image/png": "[encoded data removed]",
      "text/plain": [
       "<Figure size 432x288 with 2 Axes>"
      ]
     },
     "metadata": {},
     "output_type": "display_data"
    }
   ],
   "source": [
    "import numpy as np\n",
    "import pandas as pd\n",
    "import matplotlib.pyplot as plt\n",
    "import seaborn as sns\n",
    "sns.set(style='darkgrid')\n",
    "from sklearn.preprocessing import LabelEncoder\n",
    "from sklearn.model_selection import train_test_split\n",
    "from sklearn.ensemble import RandomForestClassifier\n",
    "from sklearn.metrics import confusion_matrix, classification_report\n",
    "\n",
    "df_load = pd.read_csv('https://storage.googleapis.com/dqlab-dataset/dqlab_telco_final.csv')\n",
    "cleaned_df = df_load.drop(['customerID','UpdatedAt'], axis=1)\n",
    "\n",
    "for column in cleaned_df.columns:\n",
    "    if np.issubdtype(cleaned_df[column].dtype, np.number): continue\n",
    "    cleaned_df[column] = LabelEncoder().fit_transform(cleaned_df[column])\n",
    "\n",
    "X = cleaned_df.drop('Churn', axis = 1) \n",
    "y = cleaned_df['Churn']\n",
    "x_train, x_test, y_train, y_test = train_test_split(X, y, test_size=0.3, random_state=42)\n",
    "\n",
    "# Train the model\n",
    "rdf_model = RandomForestClassifier().fit(x_train,y_train)\n",
    "\n",
    "# Predict\n",
    "y_train_pred = rdf_model.predict(x_train)\n",
    "\n",
    "# Form confusion matrix as a DataFrame\n",
    "confusion_matrix_df = pd.DataFrame((confusion_matrix(y_train, y_train_pred)), ('No churn', 'Churn'), ('No churn', 'Churn'))\n",
    "\n",
    "# Plot confusion matrix\n",
    "plt.figure()\n",
    "heatmap = sns.heatmap(confusion_matrix_df, annot=True, annot_kws={'size': 14}, fmt='d', cmap='YlGnBu')\n",
    "heatmap.yaxis.set_ticklabels(heatmap.yaxis.get_ticklabels(), rotation=0, ha='right', fontsize=14)\n",
    "heatmap.xaxis.set_ticklabels(heatmap.xaxis.get_ticklabels(), rotation=0, ha='right', fontsize=14)\n",
    "\n",
    "plt.title('Confusion Matrix for Training Model\\n(Random Forest)', fontsize=18, color='darkblue')\n",
    "plt.ylabel('True label', fontsize=14)\n",
    "plt.xlabel('Predicted label', fontsize=14)\n",
    "plt.tight_layout()\n",
    "plt.show()"
   ]
  },
  {
   "attachments": {},
   "cell_type": "markdown",
   "metadata": {},
   "source": [
    "**D. Performansi Data Testing - Menampilkan Metrics**\n",
    "\n",
    "*Setelah kita membuat modelnya, maka lakukan perhitungan untuk memperoleh classification reportnya untuk **data testing** seperti hasil di bawah ini. Gunakan **classification_report().***"
   ]
  },
  {
   "cell_type": "code",
   "execution_count": 106,
   "metadata": {},
   "outputs": [
    {
     "name": "stdout",
     "output_type": "stream",
     "text": [
      "Classification Report Testing Model (Random Forest Classifier):\n",
      "              precision    recall  f1-score   support\n",
      "\n",
      "           0       0.82      0.88      0.85      1539\n",
      "           1       0.58      0.46      0.51       546\n",
      "\n",
      "    accuracy                           0.77      2085\n",
      "   macro avg       0.70      0.67      0.68      2085\n",
      "weighted avg       0.76      0.77      0.76      2085\n",
      "\n"
     ]
    }
   ],
   "source": [
    "# Predict\n",
    "y_test_pred = rdf_model.predict(x_test)\n",
    "print('Classification Report Testing Model (Random Forest Classifier):')\n",
    "print(classification_report(y_test,y_test_pred))"
   ]
  },
  {
   "attachments": {},
   "cell_type": "markdown",
   "metadata": {},
   "source": [
    "**E. Performansi Data Testing - Menampilkan Plots**\n",
    "\n",
    "*Dengan cara yang sama untuk menghitung clasification report, confusion matrix juga dapat dikalkulasi. Confusion matrix untuk data testing diperoleh dengan menggunakan **confusion_matrix** dan dapat divisualisasikan dengan menggunakan **heatmap dari seaborn.***"
   ]
  },
  {
   "cell_type": "code",
   "execution_count": 107,
   "metadata": {},
   "outputs": [
    {
     "data": {
      "image/png": "[encoded data removed]",
      "text/plain": [
       "<Figure size 432x288 with 2 Axes>"
      ]
     },
     "metadata": {},
     "output_type": "display_data"
    }
   ],
   "source": [
    "import numpy as np\n",
    "import pandas as pd\n",
    "import matplotlib.pyplot as plt\n",
    "import seaborn as sns\n",
    "sns.set(style='darkgrid')\n",
    "from sklearn.preprocessing import LabelEncoder\n",
    "from sklearn.model_selection import train_test_split\n",
    "from sklearn.ensemble import RandomForestClassifier\n",
    "from sklearn.metrics import confusion_matrix, classification_report\n",
    "\n",
    "df_load = pd.read_csv('https://storage.googleapis.com/dqlab-dataset/dqlab_telco_final.csv')\n",
    "cleaned_df = df_load.drop(['customerID','UpdatedAt'], axis=1)\n",
    "\n",
    "for column in cleaned_df.columns:\n",
    "    if np.issubdtype(cleaned_df[column].dtype, np.number): continue\n",
    "    cleaned_df[column] = LabelEncoder().fit_transform(cleaned_df[column])\n",
    "\n",
    "X = cleaned_df.drop('Churn', axis = 1) \n",
    "y = cleaned_df['Churn']\n",
    "x_train, x_test, y_train, y_test = train_test_split(X, y, test_size=0.3, random_state=42)\n",
    "\n",
    "# Train the model\n",
    "rdf_model = RandomForestClassifier().fit(x_train,y_train)\n",
    "\n",
    "# Predict\n",
    "y_test_pred = rdf_model.predict(x_test)\n",
    "\n",
    "# Form confusion matrix as a DataFrame\n",
    "confusion_matrix_df = pd.DataFrame((confusion_matrix(y_test, y_test_pred)), ('No churn', 'Churn'), ('No churn', 'Churn'))\n",
    "\n",
    "# Plot confusion matrix\n",
    "plt.figure()\n",
    "heatmap = sns.heatmap(confusion_matrix_df, annot=True, annot_kws={'size': 14}, fmt='d', cmap='YlGnBu')\n",
    "heatmap.yaxis.set_ticklabels(heatmap.yaxis.get_ticklabels(), rotation=0, ha='right', fontsize=14)\n",
    "heatmap.xaxis.set_ticklabels(heatmap.xaxis.get_ticklabels(), rotation=0, ha='right', fontsize=14)\n",
    "\n",
    "plt.title('Confusion Matrix for Testing Model\\n(Random Forest)\\n', fontsize=18, color='darkblue')\n",
    "plt.ylabel('True label', fontsize=14)\n",
    "plt.xlabel('Predicted label', fontsize=14)\n",
    "plt.tight_layout()\n",
    "plt.show()"
   ]
  },
  {
   "attachments": {},
   "cell_type": "markdown",
   "metadata": {},
   "source": [
    "**F. Kesimpulan**\n",
    "\n",
    "*Dari hasil dan analisa di atas, maka:*\n",
    "\n",
    "1. *Jika kita menggunakan menggunakan algoritma Random Forest dengan memanggil RandomForestClassifier() dari sklearn tanpa menambahi parameter apapun, maka yang dihasilkan adalah model dengan seting default dari sklearn, untuk detilnya bisa dilihat di dokumentasinya.*\n",
    "2. *Dari data training terlihat bahwasannya model mampu memprediksi data dengan menghasilkan **akurasi sebesar 100%,** dengan detil tebakan churn yang sebenernya benar churn adalah 1278, tebakan tidak churn yang sebenernya tidak churn adalah 3566, tebakan tidak churn yang sebenernya benar churn adalah 12 dan tebakan churn yang sebenernya tidak churn adalah 9.*\n",
    "3. *Dari data testing terlihat bahwasannya model mampu memprediksi data dengan menghasilkan **akurasi sebesar 78%,** dengan detil tebakan churn yang sebenernya benar churn adalah 262, tebakan tidak churn yang sebenernya tidak churn adalah 1360, tebakan tidak churn yang sebenernya benar churn adalah 284 dan tebakan churn yang sebenernya tidak churn adalah 179.*"
   ]
  },
  {
   "cell_type": "markdown",
   "metadata": {},
   "source": []
  },
  {
   "attachments": {},
   "cell_type": "markdown",
   "metadata": {},
   "source": [
    "**Modelling: Gradient Boosting Classifier**"
   ]
  },
  {
   "attachments": {},
   "cell_type": "markdown",
   "metadata": {},
   "source": [
    "**A. Pembuatan Model**\n",
    "\n",
    "*Model berikutnya dapat dibuat dengan menggunakan Algoritma Gradient Boosting Classifier.*\n",
    "\n",
    "*Gunakan **GradientBoostingClassifier()** memanggil algoritma tersebut, fit ke data train dan simpan sebagai **gbt_model***"
   ]
  },
  {
   "cell_type": "code",
   "execution_count": 108,
   "metadata": {},
   "outputs": [
    {
     "name": "stdout",
     "output_type": "stream",
     "text": [
      "GradientBoostingClassifier()\n"
     ]
    }
   ],
   "source": [
    "import numpy as np\n",
    "import pandas as pd\n",
    "import matplotlib.pyplot as plt\n",
    "import seaborn as sns\n",
    "sns.set(style='darkgrid')\n",
    "from sklearn.preprocessing import LabelEncoder\n",
    "from sklearn.model_selection import train_test_split\n",
    "from sklearn.ensemble import GradientBoostingClassifier\n",
    "from sklearn.metrics import confusion_matrix, classification_report\n",
    "\n",
    "df_load = pd.read_csv('https://storage.googleapis.com/dqlab-dataset/dqlab_telco_final.csv')\n",
    "cleaned_df = df_load.drop(['customerID','UpdatedAt'], axis=1)\n",
    "\n",
    "for column in cleaned_df.columns:\n",
    "    if np.issubdtype(cleaned_df[column].dtype, np.number): continue\n",
    "    cleaned_df[column] = LabelEncoder().fit_transform(cleaned_df[column])\n",
    "\n",
    "X = cleaned_df.drop('Churn', axis = 1) \n",
    "y = cleaned_df['Churn']\n",
    "x_train, x_test, y_train, y_test = train_test_split(X, y, test_size=0.3, random_state=42)\n",
    "\n",
    "# Train the model\n",
    "gbt_model=GradientBoostingClassifier().fit(x_train,y_train)\n",
    "print(gbt_model)"
   ]
  },
  {
   "attachments": {},
   "cell_type": "markdown",
   "metadata": {},
   "source": [
    "**B. Perfomansi Model Data Training - Menampilkan Metrics**\n",
    "\n",
    "*Setelah kita membuat modelnya, maka lakukan perhitungan untuk memperoleh classification reportnya untuk data training seperti hasil di bawah ini. Gunakan **classification_report().***"
   ]
  },
  {
   "cell_type": "code",
   "execution_count": 109,
   "metadata": {},
   "outputs": [
    {
     "name": "stdout",
     "output_type": "stream",
     "text": [
      "Classification Report Training Model (Gradient Boosting):\n",
      "              precision    recall  f1-score   support\n",
      "\n",
      "           0       0.84      0.92      0.88      3575\n",
      "           1       0.70      0.53      0.60      1290\n",
      "\n",
      "    accuracy                           0.82      4865\n",
      "   macro avg       0.77      0.72      0.74      4865\n",
      "weighted avg       0.81      0.82      0.81      4865\n",
      "\n"
     ]
    }
   ],
   "source": [
    "# Predict\n",
    "y_train_pred = gbt_model.predict(x_train)\n",
    "# Print classification report\n",
    "print('Classification Report Training Model (Gradient Boosting):')\n",
    "print(classification_report(y_train, y_train_pred))"
   ]
  },
  {
   "attachments": {},
   "cell_type": "markdown",
   "metadata": {},
   "source": [
    "**C. Perfomansi Model Data Training - Menampilkan Plots**\n",
    "\n",
    "*Selanjutnya, confusion matrix dapat ditampilkan untuk data training. Confusion matrix ini diperoleh dengan menggunakan **confusion_matrix** dan dapat divisualisasikan dengan menggunakan **heatmap dari seaborn.***"
   ]
  },
  {
   "cell_type": "code",
   "execution_count": 110,
   "metadata": {},
   "outputs": [
    {
     "data": {
      "image/png": "[encoded data removed]",
      "text/plain": [
       "<Figure size 432x288 with 2 Axes>"
      ]
     },
     "metadata": {},
     "output_type": "display_data"
    }
   ],
   "source": [
    "import numpy as np\n",
    "import pandas as pd\n",
    "import matplotlib.pyplot as plt\n",
    "import seaborn as sns\n",
    "sns.set(style='darkgrid')\n",
    "from sklearn.preprocessing import LabelEncoder\n",
    "from sklearn.model_selection import train_test_split\n",
    "from sklearn.ensemble import GradientBoostingClassifier\n",
    "from sklearn.metrics import confusion_matrix, classification_report\n",
    "\n",
    "df_load = pd.read_csv('https://storage.googleapis.com/dqlab-dataset/dqlab_telco_final.csv')\n",
    "cleaned_df = df_load.drop(['customerID','UpdatedAt'], axis=1)\n",
    "\n",
    "for column in cleaned_df.columns:\n",
    "    if np.issubdtype(cleaned_df[column].dtype, np.number): continue\n",
    "    cleaned_df[column] = LabelEncoder().fit_transform(cleaned_df[column])\n",
    "\n",
    "X = cleaned_df.drop('Churn', axis = 1) \n",
    "y = cleaned_df['Churn']\n",
    "x_train, x_test, y_train, y_test = train_test_split(X, y, test_size=0.3, random_state=42)\n",
    "\n",
    "# Train the model\n",
    "gbt_model=GradientBoostingClassifier().fit(x_train,y_train)\n",
    "\n",
    "# Predict\n",
    "y_train_pred = gbt_model.predict(x_train)\n",
    "\n",
    "# Plot confusion matrix\n",
    "confusion_matrix_df = pd.DataFrame((confusion_matrix(y_train, y_train_pred)), ('No churn', 'Churn'), ('No churn', 'Churn'))\n",
    "\n",
    "# Plot confusion matrix\n",
    "plt.figure()\n",
    "heatmap = sns.heatmap(confusion_matrix_df, annot=True, annot_kws={'size': 14}, fmt='d', cmap='YlGnBu')\n",
    "heatmap.yaxis.set_ticklabels(heatmap.yaxis.get_ticklabels(), rotation=0, ha='right', fontsize=14)\n",
    "heatmap.xaxis.set_ticklabels(heatmap.xaxis.get_ticklabels(), rotation=0, ha='right', fontsize=14)\n",
    "\n",
    "plt.title('Confusion Matrix for Training Model\\n(Gradient Boosting)', fontsize=18, color='darkblue')\n",
    "plt.ylabel('True label', fontsize=14)\n",
    "plt.xlabel('Predicted label', fontsize=14)\n",
    "plt.tight_layout()\n",
    "plt.show()"
   ]
  },
  {
   "attachments": {},
   "cell_type": "markdown",
   "metadata": {},
   "source": [
    "**D. Performansi Model Data Testing - Menampilkan Metrics**\n",
    "\n",
    "*Setelah kita membuat modelnya, maka lakukan perhitungan untuk memperoleh classification reportnya untuk data testing seperti hasil di bawah ini. Gunakan **classification_report().***"
   ]
  },
  {
   "cell_type": "code",
   "execution_count": 111,
   "metadata": {},
   "outputs": [
    {
     "name": "stdout",
     "output_type": "stream",
     "text": [
      "Classification Report Testing Model (Gradient Boosting):\n",
      "              precision    recall  f1-score   support\n",
      "\n",
      "           0       0.83      0.91      0.87      1539\n",
      "           1       0.64      0.48      0.55       546\n",
      "\n",
      "    accuracy                           0.79      2085\n",
      "   macro avg       0.74      0.69      0.71      2085\n",
      "weighted avg       0.78      0.79      0.78      2085\n",
      "\n"
     ]
    }
   ],
   "source": [
    "# Predict\n",
    "y_test_pred = gbt_model.predict(x_test)\n",
    "# Print classification report \n",
    "print('Classification Report Testing Model (Gradient Boosting):')\n",
    "print(classification_report(y_test,y_test_pred))"
   ]
  },
  {
   "attachments": {},
   "cell_type": "markdown",
   "metadata": {},
   "source": [
    "**E. Performansi Model Data Testing - Menampilkan Plots**\n",
    "\n",
    "*Buatlah visualisasi untuk metrics confusion matrix untuk data testing.*"
   ]
  },
  {
   "cell_type": "code",
   "execution_count": 112,
   "metadata": {},
   "outputs": [
    {
     "data": {
      "image/png": "[encoded data removed]",
      "text/plain": [
       "<Figure size 432x288 with 2 Axes>"
      ]
     },
     "metadata": {},
     "output_type": "display_data"
    }
   ],
   "source": [
    "import numpy as np\n",
    "import pandas as pd\n",
    "import matplotlib.pyplot as plt\n",
    "import seaborn as sns\n",
    "sns.set(style='darkgrid')\n",
    "from sklearn.preprocessing import LabelEncoder\n",
    "from sklearn.model_selection import train_test_split\n",
    "from sklearn.ensemble import GradientBoostingClassifier\n",
    "from sklearn.metrics import confusion_matrix, classification_report\n",
    "\n",
    "df_load = pd.read_csv('https://storage.googleapis.com/dqlab-dataset/dqlab_telco_final.csv')\n",
    "cleaned_df = df_load.drop(['customerID','UpdatedAt'], axis=1)\n",
    "\n",
    "for column in cleaned_df.columns:\n",
    "    if np.issubdtype(cleaned_df[column].dtype, np.number): continue\n",
    "    cleaned_df[column] = LabelEncoder().fit_transform(cleaned_df[column])\n",
    "\n",
    "X = cleaned_df.drop('Churn', axis = 1) \n",
    "y = cleaned_df['Churn']\n",
    "x_train, x_test, y_train, y_test = train_test_split(X, y, test_size=0.3, random_state=42)\n",
    "\n",
    "# Train the model\n",
    "gbt_model=GradientBoostingClassifier().fit(x_train,y_train)\n",
    "\n",
    "# Predict\n",
    "y_test_pred = gbt_model.predict(x_test)\n",
    "\n",
    "# Form confusion matrix as a DataFrame\n",
    "confusion_matrix_df = pd.DataFrame((confusion_matrix(y_test,y_test_pred)),('No churn','Churn'),('No churn','Churn'))\n",
    "\n",
    "# Plot confusion matrix\n",
    "plt.figure()\n",
    "heatmap = sns.heatmap(confusion_matrix_df, annot=True, annot_kws={'size': 14}, fmt='d', cmap='YlGnBu')\n",
    "heatmap.yaxis.set_ticklabels(heatmap.yaxis.get_ticklabels(), rotation=0, ha='right', fontsize=14)\n",
    "heatmap.xaxis.set_ticklabels(heatmap.xaxis.get_ticklabels(), rotation=0, ha='right', fontsize=14)\n",
    "\n",
    "plt.title('Confusion Matrix for Testing Model\\n(Gradient Boosting)', fontsize=18, color='darkblue')\n",
    "plt.ylabel('True label', fontsize=14)\n",
    "plt.xlabel('Predicted label', fontsize=14)\n",
    "plt.tight_layout()\n",
    "plt.show()"
   ]
  },
  {
   "attachments": {},
   "cell_type": "markdown",
   "metadata": {},
   "source": [
    "**F. Kesimpulan**\n",
    "\n",
    "*Dari hasil dan analisa di atas, maka:*\n",
    "\n",
    "1. *Jika kita menggunakan menggunakan algoritma Gradient Boosting dengan memanggil GradientBoostingClassifier() dari package sklearn tanpa menambahi parameter apapun, maka yang dihasilkan adalah model dengan seting default dari sklearn, untuk detilnya bisa dilihat di dokumentasinya.*\n",
    "2. *Dari data training terlihat bahwasannya model mampu memprediksi data dengan menghasilkan **akurasi sebesar 82%,** dengan detil tebakan churn yang sebenernya benar churn adalah 684, tebakan tidak churn yang sebenernya tidak churn adalah 3286, tebakan tidak churn yang sebenernya benar churn adalah 606 dan tebakan churn yang sebenernya tidak churn adalah 289.*\n",
    "3. *Dari data testing terlihat bahwasannya model mampu memprediksi data dengan menghasilkan **akurasi sebesar 79%,** dengan detil tebakan churn yang sebenernya benar churn adalah 261, tebakan tidak churn yang sebenernya tidak churn adalah 1394, tebakan tidak churn yang sebenernya benar churn adalah 285 dan tebakan churn yang sebenernya tidak churn adalah 145.*"
   ]
  },
  {
   "cell_type": "markdown",
   "metadata": {},
   "source": []
  },
  {
   "attachments": {},
   "cell_type": "markdown",
   "metadata": {},
   "source": [
    "**Memilih Model Terbaik**"
   ]
  },
  {
   "attachments": {},
   "cell_type": "markdown",
   "metadata": {},
   "source": [
    "**A. Menentukan Algoritma Model Terbaik**\n",
    "\n",
    "*Model yang baik adalah model yang mampu memberikan **performa bagus di fase training dan testing model.***"
   ]
  },
  {
   "attachments": {},
   "cell_type": "markdown",
   "metadata": {},
   "source": [
    "1. ***Over-Fitting** adalah suatu kondisi dimana model mampu memprediksi dengan sangat baik di fase training, akan tetapi tidak mampu memprediksi sama baiknya di fase testing.*\n",
    "2. ***Under-Fitting** adalah suatu kondisi dimana model kurang mampu memprediksi dengan baik di fase training, akan tetapi mampu memprediksi dengan baik di fase testing.*\n",
    "3. ***Appropriate-Fitting** adalah suatu kondisi dimana model mampu memprediksi dengan baik di fase training maupun di fase testing.*\n",
    "\n",
    "**Ilustrai Ada Pada : gambar_1**"
   ]
  },
  {
   "attachments": {},
   "cell_type": "markdown",
   "metadata": {},
   "source": [
    "**B. Menyimpan Model dalam bentuk file**\n",
    "\n",
    "1. *Selanjutnya kita akan menentukan model algoritma terbaik dari model yang sudah di lakukan di atas (Appropriate-Fitting)*\n",
    "2. *Simpan sebagai file **best_model_churn.pkl** dengan tujuan untuk deployment model nantinya kita tidak perlu mengulang lagi pemodelan, cukup memanggil file tersebut saja. Simpan di file direktori sesuai dataset berada, kemudian check apakah file tersebut benar tersimpan atau tidak.* \n",
    "3. *Gunakan **dump()** dari pickle untuk menyimpan file. Anda bisa gunakan code dibawah ini untuk menyimpan file model untuk di coba di local laptop anda pribadi.*"
   ]
  },
  {
   "attachments": {},
   "cell_type": "markdown",
   "metadata": {},
   "source": [
    "**Hasil :**\n",
    "1. Model Terbaik Adalah **LogisticRegreation**\n",
    "2. Simpan Model dengan nama **best_model_churn.pkl**"
   ]
  },
  {
   "cell_type": "code",
   "execution_count": 114,
   "metadata": {},
   "outputs": [
    {
     "name": "stdout",
     "output_type": "stream",
     "text": [
      "LogisticRegression(max_iter=1000)\n"
     ]
    }
   ],
   "source": [
    "import numpy as np\n",
    "import pandas as pd\n",
    "from sklearn.preprocessing import LabelEncoder\n",
    "from sklearn.model_selection import train_test_split\n",
    "from sklearn.linear_model import LogisticRegression\n",
    "import pickle\n",
    "\n",
    "df_load = pd.read_csv('https://storage.googleapis.com/dqlab-dataset/dqlab_telco_final.csv')\n",
    "cleaned_df = df_load.drop(['customerID','UpdatedAt'], axis=1)\n",
    "\n",
    "for column in cleaned_df.columns:\n",
    "    if np.issubdtype(cleaned_df[column].dtype, np.number): continue\n",
    "    cleaned_df[column] = LabelEncoder().fit_transform(cleaned_df[column])\n",
    "\n",
    "X = cleaned_df.drop('Churn', axis = 1) \n",
    "y = cleaned_df['Churn']\n",
    "x_train, x_test, y_train, y_test = train_test_split(X, y, test_size=0.3, random_state=42)\n",
    "\n",
    "log_model = LogisticRegression(solver='lbfgs', max_iter=1000).fit(x_train,y_train)\n",
    "\n",
    "print(log_model)\n",
    "# Save Model\n",
    "# pickle.dump(log_model, open('best_model_churn.pkl', 'wb'))"
   ]
  },
  {
   "attachments": {},
   "cell_type": "markdown",
   "metadata": {},
   "source": [
    "**Kesimpulan**\n",
    "\n",
    "*Berdasarkan pemodelan yang telah dilakukan dengan menggunakan Logistic Regression, Random Forest dan Extreme Gradiant Boost, maka dapat disimpulkan untuk memprediksi churn dari pelanggan telco dengan menggunakan dataset ini model terbaiknya adalah menggunakan algortima Logistic Regression. Hal ini dikarenakan performa dari model Logistic Regression cenderung mampu memprediksi sama baiknya di fase training maupun testing (akurasi training 80%, akurasi testing 79%), dilain sisi algoritma lainnya cenderung Over-Fitting performanya.*\n",
    "\n",
    "*Akan tetapi hal ini tidak menjadikan kita untuk menarik kesimpulan bahwsannya jika untuk melakukan pemodelan apapun maka digunakan Logistic Regression, kita tetap harus melakukan banyak percobaan model untuk menentukan mana yang terbaik.*"
   ]
  },
  {
   "attachments": {},
   "cell_type": "markdown",
   "metadata": {},
   "source": [
    "**End of Project**"
   ]
  }
 ],
 "metadata": {
  "kernelspec": {
   "display_name": "base",
   "language": "python",
   "name": "python3"
  },
  "language_info": {
   "codemirror_mode": {
    "name": "ipython",
    "version": 3
   },
   "file_extension": ".py",
   "mimetype": "text/x-python",
   "name": "python",
   "nbconvert_exporter": "python",
   "pygments_lexer": "ipython3",
   "version": "3.9.12"
  },
  "orig_nbformat": 4,
  "vscode": {
   "interpreter": {
    "hash": "5dfae695991f40f7f711b859ebe4404a578ce2940a1c2f7058c1cb98bd497b2c"
   }
  }
 },
 "nbformat": 4,
 "nbformat_minor": 2
}

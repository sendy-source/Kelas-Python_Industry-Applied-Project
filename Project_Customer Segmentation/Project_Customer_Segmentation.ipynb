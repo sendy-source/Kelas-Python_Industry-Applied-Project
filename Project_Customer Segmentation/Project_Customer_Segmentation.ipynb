{
 "cells": [
  {
   "attachments": {},
   "cell_type": "markdown",
   "metadata": {},
   "source": [
    "**Data Science in Marketing : Customer Segmentation with Python**"
   ]
  },
  {
   "attachments": {},
   "cell_type": "markdown",
   "metadata": {},
   "source": [
    "**START**"
   ]
  },
  {
   "attachments": {},
   "cell_type": "markdown",
   "metadata": {},
   "source": [
    "**Landasan Masalah**\n",
    "\n",
    "*Perusahaan kamu sedang berusaha untuk mengenal lebih baik pelanggannya. **Tujuannya agar perusahaan kamu dapat membuat strategi pemasaran yang lebih tepat dan juga efisien bagi tiap tiap pelanggan**. Kamu di diberikan tugas agar dapat memberikan rekomendasi untuk menyelesaikan permasalahan tersebut.*\n",
    "\n",
    "*Kamu teringat bahwa beberapa bulan sebelumnya kamu pernah belajar menghadapi permasalahan serupa di tempat kamu belajar. **Salah satu teknik yang bisa dilakukan untuk mengenal lebih baik pelanggan kamu adalah dengan melakukan segmentasi pelanggan**. Yaitu dengan mengelompokkan pelanggan-pelanggan yang ada berdasarkan kesamaan karakter dari pelanggan tersebut. Untuk melakukan hal tersebut kamu akan menggunakan teknik unsupervised machine learning.*\n",
    "\n",
    "*Salah satunya teknik yang dapat digunakan adalah pengaplikasian machine learning menggunakan algoritma K-Prototypes. **Algoritma K-Prototypes merupakan gabungan dari K-Means dan juga K-Modes yang dapat digunakan untuk melakukan segmentasi dengan data.***"
   ]
  },
  {
   "attachments": {},
   "cell_type": "markdown",
   "metadata": {},
   "source": [
    "**Apa itu K-Prototypes?**\n",
    "\n",
    "*Algoritma K-Prototypes merupakan gabungan dari K-Means dan juga K-Modes. K-Means digunakan untuk clustering pada data numerik, sedangkan K-Modes digunakan untuk clustering pada data kategorikal. Dataset yang akan digunakan pada project ini memiliki 2 tipe data: numerik dan kategorikal. Sehingga, kita akan menggunakan algoritma K-Prototypes.*"
   ]
  },
  {
   "attachments": {},
   "cell_type": "markdown",
   "metadata": {},
   "source": [
    "**Tujuan Project:**\n",
    "1. Memahami konsep segmentasi pelanggan dan manfaatnya\n",
    "2. Melakukan segmentasi pelanggan di Python menggunakan algoritma K-Prototypes\n",
    "3. Mencari jumlah segmen yang optimal"
   ]
  },
  {
   "cell_type": "markdown",
   "metadata": {},
   "source": []
  },
  {
   "attachments": {},
   "cell_type": "markdown",
   "metadata": {},
   "source": [
    "**TAHAP 1 - PREPARATION DATA**"
   ]
  },
  {
   "attachments": {},
   "cell_type": "markdown",
   "metadata": {},
   "source": [
    "**Mempersiapkan Library dan Data**\n",
    "\n",
    "*Kamu sangat bersemangat untuk segera menyelesaikan masalah tersebut. Kamu mulai dari mencari tau data apa yang tersedia dan mengumpulkan data yang dibutuhkan terkait pelanggan.*\n",
    "1. *Kamu berkoordinasi dengan **tim data engineer** untuk mendapatkan data yang di butuhkan.*\n",
    "2. *Kamu berdiskusi dengan **tim bisnis** untuk memahami arti dari data-data yang kamu miliki.*"
   ]
  },
  {
   "attachments": {},
   "cell_type": "markdown",
   "metadata": {},
   "source": [
    "**A. Library yang Digunakan**\n",
    "\n",
    "*Masalah ini akan dapat di selesaikan dengan menggunakan bantuan library - library di bawah ini:*\n",
    "\n",
    "- ***Pandas** digunakan untuk melakukan pemrosesan analisis data*\n",
    "- ***Matplotlib** digunakan sebagai dasar untuk melakukan visualisasi data*\n",
    "- ***Seaborn** digunakan di atas matplotlib untuk melakukan data visualisasi yang lebih menarik*\n",
    "- ***Scikit - Learn** digunakan untuk mempersiapkan data sebelum dilakukan permodelan*\n",
    "- ***kmodes** digunakan untuk melakukan permodelan menggunakan algoritma K-Modes dan K-Prototypes.*\n",
    "- ***Pickle** digunakan untuk melakukan penyimpanan dari model yang akan di buat.*"
   ]
  },
  {
   "cell_type": "code",
   "execution_count": 8,
   "metadata": {},
   "outputs": [],
   "source": [
    "# Import Library\n",
    "import pandas as pd\n",
    "import matplotlib.pyplot as plt\n",
    "import seaborn as sns\n",
    "from sklearn.preprocessing import LabelEncoder\n",
    "\n",
    "from kmodes.kmodes import KModes\n",
    "from kmodes.kprototypes import KPrototypes\n",
    "\n",
    "import pickle\n",
    "from pathlib import Path"
   ]
  },
  {
   "attachments": {},
   "cell_type": "markdown",
   "metadata": {},
   "source": [
    "**B. Memahami Data yang Digunakan**\n",
    "\n",
    "*Langkah pertama yang perlu di lakukan adalah membaca data tersebut yang semula adalah textfile menjadi pandas dataframe.*"
   ]
  },
  {
   "cell_type": "code",
   "execution_count": 10,
   "metadata": {},
   "outputs": [
    {
     "data": {
      "text/html": [
       "<div>\n",
       "<style scoped>\n",
       "    .dataframe tbody tr th:only-of-type {\n",
       "        vertical-align: middle;\n",
       "    }\n",
       "\n",
       "    .dataframe tbody tr th {\n",
       "        vertical-align: top;\n",
       "    }\n",
       "\n",
       "    .dataframe thead th {\n",
       "        text-align: right;\n",
       "    }\n",
       "</style>\n",
       "<table border=\"1\" class=\"dataframe\">\n",
       "  <thead>\n",
       "    <tr style=\"text-align: right;\">\n",
       "      <th></th>\n",
       "      <th>Customer_ID</th>\n",
       "      <th>Nama Pelanggan</th>\n",
       "      <th>Jenis Kelamin</th>\n",
       "      <th>Umur</th>\n",
       "      <th>Profesi</th>\n",
       "      <th>Tipe Residen</th>\n",
       "      <th>NilaiBelanjaSetahun</th>\n",
       "    </tr>\n",
       "  </thead>\n",
       "  <tbody>\n",
       "    <tr>\n",
       "      <th>0</th>\n",
       "      <td>CUST-001</td>\n",
       "      <td>Budi Anggara</td>\n",
       "      <td>Pria</td>\n",
       "      <td>58</td>\n",
       "      <td>Wiraswasta</td>\n",
       "      <td>Sector</td>\n",
       "      <td>9497927</td>\n",
       "    </tr>\n",
       "    <tr>\n",
       "      <th>1</th>\n",
       "      <td>CUST-002</td>\n",
       "      <td>Shirley Ratuwati</td>\n",
       "      <td>Wanita</td>\n",
       "      <td>14</td>\n",
       "      <td>Pelajar</td>\n",
       "      <td>Cluster</td>\n",
       "      <td>2722700</td>\n",
       "    </tr>\n",
       "    <tr>\n",
       "      <th>2</th>\n",
       "      <td>CUST-003</td>\n",
       "      <td>Agus Cahyono</td>\n",
       "      <td>Pria</td>\n",
       "      <td>48</td>\n",
       "      <td>Professional</td>\n",
       "      <td>Cluster</td>\n",
       "      <td>5286429</td>\n",
       "    </tr>\n",
       "    <tr>\n",
       "      <th>3</th>\n",
       "      <td>CUST-004</td>\n",
       "      <td>Antonius Winarta</td>\n",
       "      <td>Pria</td>\n",
       "      <td>53</td>\n",
       "      <td>Professional</td>\n",
       "      <td>Cluster</td>\n",
       "      <td>5204498</td>\n",
       "    </tr>\n",
       "    <tr>\n",
       "      <th>4</th>\n",
       "      <td>CUST-005</td>\n",
       "      <td>Ibu Sri Wahyuni, IR</td>\n",
       "      <td>Wanita</td>\n",
       "      <td>41</td>\n",
       "      <td>Wiraswasta</td>\n",
       "      <td>Cluster</td>\n",
       "      <td>10615206</td>\n",
       "    </tr>\n",
       "  </tbody>\n",
       "</table>\n",
       "</div>"
      ],
      "text/plain": [
       "  Customer_ID       Nama Pelanggan Jenis Kelamin  Umur       Profesi  \\\n",
       "0    CUST-001         Budi Anggara          Pria    58    Wiraswasta   \n",
       "1    CUST-002     Shirley Ratuwati        Wanita    14       Pelajar   \n",
       "2    CUST-003         Agus Cahyono          Pria    48  Professional   \n",
       "3    CUST-004     Antonius Winarta          Pria    53  Professional   \n",
       "4    CUST-005  Ibu Sri Wahyuni, IR        Wanita    41    Wiraswasta   \n",
       "\n",
       "  Tipe Residen  NilaiBelanjaSetahun  \n",
       "0       Sector              9497927  \n",
       "1      Cluster              2722700  \n",
       "2      Cluster              5286429  \n",
       "3      Cluster              5204498  \n",
       "4      Cluster             10615206  "
      ]
     },
     "execution_count": 10,
     "metadata": {},
     "output_type": "execute_result"
    }
   ],
   "source": [
    "import pandas as pd\n",
    "\n",
    "#import dataset\n",
    "df = pd.read_csv('https://storage.googleapis.com/dqlab-dataset/customer_segments.txt', sep='\\t')\n",
    "df.head()"
   ]
  },
  {
   "attachments": {},
   "cell_type": "markdown",
   "metadata": {},
   "source": [
    "*Data tersebut memiliki tujuh kolom dengan penjelasan sebagai berikut:*\n",
    "\n",
    "- ***Customer ID**: Kode pelanggan dengan format campuran teks CUST- diikuti angka*\n",
    "- ***Nama Pelanggan**: Nama dari pelanggan dengan format teks tentunya*\n",
    "- ***Jenis Kelamin**: Jenis kelamin dari pelanggan, hanya terdapat dua isi data kategori yaitu Pria dan Wanita*\n",
    "- ***Umur**: Umur dari pelanggan dalam format angka*\n",
    "- ***Profesi**: Profesi dari pelanggan, juga bertipe teks kategori yang terdiri dari Wiraswasta, Pelajar, Professional, Ibu Rumah Tangga, dan Mahasiswa.*\n",
    "- ***Tipe Residen**: Tipe tempat tinggal dari pelanggan kita, untuk dataset ini hanya ada dua kategori: Cluster dan Sector.*\n",
    "- ***Nilai Belanja Setahun**: Merupakan total belanja yang sudah dikeluarkan oleh pelanggan tersebut.*"
   ]
  },
  {
   "attachments": {},
   "cell_type": "markdown",
   "metadata": {},
   "source": [
    "**C. Melihat Informasi dari Data**\n",
    "\n",
    "*Selanjutnya kamu perlu melihat informasi dari data yang ada. Sehingga dengan kamu bisa mengetahui jumlah baris dan kolom, nama kolom, identifikasi null values,  dan juga mengetahui tipe data dengan mudah.*"
   ]
  },
  {
   "cell_type": "code",
   "execution_count": 12,
   "metadata": {},
   "outputs": [
    {
     "name": "stdout",
     "output_type": "stream",
     "text": [
      "<class 'pandas.core.frame.DataFrame'>\n",
      "RangeIndex: 50 entries, 0 to 49\n",
      "Data columns (total 7 columns):\n",
      " #   Column               Non-Null Count  Dtype \n",
      "---  ------               --------------  ----- \n",
      " 0   Customer_ID          50 non-null     object\n",
      " 1   Nama Pelanggan       50 non-null     object\n",
      " 2   Jenis Kelamin        50 non-null     object\n",
      " 3   Umur                 50 non-null     int64 \n",
      " 4   Profesi              50 non-null     object\n",
      " 5   Tipe Residen         50 non-null     object\n",
      " 6   NilaiBelanjaSetahun  50 non-null     int64 \n",
      "dtypes: int64(2), object(5)\n",
      "memory usage: 2.9+ KB\n"
     ]
    }
   ],
   "source": [
    "import pandas as pd\n",
    "df = pd.read_csv('https://storage.googleapis.com/dqlab-dataset/customer_segments.txt', sep='\\t')\n",
    "\n",
    "# Menampilkan informasi data\n",
    "df.info()"
   ]
  },
  {
   "attachments": {},
   "cell_type": "markdown",
   "metadata": {},
   "source": [
    "**D. Kesimpulan**\n",
    "\n",
    "*Setelah melakukan pemanggilan data dan melihat informasi data yang kamu miliki, kamu akhirnya mengetahui bahwa:*\n",
    "\n",
    "1. *Data yang akan digunakan terdiri dari 50 baris dan 7 kolom*\n",
    "2. *Tidak ada nilai null pada data*\n",
    "3. *Dua kolom memiliki tipe data numeric dan lima data bertipe string*"
   ]
  },
  {
   "attachments": {},
   "cell_type": "markdown",
   "metadata": {},
   "source": [
    "**E. Tips:**\n",
    "\n",
    "*Dalam setiap project machine learning, kita harus memahami informasi dasar dari data yang kita miliki sebelum melakukan analisa lebih lanjut. Dengan melakukan hal ini, kita bisa memastikan tipe data dari masing-masing kolom sudah benar, mengetahui apakah ada data null di tiap tiap kolom, dan juga mengetahui nama-nama kolom di dataset yang kita gunakan. Informasi ini nantinya akan menentukan proses apa yang perlu kita lakukan selanjutnya.*"
   ]
  },
  {
   "cell_type": "markdown",
   "metadata": {},
   "source": []
  },
  {
   "attachments": {},
   "cell_type": "markdown",
   "metadata": {},
   "source": [
    "**Melakukan Eksplorasi Data**\n",
    "\n",
    "*Pada tahap sebelumnya kamu sudah menyiapkan data dan melihat informasi dasar dari data yang kamu miliki.*\n",
    "\n",
    "*Selanjutnya kamu perlu melakukan eksplorasi data untuk lebih mengenal dataset yang akan digunakan. Kamu akan melakukan eksplorasi untuk data numerik dan juga data kategorikal.*"
   ]
  },
  {
   "attachments": {},
   "cell_type": "markdown",
   "metadata": {},
   "source": [
    "**A. Eksplorasi Data Numerik**\n",
    "\n",
    "***Pertama kamu perlu melihat distribusi data dari data yang berjenis numerik.** Disini kamu akan menggunakan boxplot dan juga histogram untuk melihat distribusi datanya. Untuk membuat grafik tersebut, kamu perlu menyiapkan kolom mana yang merupakan kolom numerik. Kemudian menggunakan library seaborn untuk membuat plot masing-masing kolom numerik, yaitu 'Umur' dan 'NilaiBelanjaSetahun'.*"
   ]
  },
  {
   "cell_type": "code",
   "execution_count": 83,
   "metadata": {},
   "outputs": [
    {
     "name": "stdout",
     "output_type": "stream",
     "text": [
      "  adjustable: {'box', 'datalim'}\n",
      "  agg_filter: a filter function, which takes a (m, n, 3) float array and a dpi value, and returns a (m, n, 3) array and two offsets from the bottom left corner of the image\n",
      "  alpha: scalar or None\n",
      "  anchor: (float, float) or {'C', 'SW', 'S', 'SE', 'E', 'NE', ...}\n",
      "  animated: bool\n",
      "  aspect: {'auto', 'equal'} or float\n",
      "  autoscale_on: bool\n",
      "  autoscalex_on: bool\n",
      "  autoscaley_on: bool\n",
      "  axes_locator: Callable[[Axes, Renderer], Bbox]\n",
      "  axisbelow: bool or 'line'\n",
      "  box_aspect: float or None\n",
      "  clip_box: `.Bbox`\n",
      "  clip_on: bool\n",
      "  clip_path: Patch or (Path, Transform) or None\n",
      "  facecolor or fc: color\n",
      "  figure: `.Figure`\n",
      "  frame_on: bool\n",
      "  gid: str\n",
      "  in_layout: bool\n",
      "  label: object\n",
      "  navigate: bool\n",
      "  navigate_mode: unknown\n",
      "  path_effects: `.AbstractPathEffect`\n",
      "  picker: None or bool or float or callable\n",
      "  position: [left, bottom, width, height] or `~matplotlib.transforms.Bbox`\n",
      "  prop_cycle: unknown\n",
      "  rasterization_zorder: float or None\n",
      "  rasterized: bool\n",
      "  sketch_params: (scale: float, length: float, randomness: float)\n",
      "  snap: bool or None\n",
      "  subplotspec: unknown\n",
      "  title: str\n",
      "  transform: `.Transform`\n",
      "  url: str\n",
      "  visible: bool\n",
      "  xbound: unknown\n",
      "  xlabel: str\n",
      "  xlim: (bottom: float, top: float)\n",
      "  xmargin: float greater than -0.5\n",
      "  xscale: {\"linear\", \"log\", \"symlog\", \"logit\", ...} or `.ScaleBase`\n",
      "  xticklabels: unknown\n",
      "  xticks: unknown\n",
      "  ybound: unknown\n",
      "  ylabel: str\n",
      "  ylim: (bottom: float, top: float)\n",
      "  ymargin: float greater than -0.5\n",
      "  yscale: {\"linear\", \"log\", \"symlog\", \"logit\", ...} or `.ScaleBase`\n",
      "  yticklabels: unknown\n",
      "  yticks: unknown\n",
      "  zorder: float\n"
     ]
    },
    {
     "name": "stderr",
     "output_type": "stream",
     "text": [
      "C:\\Users\\sendy\\AppData\\Local\\Temp\\ipykernel_58880\\1367433093.py:13: UserWarning: \n",
      "\n",
      "`distplot` is a deprecated function and will be removed in seaborn v0.14.0.\n",
      "\n",
      "Please adapt your code to use either `displot` (a figure-level function with\n",
      "similar flexibility) or `histplot` (an axes-level function for histograms).\n",
      "\n",
      "For a guide to updating your code to use the new functions, please see\n",
      "https://gist.github.com/mwaskom/de44147ed2974457ad6372750bbe5751\n",
      "\n",
      "  sns.distplot(df[kol], ax = axs[i][1])\n",
      "C:\\Users\\sendy\\AppData\\Local\\Temp\\ipykernel_58880\\1367433093.py:13: UserWarning: \n",
      "\n",
      "`distplot` is a deprecated function and will be removed in seaborn v0.14.0.\n",
      "\n",
      "Please adapt your code to use either `displot` (a figure-level function with\n",
      "similar flexibility) or `histplot` (an axes-level function for histograms).\n",
      "\n",
      "For a guide to updating your code to use the new functions, please see\n",
      "https://gist.github.com/mwaskom/de44147ed2974457ad6372750bbe5751\n",
      "\n",
      "  sns.distplot(df[kol], ax = axs[i][1])\n"
     ]
    },
    {
     "data": {
      "text/plain": [
       "<Figure size 432x288 with 0 Axes>"
      ]
     },
     "metadata": {},
     "output_type": "display_data"
    },
    {
     "data": {
      "image/png": "[encoded data removed]",
      "text/plain": [
       "<Figure size 720x648 with 4 Axes>"
      ]
     },
     "metadata": {},
     "output_type": "display_data"
    }
   ],
   "source": [
    "import matplotlib.pyplot as plt\n",
    "import seaborn as sns\n",
    "sns.set(style='white')\n",
    "import pandas as pd\n",
    "df = pd.read_csv(\"https://storage.googleapis.com/dqlab-dataset/customer_segments.txt\", sep=\"\\t\")\n",
    "plt.clf()\n",
    "  \n",
    "# Fungsi untuk membuat plot  \n",
    "def observasi_num(features):  \n",
    "    fig, axs = plt.subplots(2, 2, figsize=(10, 9))\n",
    "    for i, kol in enumerate(features):\n",
    "\t    sns.boxplot(df[kol], ax = axs[i][0])\n",
    "\t    sns.distplot(df[kol], ax = axs[i][1])   \n",
    "\t    axs[i][0].set_title('mean = %.2f\\n median = %.2f\\n std = %.2f'%(df[kol].mean(), df[kol].median(), df[kol].std()))\n",
    "    plt.setp(axs)\n",
    "    plt.tight_layout()\n",
    "    plt.show()  \n",
    "  \n",
    "# Memanggil fungsi untuk membuat Plot untuk data numerik  \n",
    "kolom_numerik = ['Umur','NilaiBelanjaSetahun'] \n",
    "observasi_num(kolom_numerik) "
   ]
  },
  {
   "attachments": {},
   "cell_type": "markdown",
   "metadata": {},
   "source": [
    "**B. Eksplorasi Data Kategorikal**\n",
    "\n",
    "***Melihat bagaimana persebaran data pada kolom-kolom yang memiliki jenis kategorikal** yaitu Jenis Kelamin, Profesi dan Tipe Residen. Kamu dapat melakukan hal ini dengan menggunakan countplot dari library seaborn.*"
   ]
  },
  {
   "cell_type": "code",
   "execution_count": 84,
   "metadata": {},
   "outputs": [
    {
     "name": "stdout",
     "output_type": "stream",
     "text": [
      "  adjustable: {'box', 'datalim'}\n",
      "  agg_filter: a filter function, which takes a (m, n, 3) float array and a dpi value, and returns a (m, n, 3) array and two offsets from the bottom left corner of the image\n",
      "  alpha: scalar or None\n",
      "  anchor: (float, float) or {'C', 'SW', 'S', 'SE', 'E', 'NE', ...}\n",
      "  animated: bool\n",
      "  aspect: {'auto', 'equal'} or float\n",
      "  autoscale_on: bool\n",
      "  autoscalex_on: bool\n",
      "  autoscaley_on: bool\n",
      "  axes_locator: Callable[[Axes, Renderer], Bbox]\n",
      "  axisbelow: bool or 'line'\n",
      "  box_aspect: float or None\n",
      "  clip_box: `.Bbox`\n",
      "  clip_on: bool\n",
      "  clip_path: Patch or (Path, Transform) or None\n",
      "  facecolor or fc: color\n",
      "  figure: `.Figure`\n",
      "  frame_on: bool\n",
      "  gid: str\n",
      "  in_layout: bool\n",
      "  label: object\n",
      "  navigate: bool\n",
      "  navigate_mode: unknown\n",
      "  path_effects: `.AbstractPathEffect`\n",
      "  picker: None or bool or float or callable\n",
      "  position: [left, bottom, width, height] or `~matplotlib.transforms.Bbox`\n",
      "  prop_cycle: unknown\n",
      "  rasterization_zorder: float or None\n",
      "  rasterized: bool\n",
      "  sketch_params: (scale: float, length: float, randomness: float)\n",
      "  snap: bool or None\n",
      "  subplotspec: unknown\n",
      "  title: str\n",
      "  transform: `.Transform`\n",
      "  url: str\n",
      "  visible: bool\n",
      "  xbound: unknown\n",
      "  xlabel: str\n",
      "  xlim: (bottom: float, top: float)\n",
      "  xmargin: float greater than -0.5\n",
      "  xscale: {\"linear\", \"log\", \"symlog\", \"logit\", ...} or `.ScaleBase`\n",
      "  xticklabels: unknown\n",
      "  xticks: unknown\n",
      "  ybound: unknown\n",
      "  ylabel: str\n",
      "  ylim: (bottom: float, top: float)\n",
      "  ymargin: float greater than -0.5\n",
      "  yscale: {\"linear\", \"log\", \"symlog\", \"logit\", ...} or `.ScaleBase`\n",
      "  yticklabels: unknown\n",
      "  yticks: unknown\n",
      "  zorder: float\n",
      "  adjustable: {'box', 'datalim'}\n",
      "  agg_filter: a filter function, which takes a (m, n, 3) float array and a dpi value, and returns a (m, n, 3) array and two offsets from the bottom left corner of the image\n",
      "  alpha: scalar or None\n",
      "  anchor: (float, float) or {'C', 'SW', 'S', 'SE', 'E', 'NE', ...}\n",
      "  animated: bool\n",
      "  aspect: {'auto', 'equal'} or float\n",
      "  autoscale_on: bool\n",
      "  autoscalex_on: bool\n",
      "  autoscaley_on: bool\n",
      "  axes_locator: Callable[[Axes, Renderer], Bbox]\n",
      "  axisbelow: bool or 'line'\n",
      "  box_aspect: float or None\n",
      "  clip_box: `.Bbox`\n",
      "  clip_on: bool\n",
      "  clip_path: Patch or (Path, Transform) or None\n",
      "  facecolor or fc: color\n",
      "  figure: `.Figure`\n",
      "  frame_on: bool\n",
      "  gid: str\n",
      "  in_layout: bool\n",
      "  label: object\n",
      "  navigate: bool\n",
      "  navigate_mode: unknown\n",
      "  path_effects: `.AbstractPathEffect`\n",
      "  picker: None or bool or float or callable\n",
      "  position: [left, bottom, width, height] or `~matplotlib.transforms.Bbox`\n",
      "  prop_cycle: unknown\n",
      "  rasterization_zorder: float or None\n",
      "  rasterized: bool\n",
      "  sketch_params: (scale: float, length: float, randomness: float)\n",
      "  snap: bool or None\n",
      "  subplotspec: unknown\n",
      "  title: str\n",
      "  transform: `.Transform`\n",
      "  url: str\n",
      "  visible: bool\n",
      "  xbound: unknown\n",
      "  xlabel: str\n",
      "  xlim: (bottom: float, top: float)\n",
      "  xmargin: float greater than -0.5\n",
      "  xscale: {\"linear\", \"log\", \"symlog\", \"logit\", ...} or `.ScaleBase`\n",
      "  xticklabels: unknown\n",
      "  xticks: unknown\n",
      "  ybound: unknown\n",
      "  ylabel: str\n",
      "  ylim: (bottom: float, top: float)\n",
      "  ymargin: float greater than -0.5\n",
      "  yscale: {\"linear\", \"log\", \"symlog\", \"logit\", ...} or `.ScaleBase`\n",
      "  yticklabels: unknown\n",
      "  yticks: unknown\n",
      "  zorder: float\n",
      "  adjustable: {'box', 'datalim'}\n",
      "  agg_filter: a filter function, which takes a (m, n, 3) float array and a dpi value, and returns a (m, n, 3) array and two offsets from the bottom left corner of the image\n",
      "  alpha: scalar or None\n",
      "  anchor: (float, float) or {'C', 'SW', 'S', 'SE', 'E', 'NE', ...}\n",
      "  animated: bool\n",
      "  aspect: {'auto', 'equal'} or float\n",
      "  autoscale_on: bool\n",
      "  autoscalex_on: bool\n",
      "  autoscaley_on: bool\n",
      "  axes_locator: Callable[[Axes, Renderer], Bbox]\n",
      "  axisbelow: bool or 'line'\n",
      "  box_aspect: float or None\n",
      "  clip_box: `.Bbox`\n",
      "  clip_on: bool\n",
      "  clip_path: Patch or (Path, Transform) or None\n",
      "  facecolor or fc: color\n",
      "  figure: `.Figure`\n",
      "  frame_on: bool\n",
      "  gid: str\n",
      "  in_layout: bool\n",
      "  label: object\n",
      "  navigate: bool\n",
      "  navigate_mode: unknown\n",
      "  path_effects: `.AbstractPathEffect`\n",
      "  picker: None or bool or float or callable\n",
      "  position: [left, bottom, width, height] or `~matplotlib.transforms.Bbox`\n",
      "  prop_cycle: unknown\n",
      "  rasterization_zorder: float or None\n",
      "  rasterized: bool\n",
      "  sketch_params: (scale: float, length: float, randomness: float)\n",
      "  snap: bool or None\n",
      "  subplotspec: unknown\n",
      "  title: str\n",
      "  transform: `.Transform`\n",
      "  url: str\n",
      "  visible: bool\n",
      "  xbound: unknown\n",
      "  xlabel: str\n",
      "  xlim: (bottom: float, top: float)\n",
      "  xmargin: float greater than -0.5\n",
      "  xscale: {\"linear\", \"log\", \"symlog\", \"logit\", ...} or `.ScaleBase`\n",
      "  xticklabels: unknown\n",
      "  xticks: unknown\n",
      "  ybound: unknown\n",
      "  ylabel: str\n",
      "  ylim: (bottom: float, top: float)\n",
      "  ymargin: float greater than -0.5\n",
      "  yscale: {\"linear\", \"log\", \"symlog\", \"logit\", ...} or `.ScaleBase`\n",
      "  yticklabels: unknown\n",
      "  yticks: unknown\n",
      "  zorder: float\n"
     ]
    },
    {
     "data": {
      "text/plain": [
       "<Figure size 432x288 with 0 Axes>"
      ]
     },
     "metadata": {},
     "output_type": "display_data"
    },
    {
     "data": {
      "image/png": "[encoded data removed]",
      "text/plain": [
       "<Figure size 504x720 with 3 Axes>"
      ]
     },
     "metadata": {},
     "output_type": "display_data"
    }
   ],
   "source": [
    "plt.clf()\n",
    "  \n",
    "# Menyiapkan kolom kategorikal  \n",
    "kolom_kategorikal = ['Jenis Kelamin','Profesi','Tipe Residen']  \n",
    "\n",
    "# Membuat canvas\n",
    "fig, axs = plt.subplots(3,1,figsize=(7,10)) \n",
    "\n",
    "# Membuat plot untuk setiap kolom kategorikal  \n",
    "for i, kol in enumerate(kolom_kategorikal):  \n",
    "    # Membuat Plot\n",
    "    sns.countplot(x=kol, data=df, order=df[kol].value_counts().index, ax = axs[i])  \n",
    "    axs[i].set_title('\\nCount Plot %s\\n'%(kol), fontsize=15) \n",
    "\n",
    "    # Memberikan anotasi  \n",
    "    for p in axs[i].patches:  \n",
    "        axs[i].annotate(format(p.get_height(), '.0f'),  \n",
    "                        (p.get_x() + p.get_width() / 2., p.get_height()),  \n",
    "                        ha = 'center',  \n",
    "                        va = 'center',  \n",
    "                        xytext = (0, 10),  \n",
    "                        textcoords = 'offset points') \n",
    "          \n",
    "    # Setting Plot  \n",
    "    sns.despine(right=True,top = True, left = True)  \n",
    "    axs[i].axes.yaxis.set_visible(False) \n",
    "    plt.setp(axs[i])\n",
    "    plt.tight_layout()\n",
    "\n",
    "# Tampilkan plot\n",
    "plt.show()"
   ]
  },
  {
   "attachments": {},
   "cell_type": "markdown",
   "metadata": {},
   "source": [
    "**C. Kesimpulan :**\n",
    "\n",
    "*Dari hasil eksplorasi data tersebut kamu dapat mendapatkan informasi:*\n",
    "\n",
    "1. *Rata-rata dari umur pelanggan adalah 37.5 tahun*\n",
    "2. *Rata-rata dari nilai belanja setahun pelanggan adalah 7,069,874.82*\n",
    "3. *Jenis kelamin pelanggan di dominasi oleh wanita sebanyak 41 orang (82%) dan laki-laki sebanyak 9 orang (18%)*\n",
    "4. *Profesi terbanyak adalah Wiraswasta (40%) diikuti dengan Professional (36%) dan lainnya sebanyak (24%)*\n",
    "5. *Dari seluruh pelanggan 64% dari mereka tinggal di Cluster dan 36% nya tinggal di Sektor*"
   ]
  },
  {
   "attachments": {},
   "cell_type": "markdown",
   "metadata": {},
   "source": [
    "**D. Tips:**\n",
    "\n",
    "*Kita dapat mengenal data kita lebih jauh lagi pada tahapan eksplorasi data ini. Proses eksplorasi data bisa berupa univariate maupun multivariate data eksplorasi.* \n",
    "- ***Eksplorasi Data Univariate** melihat karakteristik tiap-tiap feature, misalnya dengan melihat statistik deskriptif, membuat histogram, kdeplot, countplot maupun boxplot.* \n",
    "- *Sedangkan untuk **Eksplorasi Data Multivariate**, kita melihat hubungan tiap variabel dengan variabel lainnya, misal kan dengan membuat korelasi matrix, melihat predictive power, cross tabulasi, dan lainnya.*"
   ]
  },
  {
   "cell_type": "markdown",
   "metadata": {},
   "source": []
  },
  {
   "attachments": {},
   "cell_type": "markdown",
   "metadata": {},
   "source": [
    "**Mempersiapkan Data Sebelum Permodelan**"
   ]
  },
  {
   "attachments": {},
   "cell_type": "markdown",
   "metadata": {},
   "source": [
    "*Setiap machine learning model memiliki karakteristik yang berbeda-beda. Hal ini membuat kamu harus mempersiapkan data yang kamu miliki sebelum digunakan untuk melakukan permodelan. Sehingga dapat menyesuaikan dengan karakteristik yang dimiliki oleh tiap model dan mendapatkan hasil yang optimal.*\n",
    "\n",
    "*Kamu berencana akan melakukan permodelan dengan menggunakan teknik unsupervised clustering. Algoritma yang akan digunakan adalah K-Prototypes.* \n",
    "1. *Salah satu faktor utama dalam algoritma ini adalah kamu perlu **menggunakan data yang skala antar variabelnya setara**.* \n",
    "2. *Diperlukan **melakukan encoding** kolom - kolom kategorikal yang dimiliki menjadi numerik.* \n",
    "3. *Menggabungkan hasil pemrosesan data tersebut menjadi satu dataframe untuk digunakan dalam permodelan.*"
   ]
  },
  {
   "attachments": {},
   "cell_type": "markdown",
   "metadata": {},
   "source": [
    "**A. Standarisasi Kolom Numerik**\n",
    "\n",
    "*Supaya mendapatkan hasil yang maksimal dalam penerapan algoritma ini, kamu perlu menjadikan data-data numerik yang kamu miliki berada pada satu skala.* \n",
    "1. *Hal ini dapat dilakukan dengan melakukan standardisasi data yang kamu miliki.* \n",
    "2. *Tujuannya adalah agar variabel yang memiliki skala besar tidak mendominasi bagaimana cluster akan dibentuk dan juga tiap variabel akan dianggap sama pentingnya oleh algoritma yang akan digunakan.*\n",
    "3. *Tampilkan deskriptif statistik sebelum dan sesudah standardisasi untuk melihat perbedaannya.*"
   ]
  },
  {
   "cell_type": "code",
   "execution_count": 85,
   "metadata": {},
   "outputs": [
    {
     "name": "stdout",
     "output_type": "stream",
     "text": [
      "Statistik Sebelum Standardisasi\n",
      "\n",
      "       Umur  NilaiBelanjaSetahun\n",
      "count  50.0                 50.0\n",
      "mean   37.5            7069874.8\n",
      "std    14.7            2590619.0\n",
      "min    14.0            2722700.0\n",
      "25%    25.0            5257529.8\n",
      "50%    35.0            5980077.0\n",
      "75%    49.8            9739615.0\n",
      "max    64.0           10884508.0\n",
      "Contoh hasil standardisasi\n",
      "\n",
      "       Umur  NilaiBelanjaSetahun\n",
      "0  1.411245             0.946763\n",
      "1 -1.617768            -1.695081\n",
      "2  0.722833            -0.695414\n",
      "3  1.067039            -0.727361\n",
      "4  0.240944             1.382421\n",
      "Statistik hasil standardisasi\n",
      "\n",
      "       Umur  NilaiBelanjaSetahun\n",
      "count  50.0                 50.0\n",
      "mean    0.0                 -0.0\n",
      "std     1.0                  1.0\n",
      "min    -2.0                 -2.0\n",
      "25%    -1.0                 -1.0\n",
      "50%    -0.0                 -0.0\n",
      "75%     1.0                  1.0\n",
      "max     2.0                  1.0\n"
     ]
    }
   ],
   "source": [
    "import pandas as pd\n",
    "df = pd.read_csv(\"https://storage.googleapis.com/dqlab-dataset/customer_segments.txt\", sep=\"\\t\")\n",
    "\n",
    "from sklearn.preprocessing import StandardScaler  \n",
    "  \n",
    "kolom_numerik = ['Umur','NilaiBelanjaSetahun']  \n",
    "  \n",
    "# Statistik sebelum Standardisasi  \n",
    "print('Statistik Sebelum Standardisasi\\n')  \n",
    "print(df[kolom_numerik].describe().round(1))  \n",
    "  \n",
    "# Standardisasi  \n",
    "df_std = StandardScaler().fit_transform(df[kolom_numerik])  \n",
    "  \n",
    "# Membuat DataFrame  \n",
    "df_std = pd.DataFrame(data=df_std, index=df.index, columns=df[kolom_numerik].columns)  \n",
    "  \n",
    "# Menampilkan contoh isi data dan summary statistic  \n",
    "print('Contoh hasil standardisasi\\n')  \n",
    "print(df_std.head())  \n",
    "  \n",
    "print('Statistik hasil standardisasi\\n')  \n",
    "print(df_std.describe().round(0))  "
   ]
  },
  {
   "attachments": {},
   "cell_type": "markdown",
   "metadata": {},
   "source": [
    "**B. Konversi Kategorikal Data dengan Label Encoder**\n",
    "\n",
    "*Selanjutnya kamu perlu merubah kolom-kolom yang berjenis kategorikal menjadi angka. Kita akan menggunakan salah satu fungsi dari sklearn yaitu LabelEncoder. Pada dasarnya fungsi ini akan melakukan konversi data pelanggan dari teks menjadi numerik.*"
   ]
  },
  {
   "cell_type": "code",
   "execution_count": 86,
   "metadata": {},
   "outputs": [
    {
     "name": "stdout",
     "output_type": "stream",
     "text": [
      "   Jenis Kelamin  Profesi  Tipe Residen\n",
      "0              0        4             1\n",
      "1              1        2             0\n",
      "2              0        3             0\n",
      "3              0        3             0\n",
      "4              1        4             0\n"
     ]
    }
   ],
   "source": [
    "# Inisiasi nama kolom kategorikal  \n",
    "kolom_kategorikal = ['Jenis Kelamin','Profesi','Tipe Residen']  \n",
    "  \n",
    "# Membuat salinan data frame  \n",
    "df_encode = df[kolom_kategorikal].copy()  \n",
    "  \n",
    "  \n",
    "# Melakukan labelEncoder untuk semua kolom kategorikal  \n",
    "for col in kolom_kategorikal:  \n",
    "    df_encode[col]= LabelEncoder().fit_transform(df_encode[col])\n",
    "      \n",
    "# Menampilkan data  \n",
    "print(df_encode.head())\n"
   ]
  },
  {
   "attachments": {},
   "cell_type": "markdown",
   "metadata": {},
   "source": [
    "**C. Menggabungkan Data untuk Permodelan**\n",
    "\n",
    "*Setelah menyelesaikan dua tahap sebelumnya, kali ini kamu akan menggabungkan kedua hasil pemrosesan tersebut menjadi satu data frame. **Data frame ini yang akan digunakan untuk permodelan**.*"
   ]
  },
  {
   "cell_type": "code",
   "execution_count": 87,
   "metadata": {},
   "outputs": [
    {
     "data": {
      "text/html": [
       "<div>\n",
       "<style scoped>\n",
       "    .dataframe tbody tr th:only-of-type {\n",
       "        vertical-align: middle;\n",
       "    }\n",
       "\n",
       "    .dataframe tbody tr th {\n",
       "        vertical-align: top;\n",
       "    }\n",
       "\n",
       "    .dataframe thead th {\n",
       "        text-align: right;\n",
       "    }\n",
       "</style>\n",
       "<table border=\"1\" class=\"dataframe\">\n",
       "  <thead>\n",
       "    <tr style=\"text-align: right;\">\n",
       "      <th></th>\n",
       "      <th>Jenis Kelamin</th>\n",
       "      <th>Profesi</th>\n",
       "      <th>Tipe Residen</th>\n",
       "      <th>Umur</th>\n",
       "      <th>NilaiBelanjaSetahun</th>\n",
       "    </tr>\n",
       "  </thead>\n",
       "  <tbody>\n",
       "    <tr>\n",
       "      <th>0</th>\n",
       "      <td>0</td>\n",
       "      <td>4</td>\n",
       "      <td>1</td>\n",
       "      <td>1.411245</td>\n",
       "      <td>0.946763</td>\n",
       "    </tr>\n",
       "    <tr>\n",
       "      <th>1</th>\n",
       "      <td>1</td>\n",
       "      <td>2</td>\n",
       "      <td>0</td>\n",
       "      <td>-1.617768</td>\n",
       "      <td>-1.695081</td>\n",
       "    </tr>\n",
       "    <tr>\n",
       "      <th>2</th>\n",
       "      <td>0</td>\n",
       "      <td>3</td>\n",
       "      <td>0</td>\n",
       "      <td>0.722833</td>\n",
       "      <td>-0.695414</td>\n",
       "    </tr>\n",
       "    <tr>\n",
       "      <th>3</th>\n",
       "      <td>0</td>\n",
       "      <td>3</td>\n",
       "      <td>0</td>\n",
       "      <td>1.067039</td>\n",
       "      <td>-0.727361</td>\n",
       "    </tr>\n",
       "    <tr>\n",
       "      <th>4</th>\n",
       "      <td>1</td>\n",
       "      <td>4</td>\n",
       "      <td>0</td>\n",
       "      <td>0.240944</td>\n",
       "      <td>1.382421</td>\n",
       "    </tr>\n",
       "  </tbody>\n",
       "</table>\n",
       "</div>"
      ],
      "text/plain": [
       "   Jenis Kelamin  Profesi  Tipe Residen      Umur  NilaiBelanjaSetahun\n",
       "0              0        4             1  1.411245             0.946763\n",
       "1              1        2             0 -1.617768            -1.695081\n",
       "2              0        3             0  0.722833            -0.695414\n",
       "3              0        3             0  1.067039            -0.727361\n",
       "4              1        4             0  0.240944             1.382421"
      ]
     },
     "execution_count": 87,
     "metadata": {},
     "output_type": "execute_result"
    }
   ],
   "source": [
    "# Menggabungkan data frame\n",
    "df_model = df_encode.merge(df_std, left_index = True, right_index=True, how= 'left')  \n",
    "df_model.head()"
   ]
  },
  {
   "attachments": {},
   "cell_type": "markdown",
   "metadata": {},
   "source": [
    "**D. Tips:**\n",
    "\n",
    "*Pada aplikasi di industri, proses pemrosesan data ini termasuk yang paling banyak menghabiskan waktu bagi data scientist. Selain yang sudah kita lakukan masih banyak teknik lain yang perlu dilakukan. Sebagai contoh kadang kita perlu melakukan data imputation ketika ada null data di dataset yang akan kita gunakan. Selain itu kadang kita juga perlu melakukan transformasi variabel, misalnya ketika kita memiliki distribusi data yang condong ke salah satu sisi (skew data). Tambahan contoh lainnya yaitu terkadang kita perlu menangani pencilan yang ada di data kita.*"
   ]
  },
  {
   "attachments": {},
   "cell_type": "markdown",
   "metadata": {},
   "source": [
    "**End of Tahap 1 - Preparation Data**"
   ]
  },
  {
   "cell_type": "markdown",
   "metadata": {},
   "source": []
  },
  {
   "attachments": {},
   "cell_type": "markdown",
   "metadata": {},
   "source": [
    "**TAHAP 2 - MODELLING**"
   ]
  },
  {
   "attachments": {},
   "cell_type": "markdown",
   "metadata": {},
   "source": [
    "**A. Apa itu Clustering dan Algoritma K-Prototypes**\n",
    "\n",
    "*Clustering adalah proses pembagian objek-objek ke dalam beberapa kelompok (cluster) berdasarkan tingkat kemiripan antara satu objek dengan yang lain.*\n",
    "\n",
    "*Terdapat beberapa algoritma untuk melakukan clustering ini. Salah satu yang populer adalah k-means.*\n",
    "\n",
    "*K-means itu sendiri biasa nya hanya digunakan untuk data-data yang bersifat numerik. Sedangkan untuk yang bersifat kategorikal saja, kita bisa menggunakan k-modes.*"
   ]
  },
  {
   "attachments": {},
   "cell_type": "markdown",
   "metadata": {},
   "source": [
    "*Lalu bagaimana apabila di data kita terdapat gabungan kategorikal dan numerikal variabel? Jawabannya kita bisa menggunakan algoritma k-prototype yang merupakan gabungan dari k-means dan k-modes. Hal ini bisa dilakukan dengan menggunakan library k-modes yang didalamnya terdapat modul kprototype.*\n",
    "\n",
    "*Untuk menggunakan algoritma kprototype kamu perlu memasukkan jumlah cluster yang dikehendaki dan juga memberikan index kolom untuk kolom-kolom yang bersifat kategorikal.*\n",
    "\n",
    "*Untuk lebih lengkapnya kamu bisa melihat dokumentasi dari kprototype melalui link berikut: https://github.com/nicodv/kmodes*"
   ]
  },
  {
   "attachments": {},
   "cell_type": "markdown",
   "metadata": {},
   "source": [
    "**B. Mencari Jumlah Cluster yang Optimal**\n",
    "\n",
    "*Salah satu parameter penting yang harus dimasukkan pada algoritma kprototype adalah **jumlah cluster yang diinginkan**. Oleh karena itu, kamu perlu mencari jumlah cluster yang optimal. Salah satu cara untuk mendapatkan nilai optimal tersebut adalah dengan menggunakan bantuan **'elbow plot'.***\n",
    "\n",
    "*Elbow plot ini dapat dibuat dengan cara memvisualisasikan total jarak seluruh data kita ke pusat cluster-nya. Selanjutnya kita memilih titik siku dari pola yang terbentuk dan menjadikannya sebagai jumlah cluster kita.*"
   ]
  },
  {
   "attachments": {},
   "cell_type": "markdown",
   "metadata": {},
   "source": [
    "- Buatlah elbow plot dengan jumlah cluster 2 sampai 9 dan tentukan jumlah cluster yang optimal."
   ]
  },
  {
   "cell_type": "code",
   "execution_count": 108,
   "metadata": {},
   "outputs": [
    {
     "data": {
      "image/png": "[encoded data removed]",
      "text/plain": [
       "<Figure size 432x288 with 1 Axes>"
      ]
     },
     "metadata": {},
     "output_type": "display_data"
    }
   ],
   "source": [
    "from kmodes.kmodes import KModes  \n",
    "from kmodes.kprototypes import KPrototypes  \n",
    "import pandas as pd\n",
    "import seaborn as sns\n",
    "import matplotlib.pyplot as plt  \n",
    "\n",
    "# Melakukan Iterasi untuk Mendapatkan nilai Cost  \n",
    "cost = {}  \n",
    "for k in range(2,10):  \n",
    "    kproto = KPrototypes(n_clusters = k,random_state=75)  \n",
    "    kproto.fit_predict(df_model, categorical=[0,1,2])  \n",
    "    cost[k]= kproto.cost_  \n",
    "  \n",
    "# Memvisualisasikan Elbow Plot  \n",
    "sns.pointplot(x=list(cost.keys()), y=list(cost.values()))  \n",
    "plt.show()\n"
   ]
  },
  {
   "attachments": {},
   "cell_type": "markdown",
   "metadata": {},
   "source": [
    "**Hasil :**\n",
    "\n",
    "*Dari hasil tersebut, kamu dapat mengetahui titik siku dari plot tersebut adalah pada saat k = 5. Sehingga kamu memutuskan untuk menggunakan 5 sebagai jumlah cluster optimalnya.*"
   ]
  },
  {
   "attachments": {},
   "cell_type": "markdown",
   "metadata": {},
   "source": [
    "**C. Membuat Model**\n",
    "\n",
    "*Buatlah model Kprototypes dengan nilai k = 5 dan random state = 75. Kemudian simpan hasilnya dalam bentuk pickle.*"
   ]
  },
  {
   "cell_type": "code",
   "execution_count": 109,
   "metadata": {},
   "outputs": [],
   "source": [
    "import pickle  \n",
    "from kmodes.kmodes import KModes  \n",
    "from kmodes.kprototypes import KPrototypes  \n",
    "  \n",
    "kproto = KPrototypes(n_clusters= 5, random_state= 75)  \n",
    "kproto = kproto.fit(df_model, categorical=[0,1,2])  \n",
    "  \n",
    "#Save Model  \n",
    "#pickle.dump(kproto, open('cluster.pkl', 'wb'))  \n"
   ]
  },
  {
   "attachments": {},
   "cell_type": "markdown",
   "metadata": {},
   "source": [
    "**D. Menggunakan Model**\n",
    "\n",
    "*Model yang sudah kamu buat dapat **digunakan untuk menentukan setiap pelanggan masuk ke dalam cluster yang mana**. Kali ini kamu akan menggunakan model tersebut untuk menentukan segmen pelanggan yang ada di dataset.*"
   ]
  },
  {
   "cell_type": "code",
   "execution_count": 110,
   "metadata": {},
   "outputs": [
    {
     "data": {
      "text/html": [
       "<div>\n",
       "<style scoped>\n",
       "    .dataframe tbody tr th:only-of-type {\n",
       "        vertical-align: middle;\n",
       "    }\n",
       "\n",
       "    .dataframe tbody tr th {\n",
       "        vertical-align: top;\n",
       "    }\n",
       "\n",
       "    .dataframe thead th {\n",
       "        text-align: right;\n",
       "    }\n",
       "</style>\n",
       "<table border=\"1\" class=\"dataframe\">\n",
       "  <thead>\n",
       "    <tr style=\"text-align: right;\">\n",
       "      <th></th>\n",
       "      <th>Customer_ID</th>\n",
       "      <th>Nama Pelanggan</th>\n",
       "      <th>Jenis Kelamin</th>\n",
       "      <th>Umur</th>\n",
       "      <th>Profesi</th>\n",
       "      <th>Tipe Residen</th>\n",
       "      <th>NilaiBelanjaSetahun</th>\n",
       "      <th>cluster</th>\n",
       "    </tr>\n",
       "  </thead>\n",
       "  <tbody>\n",
       "    <tr>\n",
       "      <th>0</th>\n",
       "      <td>CUST-001</td>\n",
       "      <td>Budi Anggara</td>\n",
       "      <td>Pria</td>\n",
       "      <td>58</td>\n",
       "      <td>Wiraswasta</td>\n",
       "      <td>Sector</td>\n",
       "      <td>9497927</td>\n",
       "      <td>1</td>\n",
       "    </tr>\n",
       "    <tr>\n",
       "      <th>1</th>\n",
       "      <td>CUST-002</td>\n",
       "      <td>Shirley Ratuwati</td>\n",
       "      <td>Wanita</td>\n",
       "      <td>14</td>\n",
       "      <td>Pelajar</td>\n",
       "      <td>Cluster</td>\n",
       "      <td>2722700</td>\n",
       "      <td>0</td>\n",
       "    </tr>\n",
       "    <tr>\n",
       "      <th>2</th>\n",
       "      <td>CUST-003</td>\n",
       "      <td>Agus Cahyono</td>\n",
       "      <td>Pria</td>\n",
       "      <td>48</td>\n",
       "      <td>Professional</td>\n",
       "      <td>Cluster</td>\n",
       "      <td>5286429</td>\n",
       "      <td>2</td>\n",
       "    </tr>\n",
       "    <tr>\n",
       "      <th>3</th>\n",
       "      <td>CUST-004</td>\n",
       "      <td>Antonius Winarta</td>\n",
       "      <td>Pria</td>\n",
       "      <td>53</td>\n",
       "      <td>Professional</td>\n",
       "      <td>Cluster</td>\n",
       "      <td>5204498</td>\n",
       "      <td>2</td>\n",
       "    </tr>\n",
       "    <tr>\n",
       "      <th>4</th>\n",
       "      <td>CUST-005</td>\n",
       "      <td>Ibu Sri Wahyuni, IR</td>\n",
       "      <td>Wanita</td>\n",
       "      <td>41</td>\n",
       "      <td>Wiraswasta</td>\n",
       "      <td>Cluster</td>\n",
       "      <td>10615206</td>\n",
       "      <td>3</td>\n",
       "    </tr>\n",
       "  </tbody>\n",
       "</table>\n",
       "</div>"
      ],
      "text/plain": [
       "  Customer_ID       Nama Pelanggan Jenis Kelamin  Umur       Profesi  \\\n",
       "0    CUST-001         Budi Anggara          Pria    58    Wiraswasta   \n",
       "1    CUST-002     Shirley Ratuwati        Wanita    14       Pelajar   \n",
       "2    CUST-003         Agus Cahyono          Pria    48  Professional   \n",
       "3    CUST-004     Antonius Winarta          Pria    53  Professional   \n",
       "4    CUST-005  Ibu Sri Wahyuni, IR        Wanita    41    Wiraswasta   \n",
       "\n",
       "  Tipe Residen  NilaiBelanjaSetahun  cluster  \n",
       "0       Sector              9497927        1  \n",
       "1      Cluster              2722700        0  \n",
       "2      Cluster              5286429        2  \n",
       "3      Cluster              5204498        2  \n",
       "4      Cluster             10615206        3  "
      ]
     },
     "execution_count": 110,
     "metadata": {},
     "output_type": "execute_result"
    }
   ],
   "source": [
    "import pickle\n",
    "\n",
    "# Pada tahap ini menggunakan data dari df & df_model\n",
    "# Fungsi Memanggil Model\n",
    "def modelling (data):  \n",
    "      \n",
    "    # Memanggil Model  \n",
    "    kpoto = pickle.load(open('cluster.pkl', 'rb'))  \n",
    "      \n",
    "    # Melakukan Prediksi  \n",
    "    clusters= kpoto.predict(data,categorical=[0,1,2])  \n",
    "      \n",
    "    return clusters  \n",
    "\n",
    "# Menjalankan model\n",
    "clusters = modelling(df_model)\n",
    "\n",
    "# Menggabungkan data awal dan segmen pelanggan     \n",
    "df_final = df.copy()    \n",
    "df_final['cluster'] = clusters\n",
    "df_final.head()\n"
   ]
  },
  {
   "attachments": {},
   "cell_type": "markdown",
   "metadata": {},
   "source": [
    "**E. Menampilkan Cluster Tiap Pelanggan**\n",
    "\n",
    "*Setelah kamu menggabungkan data awal pelanggan dan cluster-nya, kamu perlu untuk menampilkan dan mengobservasi hasilnya untuk membantu kamu dalam memberi nama tiap cluster berdasarkan karakteristiknya.*"
   ]
  },
  {
   "cell_type": "code",
   "execution_count": 111,
   "metadata": {},
   "outputs": [
    {
     "name": "stdout",
     "output_type": "stream",
     "text": [
      "\n",
      "Pelanggan cluster: 0\n",
      "\n",
      "   Customer_ID    Nama Pelanggan Jenis Kelamin  Umur    Profesi Tipe Residen  \\\n",
      "1     CUST-002  Shirley Ratuwati        Wanita    14    Pelajar      Cluster   \n",
      "19    CUST-020    Irene Novianto        Wanita    16    Pelajar       Sector   \n",
      "30    CUST-031     Eviana Handry        Wanita    19  Mahasiswa      Cluster   \n",
      "32    CUST-033   Cecilia Kusnadi        Wanita    19  Mahasiswa      Cluster   \n",
      "39    CUST-040    Irene Darmawan        Wanita    14    Pelajar       Sector   \n",
      "\n",
      "    NilaiBelanjaSetahun  cluster  \n",
      "1               2722700        0  \n",
      "19              2896845        0  \n",
      "30              3042773        0  \n",
      "32              3047926        0  \n",
      "39              2861855        0  \n",
      "\n",
      "Pelanggan cluster: 1\n",
      "\n",
      "   Customer_ID    Nama Pelanggan Jenis Kelamin  Umur     Profesi Tipe Residen  \\\n",
      "0     CUST-001      Budi Anggara          Pria    58  Wiraswasta       Sector   \n",
      "6     CUST-007     Cahyono, Agus          Pria    64  Wiraswasta       Sector   \n",
      "12    CUST-013      Cahaya Putri        Wanita    64  Wiraswasta      Cluster   \n",
      "13    CUST-014    Mario Setiawan          Pria    60  Wiraswasta      Cluster   \n",
      "31    CUST-032   Chintya Winarni        Wanita    47  Wiraswasta       Sector   \n",
      "37    CUST-038      Agatha Salim        Wanita    46  Wiraswasta       Sector   \n",
      "47    CUST-048  Maria Hutagalung        Wanita    45  Wiraswasta       Sector   \n",
      "49    CUST-050    Lianna Nugraha        Wanita    55  Wiraswasta       Sector   \n",
      "\n",
      "    NilaiBelanjaSetahun  cluster  \n",
      "0               9497927        1  \n",
      "6               9837260        1  \n",
      "12              9333168        1  \n",
      "13              9471615        1  \n",
      "31             10663179        1  \n",
      "37             10477127        1  \n",
      "47             10390732        1  \n",
      "49             10569316        1  \n",
      "\n",
      "Pelanggan cluster: 2\n",
      "\n",
      "   Customer_ID     Nama Pelanggan Jenis Kelamin  Umur           Profesi  \\\n",
      "2     CUST-003       Agus Cahyono          Pria    48      Professional   \n",
      "3     CUST-004   Antonius Winarta          Pria    53      Professional   \n",
      "7     CUST-008     Danang Santosa          Pria    52      Professional   \n",
      "10    CUST-011     Maria Suryawan        Wanita    50      Professional   \n",
      "11    CUST-012    Erliana Widjaja        Wanita    49      Professional   \n",
      "17    CUST-018        Nelly Halim        Wanita    63  Ibu Rumah Tangga   \n",
      "21    CUST-022       Novita Purba        Wanita    52      Professional   \n",
      "25    CUST-026  Christine Winarto        Wanita    55      Professional   \n",
      "28    CUST-029       Tia Hartanti        Wanita    56      Professional   \n",
      "29    CUST-030     Rosita Saragih        Wanita    46  Ibu Rumah Tangga   \n",
      "46    CUST-047        Mira Kurnia        Wanita    55  Ibu Rumah Tangga   \n",
      "\n",
      "   Tipe Residen  NilaiBelanjaSetahun  cluster  \n",
      "2       Cluster              5286429        2  \n",
      "3       Cluster              5204498        2  \n",
      "7       Cluster              5223569        2  \n",
      "10       Sector              5987367        2  \n",
      "11       Sector              5941914        2  \n",
      "17      Cluster              5340690        2  \n",
      "21      Cluster              5298157        2  \n",
      "25      Cluster              5269392        2  \n",
      "28      Cluster              5271845        2  \n",
      "29       Sector              5020976        2  \n",
      "46      Cluster              6130724        2  \n",
      "\n",
      "Pelanggan cluster: 3\n",
      "\n",
      "   Customer_ID       Nama Pelanggan Jenis Kelamin  Umur     Profesi  \\\n",
      "4     CUST-005  Ibu Sri Wahyuni, IR        Wanita    41  Wiraswasta   \n",
      "14    CUST-015     Shirley Ratuwati        Wanita    20  Wiraswasta   \n",
      "18    CUST-019         Mega Pranoto        Wanita    32  Wiraswasta   \n",
      "20    CUST-021     Lestari Fabianto        Wanita    38  Wiraswasta   \n",
      "23    CUST-024        Putri Ginting        Wanita    39  Wiraswasta   \n",
      "24    CUST-025       Julia Setiawan        Wanita    29  Wiraswasta   \n",
      "26    CUST-027        Grace Mulyati        Wanita    35  Wiraswasta   \n",
      "33    CUST-034       Deasy Arisandi        Wanita    21  Wiraswasta   \n",
      "35    CUST-036       Ni Made Suasti        Wanita    30  Wiraswasta   \n",
      "41    CUST-042         Yuliana Wati        Wanita    26  Wiraswasta   \n",
      "43    CUST-044                 Anna        Wanita    18  Wiraswasta   \n",
      "45    CUST-046         Elfira Surya        Wanita    25  Wiraswasta   \n",
      "\n",
      "   Tipe Residen  NilaiBelanjaSetahun  cluster  \n",
      "4       Cluster             10615206        3  \n",
      "14      Cluster             10365668        3  \n",
      "18      Cluster             10884508        3  \n",
      "20      Cluster              9222070        3  \n",
      "23      Cluster             10259572        3  \n",
      "24       Sector             10721998        3  \n",
      "26      Cluster              9114159        3  \n",
      "33       Sector              9759822        3  \n",
      "35      Cluster              9678994        3  \n",
      "41      Cluster              9880607        3  \n",
      "43      Cluster              9339737        3  \n",
      "45       Sector             10099807        3  \n",
      "\n",
      "Pelanggan cluster: 4\n",
      "\n",
      "   Customer_ID         Nama Pelanggan Jenis Kelamin  Umur           Profesi  \\\n",
      "5     CUST-006        Rosalina Kurnia        Wanita    24      Professional   \n",
      "8     CUST-009  Elisabeth Suryadinata        Wanita    29      Professional   \n",
      "9     CUST-010         Mario Setiawan          Pria    33      Professional   \n",
      "15    CUST-016           Bambang Rudi          Pria    35      Professional   \n",
      "16    CUST-017              Yuni Sari        Wanita    32  Ibu Rumah Tangga   \n",
      "22    CUST-023        Denny Amiruddin          Pria    34      Professional   \n",
      "27    CUST-028          Adeline Huang        Wanita    40  Ibu Rumah Tangga   \n",
      "34    CUST-035                Ida Ayu        Wanita    39      Professional   \n",
      "36    CUST-037       Felicia Tandiono        Wanita    25      Professional   \n",
      "38    CUST-039           Gina Hidayat        Wanita    20      Professional   \n",
      "40    CUST-041       Shinta Aritonang        Wanita    24  Ibu Rumah Tangga   \n",
      "42    CUST-043           Yenna Sumadi        Wanita    31      Professional   \n",
      "44    CUST-045         Rismawati Juni        Wanita    22      Professional   \n",
      "48    CUST-049        Josephine Wahab        Wanita    33  Ibu Rumah Tangga   \n",
      "\n",
      "   Tipe Residen  NilaiBelanjaSetahun  cluster  \n",
      "5       Cluster              5215541        4  \n",
      "8        Sector              5993218        4  \n",
      "9       Cluster              5257448        4  \n",
      "15      Cluster              5262521        4  \n",
      "16      Cluster              5677762        4  \n",
      "22      Cluster              5239290        4  \n",
      "27      Cluster              6631680        4  \n",
      "34       Sector              5962575        4  \n",
      "36       Sector              5972787        4  \n",
      "38      Cluster              5257775        4  \n",
      "40      Cluster              6820976        4  \n",
      "42      Cluster              5268410        4  \n",
      "44      Cluster              5211041        4  \n",
      "48       Sector              4992585        4  \n"
     ]
    }
   ],
   "source": [
    "# Menampilkan data pelanggan berdasarkan cluster nya  \n",
    "for i in range(0, 5):  \n",
    "    print('\\nPelanggan cluster: {}\\n'.format(i))  \n",
    "    print(df_final[df_final['cluster']== i])"
   ]
  },
  {
   "attachments": {},
   "cell_type": "markdown",
   "metadata": {},
   "source": [
    "**F. Visualisasi Hasil Clustering - Box Plot**\n",
    "\n",
    "*Kamu juga membuat visualisasi hasil clustering untuk dapat memudahkan kamu melakukan penamaan di tiap-tiap cluster.*\n",
    "\n",
    "*Buatlah *boxlplot* untuk memvisualisasikan setiap variabel tiap pelanggan yang dibagi berdasarkan nama cluster-nya.* "
   ]
  },
  {
   "cell_type": "code",
   "execution_count": 112,
   "metadata": {},
   "outputs": [
    {
     "data": {
      "image/png": "[encoded data removed]",
      "text/plain": [
       "<Figure size 432x288 with 1 Axes>"
      ]
     },
     "metadata": {},
     "output_type": "display_data"
    },
    {
     "data": {
      "image/png": "[encoded data removed]",
      "text/plain": [
       "<Figure size 432x288 with 1 Axes>"
      ]
     },
     "metadata": {},
     "output_type": "display_data"
    }
   ],
   "source": [
    "# Data Numerical\n",
    "kolom_numerik = ['Umur','NilaiBelanjaSetahun']  \n",
    "  \n",
    "for i in kolom_numerik:  \n",
    "    plt.figure(figsize=(6,4))  \n",
    "    ax = sns.boxplot(x = 'cluster',y = i, data = df_final)  \n",
    "    plt.title('\\nBox Plot {}\\n'.format(i), fontsize=12)  \n",
    "    plt.show() \n"
   ]
  },
  {
   "attachments": {},
   "cell_type": "markdown",
   "metadata": {},
   "source": [
    "**G. Visualisasi Hasil Clustering - Count Plot**\n",
    "\n",
    "*Buatlah **countplot** untuk memvisualisasikan setiap variabel tiap pelanggan yang dibagi berdasarkan nama cluster-nya.*"
   ]
  },
  {
   "cell_type": "code",
   "execution_count": 113,
   "metadata": {},
   "outputs": [
    {
     "data": {
      "image/png": "[encoded data removed]",
      "text/plain": [
       "<Figure size 432x288 with 1 Axes>"
      ]
     },
     "metadata": {},
     "output_type": "display_data"
    },
    {
     "data": {
      "image/png": "[encoded data removed]",
      "text/plain": [
       "<Figure size 432x288 with 1 Axes>"
      ]
     },
     "metadata": {},
     "output_type": "display_data"
    },
    {
     "data": {
      "image/png": "[encoded data removed]",
      "text/plain": [
       "<Figure size 432x288 with 1 Axes>"
      ]
     },
     "metadata": {},
     "output_type": "display_data"
    }
   ],
   "source": [
    "# Data Kategorikal  \n",
    "kolom_categorical = ['Jenis Kelamin','Profesi','Tipe Residen']  \n",
    "  \n",
    "for i in kolom_categorical:  \n",
    "    plt.figure(figsize=(6,4))  \n",
    "    ax = sns.countplot(data = df_final, x = 'cluster', hue = i )  \n",
    "    plt.title('\\nCount Plot {}\\n'.format(i), fontsize=12)  \n",
    "    ax.legend(loc=\"upper center\")  \n",
    "    for p in ax.patches:  \n",
    "        ax.annotate(format(p.get_height(), '.0f'),  \n",
    "                    (p.get_x() + p.get_width() / 2., p.get_height()),  \n",
    "                     ha = 'center',  \n",
    "                     va = 'center',  \n",
    "                     xytext = (0, 10),  \n",
    "                     textcoords = 'offset points')  \n",
    "      \n",
    "    sns.despine(right=True,top = True, left = True)  \n",
    "    ax.axes.yaxis.set_visible(False)  \n",
    "    plt.show()  \n"
   ]
  },
  {
   "attachments": {},
   "cell_type": "markdown",
   "metadata": {},
   "source": [
    "**H. Menamakan Cluster**\n",
    "\n",
    "*Dari hasil observasi yang dilakukan kamu dapat memberikan nama segmen dari tiap tiap nomor klusternya, yaitu:*"
   ]
  },
  {
   "attachments": {},
   "cell_type": "markdown",
   "metadata": {},
   "source": [
    "1. ***Cluster 0**: Diamond Young Entrepreneur, isi cluster ini adalah para wiraswasta yang memiliki nilai transaksi rata-rata mendekati 10 juta. Selain itu isi dari cluster ini memiliki umur sekitar 18 - 41 tahun dengan rata-ratanya adalah 29 tahun.*\n",
    "2. ***Cluster 1**: Diamond Senior Entrepreneur, isi cluster ini adalah para wiraswasta yang memiliki nilai transaksi rata-rata mendekati 10 juta. Isi dari cluster ini memiliki umur sekitar 45 - 64 tahun dengan rata-ratanya adalah 55 tahun.*\n",
    "3. ***Cluster 2**: Silver Students, isi cluster ini adalah para pelajar dan mahasiswa dengan rata-rata umur mereka adalah 16 tahun dan nilai belanja setahun mendekati 3 juta.*\n",
    "4. ***Cluster 3**: Gold Young Member, isi cluster ini adalah para profesional dan ibu rumah tangga yang berusia muda dengan rentang umur sekitar 20 - 40 tahun dan dengan rata-rata 30 tahun dan nilai belanja setahunnya mendekati 6 juta.*\n",
    "5. ***Cluster 4**: Gold Senior Member, isi cluster ini adalah para profesional dan ibu rumah tangga yang berusia tua dengan rentang umur 46 - 63 tahun dan dengan rata-rata 53 tahun dan nilai belanja setahunnya mendekati 6 juta.*"
   ]
  },
  {
   "cell_type": "code",
   "execution_count": 115,
   "metadata": {},
   "outputs": [
    {
     "name": "stdout",
     "output_type": "stream",
     "text": [
      "<class 'pandas.core.frame.DataFrame'>\n",
      "RangeIndex: 50 entries, 0 to 49\n",
      "Data columns (total 9 columns):\n",
      " #   Column               Non-Null Count  Dtype \n",
      "---  ------               --------------  ----- \n",
      " 0   Customer_ID          50 non-null     object\n",
      " 1   Nama Pelanggan       50 non-null     object\n",
      " 2   Jenis Kelamin        50 non-null     object\n",
      " 3   Umur                 50 non-null     int64 \n",
      " 4   Profesi              50 non-null     object\n",
      " 5   Tipe Residen         50 non-null     object\n",
      " 6   NilaiBelanjaSetahun  50 non-null     int64 \n",
      " 7   cluster              50 non-null     uint16\n",
      " 8   segmen               50 non-null     object\n",
      "dtypes: int64(2), object(6), uint16(1)\n",
      "memory usage: 3.3+ KB\n"
     ]
    },
    {
     "data": {
      "text/html": [
       "<div>\n",
       "<style scoped>\n",
       "    .dataframe tbody tr th:only-of-type {\n",
       "        vertical-align: middle;\n",
       "    }\n",
       "\n",
       "    .dataframe tbody tr th {\n",
       "        vertical-align: top;\n",
       "    }\n",
       "\n",
       "    .dataframe thead th {\n",
       "        text-align: right;\n",
       "    }\n",
       "</style>\n",
       "<table border=\"1\" class=\"dataframe\">\n",
       "  <thead>\n",
       "    <tr style=\"text-align: right;\">\n",
       "      <th></th>\n",
       "      <th>Customer_ID</th>\n",
       "      <th>Nama Pelanggan</th>\n",
       "      <th>Jenis Kelamin</th>\n",
       "      <th>Umur</th>\n",
       "      <th>Profesi</th>\n",
       "      <th>Tipe Residen</th>\n",
       "      <th>NilaiBelanjaSetahun</th>\n",
       "      <th>cluster</th>\n",
       "      <th>segmen</th>\n",
       "    </tr>\n",
       "  </thead>\n",
       "  <tbody>\n",
       "    <tr>\n",
       "      <th>0</th>\n",
       "      <td>CUST-001</td>\n",
       "      <td>Budi Anggara</td>\n",
       "      <td>Pria</td>\n",
       "      <td>58</td>\n",
       "      <td>Wiraswasta</td>\n",
       "      <td>Sector</td>\n",
       "      <td>9497927</td>\n",
       "      <td>1</td>\n",
       "      <td>Diamond Senior Member</td>\n",
       "    </tr>\n",
       "    <tr>\n",
       "      <th>1</th>\n",
       "      <td>CUST-002</td>\n",
       "      <td>Shirley Ratuwati</td>\n",
       "      <td>Wanita</td>\n",
       "      <td>14</td>\n",
       "      <td>Pelajar</td>\n",
       "      <td>Cluster</td>\n",
       "      <td>2722700</td>\n",
       "      <td>0</td>\n",
       "      <td>Diamond Young Member</td>\n",
       "    </tr>\n",
       "    <tr>\n",
       "      <th>2</th>\n",
       "      <td>CUST-003</td>\n",
       "      <td>Agus Cahyono</td>\n",
       "      <td>Pria</td>\n",
       "      <td>48</td>\n",
       "      <td>Professional</td>\n",
       "      <td>Cluster</td>\n",
       "      <td>5286429</td>\n",
       "      <td>2</td>\n",
       "      <td>Silver Member</td>\n",
       "    </tr>\n",
       "    <tr>\n",
       "      <th>3</th>\n",
       "      <td>CUST-004</td>\n",
       "      <td>Antonius Winarta</td>\n",
       "      <td>Pria</td>\n",
       "      <td>53</td>\n",
       "      <td>Professional</td>\n",
       "      <td>Cluster</td>\n",
       "      <td>5204498</td>\n",
       "      <td>2</td>\n",
       "      <td>Silver Member</td>\n",
       "    </tr>\n",
       "    <tr>\n",
       "      <th>4</th>\n",
       "      <td>CUST-005</td>\n",
       "      <td>Ibu Sri Wahyuni, IR</td>\n",
       "      <td>Wanita</td>\n",
       "      <td>41</td>\n",
       "      <td>Wiraswasta</td>\n",
       "      <td>Cluster</td>\n",
       "      <td>10615206</td>\n",
       "      <td>3</td>\n",
       "      <td>Gold Young Member</td>\n",
       "    </tr>\n",
       "  </tbody>\n",
       "</table>\n",
       "</div>"
      ],
      "text/plain": [
       "  Customer_ID       Nama Pelanggan Jenis Kelamin  Umur       Profesi  \\\n",
       "0    CUST-001         Budi Anggara          Pria    58    Wiraswasta   \n",
       "1    CUST-002     Shirley Ratuwati        Wanita    14       Pelajar   \n",
       "2    CUST-003         Agus Cahyono          Pria    48  Professional   \n",
       "3    CUST-004     Antonius Winarta          Pria    53  Professional   \n",
       "4    CUST-005  Ibu Sri Wahyuni, IR        Wanita    41    Wiraswasta   \n",
       "\n",
       "  Tipe Residen  NilaiBelanjaSetahun  cluster                 segmen  \n",
       "0       Sector              9497927        1  Diamond Senior Member  \n",
       "1      Cluster              2722700        0   Diamond Young Member  \n",
       "2      Cluster              5286429        2          Silver Member  \n",
       "3      Cluster              5204498        2          Silver Member  \n",
       "4      Cluster             10615206        3      Gold Young Member  "
      ]
     },
     "execution_count": 115,
     "metadata": {},
     "output_type": "execute_result"
    }
   ],
   "source": [
    "# Mapping nama kolom  \n",
    "df_final['segmen'] = df_final['cluster'].map({  \n",
    "    0: 'Diamond Young Member',  \n",
    "    1: 'Diamond Senior Member',  \n",
    "    2: 'Silver Member',  \n",
    "    3: 'Gold Young Member',  \n",
    "    4: 'Gold Senior Member'  \n",
    "})  \n",
    "\n",
    "df_final.info()\n",
    "df_final.head()\n"
   ]
  },
  {
   "attachments": {},
   "cell_type": "markdown",
   "metadata": {},
   "source": [
    "**I. Kesimpulan**\n",
    "\n",
    "1. *Cluster mana yang merupakan cluster yang paling baik?*\n",
    "    Jawaban : Cluster 4 \n",
    "2. *Akhirnya kamu sudah berhasil melakukan segmentasi pelanggan dan mendapatkan nama yang cocok untuk masing masing cluster, yaitu:*\n",
    "\n",
    "- ***Cluster 0**: Diamond Young Entrepreneur, isi cluster ini adalah para wiraswasta yang memiliki nilai transaksi rata-rata mendekati 10 juta. Selain itu isi dari cluster ini memiliki umur sekitar 18 - 41 tahun dengan rata-ratanya adalah 29 tahun.*\n",
    "- ***Cluster 1**: Diamond Senior Entrepreneur, isi cluster ini adalah para wiraswasta yang memiliki nilai transaksi rata-rata mendekati 10 juta. Isi dari cluster ini memiliki umur sekitar 45 - 64 tahun dengan rata-ratanya adalah 55 tahun.*\n",
    "- ***Cluster 2**: Silver Students, isi cluster ini adalah para pelajar dan mahasiswa dengan rata-rata umur mereka adalah 16 tahun dan nilai belanja setahun mendekati 3 juta.*\n",
    "- ***Cluster 3**: Gold Young Member, isi cluster ini adalah para profesional dan ibu rumah tangga yang berusia muda dengan rentang umur sekitar 20 - 40 tahun dan dengan rata-rata 30 tahun dan nilai belanja setahunnya mendekati 6 juta.*\n",
    "- ***Cluster 4**: Gold Senior Member, isi cluster ini adalah para profesional dan ibu rumah tangga yang berusia tua dengan rentang umur 46 - 63 tahun dan dengan rata-rata 53 tahun dan nilai belanja setahunnya mendekati 6 juta.*"
   ]
  },
  {
   "attachments": {},
   "cell_type": "markdown",
   "metadata": {},
   "source": [
    "**Tips :**\n",
    "\n",
    "*Pada aplikasi di industri proses penentuan cluster yang optimum bisa dilakukan juga dengan melihat matriks evaluasi lainnya seperti **sillhoute score dan callinski-harabaz score.** Untuk detailnya bisa dilihat di dokumentasi sklearn (https://scikit-learn.org/stable/modules/clustering.html#clustering-performance-evaluation).*\n",
    "\n",
    "*Selain itu penentuan jumlah cluster yang optimal juga perlu mepertimbangkan masukan dari tim yang akan menggunakan modelnya. Sehingga bisa menghasilkan cluster yang sesuai dengan kebutuhan mereka dan juga bagaimana cara mereka akan memperlakukan segmen-segmen ini.*\n",
    "\n",
    "*Tantangan lainnya adalah jumlah data yang jauh lebih banyak dibanding dengan dataset yang kamu gunakan untuk latihan ini. Sehingga waktu pemrosesan datanya dan pembuatan modelnya akan menjadi lebih lama.*"
   ]
  },
  {
   "attachments": {},
   "cell_type": "markdown",
   "metadata": {},
   "source": [
    "**Project Lanjut ke Tahap Industri - Di Customer_Segmentation_produksi**"
   ]
  }
 ],
 "metadata": {
  "kernelspec": {
   "display_name": "base",
   "language": "python",
   "name": "python3"
  },
  "language_info": {
   "codemirror_mode": {
    "name": "ipython",
    "version": 3
   },
   "file_extension": ".py",
   "mimetype": "text/x-python",
   "name": "python",
   "nbconvert_exporter": "python",
   "pygments_lexer": "ipython3",
   "version": "3.9.12 (main, Apr  4 2022, 05:22:27) [MSC v.1916 64 bit (AMD64)]"
  },
  "orig_nbformat": 4,
  "vscode": {
   "interpreter": {
    "hash": "5dfae695991f40f7f711b859ebe4404a578ce2940a1c2f7058c1cb98bd497b2c"
   }
  }
 },
 "nbformat": 4,
 "nbformat_minor": 2
}
